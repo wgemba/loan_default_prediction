{
 "cells": [
  {
   "cell_type": "code",
   "execution_count": 339,
   "metadata": {},
   "outputs": [
    {
     "name": "stdout",
     "output_type": "stream",
     "text": [
      "Successful Import\n"
     ]
    }
   ],
   "source": [
    "# Import general libraries\n",
    "import os\n",
    "import pandas as pd\n",
    "import numpy as np\n",
    "import matplotlib.pyplot as plt\n",
    "import itertools\n",
    "\n",
    "# Import Tensorflow-related libraries and functions\n",
    "import tensorflow as tf\n",
    "from tensorflow import keras\n",
    "from tensorflow.keras.models import Sequential\n",
    "from tensorflow.keras.layers import Activation, Dense\n",
    "from tensorflow.keras import optimizers\n",
    "\n",
    "# Import Scikit-Learn machine learning functions\n",
    "from sklearn.model_selection import train_test_split\n",
    "from sklearn.preprocessing import StandardScaler\n",
    "from sklearn.metrics import confusion_matrix, roc_curve, accuracy_score, precision_score, f1_score, recall_score\n",
    "\n",
    "print(\"Successful Import\")"
   ]
  },
  {
   "cell_type": "markdown",
   "metadata": {},
   "source": [
    "# Import Data"
   ]
  },
  {
   "cell_type": "code",
   "execution_count": 20,
   "metadata": {},
   "outputs": [
    {
     "data": {
      "text/html": [
       "<div>\n",
       "<style scoped>\n",
       "    .dataframe tbody tr th:only-of-type {\n",
       "        vertical-align: middle;\n",
       "    }\n",
       "\n",
       "    .dataframe tbody tr th {\n",
       "        vertical-align: top;\n",
       "    }\n",
       "\n",
       "    .dataframe thead th {\n",
       "        text-align: right;\n",
       "    }\n",
       "</style>\n",
       "<table border=\"1\" class=\"dataframe\">\n",
       "  <thead>\n",
       "    <tr style=\"text-align: right;\">\n",
       "      <th></th>\n",
       "      <th>Target_MIS_Status</th>\n",
       "      <th>Term</th>\n",
       "      <th>NoEmp</th>\n",
       "      <th>NewExist</th>\n",
       "      <th>UrbanRural</th>\n",
       "      <th>RevLineCr</th>\n",
       "      <th>DisbursementGross</th>\n",
       "      <th>GrAppv</th>\n",
       "      <th>SBA_Appv</th>\n",
       "      <th>Industry_Accommodation and food services</th>\n",
       "      <th>...</th>\n",
       "      <th>State_SD</th>\n",
       "      <th>State_TN</th>\n",
       "      <th>State_TX</th>\n",
       "      <th>State_UT</th>\n",
       "      <th>State_VA</th>\n",
       "      <th>State_VT</th>\n",
       "      <th>State_WA</th>\n",
       "      <th>State_WI</th>\n",
       "      <th>State_WV</th>\n",
       "      <th>State_WY</th>\n",
       "    </tr>\n",
       "  </thead>\n",
       "  <tbody>\n",
       "    <tr>\n",
       "      <th>0</th>\n",
       "      <td>1</td>\n",
       "      <td>84</td>\n",
       "      <td>4</td>\n",
       "      <td>1</td>\n",
       "      <td>1</td>\n",
       "      <td>1</td>\n",
       "      <td>103579.0</td>\n",
       "      <td>50000.0</td>\n",
       "      <td>25000.0</td>\n",
       "      <td>0.0</td>\n",
       "      <td>...</td>\n",
       "      <td>0.0</td>\n",
       "      <td>0.0</td>\n",
       "      <td>0.0</td>\n",
       "      <td>0.0</td>\n",
       "      <td>0.0</td>\n",
       "      <td>0.0</td>\n",
       "      <td>0.0</td>\n",
       "      <td>0.0</td>\n",
       "      <td>0.0</td>\n",
       "      <td>0.0</td>\n",
       "    </tr>\n",
       "    <tr>\n",
       "      <th>1</th>\n",
       "      <td>1</td>\n",
       "      <td>84</td>\n",
       "      <td>17</td>\n",
       "      <td>1</td>\n",
       "      <td>1</td>\n",
       "      <td>1</td>\n",
       "      <td>93896.0</td>\n",
       "      <td>30000.0</td>\n",
       "      <td>15000.0</td>\n",
       "      <td>0.0</td>\n",
       "      <td>...</td>\n",
       "      <td>0.0</td>\n",
       "      <td>0.0</td>\n",
       "      <td>0.0</td>\n",
       "      <td>0.0</td>\n",
       "      <td>0.0</td>\n",
       "      <td>0.0</td>\n",
       "      <td>0.0</td>\n",
       "      <td>0.0</td>\n",
       "      <td>0.0</td>\n",
       "      <td>0.0</td>\n",
       "    </tr>\n",
       "    <tr>\n",
       "      <th>2</th>\n",
       "      <td>1</td>\n",
       "      <td>84</td>\n",
       "      <td>7</td>\n",
       "      <td>1</td>\n",
       "      <td>1</td>\n",
       "      <td>1</td>\n",
       "      <td>136241.0</td>\n",
       "      <td>80000.0</td>\n",
       "      <td>40000.0</td>\n",
       "      <td>0.0</td>\n",
       "      <td>...</td>\n",
       "      <td>0.0</td>\n",
       "      <td>0.0</td>\n",
       "      <td>0.0</td>\n",
       "      <td>0.0</td>\n",
       "      <td>0.0</td>\n",
       "      <td>0.0</td>\n",
       "      <td>0.0</td>\n",
       "      <td>0.0</td>\n",
       "      <td>0.0</td>\n",
       "      <td>0.0</td>\n",
       "    </tr>\n",
       "    <tr>\n",
       "      <th>3</th>\n",
       "      <td>0</td>\n",
       "      <td>34</td>\n",
       "      <td>5</td>\n",
       "      <td>1</td>\n",
       "      <td>1</td>\n",
       "      <td>0</td>\n",
       "      <td>81771.0</td>\n",
       "      <td>75000.0</td>\n",
       "      <td>37500.0</td>\n",
       "      <td>0.0</td>\n",
       "      <td>...</td>\n",
       "      <td>0.0</td>\n",
       "      <td>0.0</td>\n",
       "      <td>0.0</td>\n",
       "      <td>0.0</td>\n",
       "      <td>0.0</td>\n",
       "      <td>0.0</td>\n",
       "      <td>0.0</td>\n",
       "      <td>0.0</td>\n",
       "      <td>0.0</td>\n",
       "      <td>0.0</td>\n",
       "    </tr>\n",
       "    <tr>\n",
       "      <th>4</th>\n",
       "      <td>0</td>\n",
       "      <td>37</td>\n",
       "      <td>5</td>\n",
       "      <td>1</td>\n",
       "      <td>1</td>\n",
       "      <td>0</td>\n",
       "      <td>185000.0</td>\n",
       "      <td>100000.0</td>\n",
       "      <td>50000.0</td>\n",
       "      <td>0.0</td>\n",
       "      <td>...</td>\n",
       "      <td>0.0</td>\n",
       "      <td>0.0</td>\n",
       "      <td>0.0</td>\n",
       "      <td>0.0</td>\n",
       "      <td>0.0</td>\n",
       "      <td>0.0</td>\n",
       "      <td>0.0</td>\n",
       "      <td>0.0</td>\n",
       "      <td>0.0</td>\n",
       "      <td>0.0</td>\n",
       "    </tr>\n",
       "  </tbody>\n",
       "</table>\n",
       "<p>5 rows × 82 columns</p>\n",
       "</div>"
      ],
      "text/plain": [
       "   Target_MIS_Status  Term  NoEmp  NewExist  UrbanRural  RevLineCr  \\\n",
       "0                  1    84      4         1           1          1   \n",
       "1                  1    84     17         1           1          1   \n",
       "2                  1    84      7         1           1          1   \n",
       "3                  0    34      5         1           1          0   \n",
       "4                  0    37      5         1           1          0   \n",
       "\n",
       "   DisbursementGross    GrAppv  SBA_Appv  \\\n",
       "0           103579.0   50000.0   25000.0   \n",
       "1            93896.0   30000.0   15000.0   \n",
       "2           136241.0   80000.0   40000.0   \n",
       "3            81771.0   75000.0   37500.0   \n",
       "4           185000.0  100000.0   50000.0   \n",
       "\n",
       "   Industry_Accommodation and food services  ...  State_SD  State_TN  \\\n",
       "0                                       0.0  ...       0.0       0.0   \n",
       "1                                       0.0  ...       0.0       0.0   \n",
       "2                                       0.0  ...       0.0       0.0   \n",
       "3                                       0.0  ...       0.0       0.0   \n",
       "4                                       0.0  ...       0.0       0.0   \n",
       "\n",
       "   State_TX  State_UT  State_VA  State_VT  State_WA  State_WI  State_WV  \\\n",
       "0       0.0       0.0       0.0       0.0       0.0       0.0       0.0   \n",
       "1       0.0       0.0       0.0       0.0       0.0       0.0       0.0   \n",
       "2       0.0       0.0       0.0       0.0       0.0       0.0       0.0   \n",
       "3       0.0       0.0       0.0       0.0       0.0       0.0       0.0   \n",
       "4       0.0       0.0       0.0       0.0       0.0       0.0       0.0   \n",
       "\n",
       "   State_WY  \n",
       "0       0.0  \n",
       "1       0.0  \n",
       "2       0.0  \n",
       "3       0.0  \n",
       "4       0.0  \n",
       "\n",
       "[5 rows x 82 columns]"
      ]
     },
     "execution_count": 20,
     "metadata": {},
     "output_type": "execute_result"
    }
   ],
   "source": [
    "os.chdir('C:/Users/willi/Documents/Data Science Practice Projects/Business Loan Creditworthiness Prediction/')\n",
    "df = pd.read_csv(r'SBAnational_CLEANED_num.csv')\n",
    "df.head()"
   ]
  },
  {
   "cell_type": "code",
   "execution_count": 21,
   "metadata": {},
   "outputs": [
    {
     "name": "stdout",
     "output_type": "stream",
     "text": [
      "<class 'pandas.core.frame.DataFrame'>\n",
      "RangeIndex: 189019 entries, 0 to 189018\n",
      "Data columns (total 82 columns):\n",
      " #   Column                                                                             Non-Null Count   Dtype  \n",
      "---  ------                                                                             --------------   -----  \n",
      " 0   Target_MIS_Status                                                                  189019 non-null  int64  \n",
      " 1   Term                                                                               189019 non-null  int64  \n",
      " 2   NoEmp                                                                              189019 non-null  int64  \n",
      " 3   NewExist                                                                           189019 non-null  int64  \n",
      " 4   UrbanRural                                                                         189019 non-null  int64  \n",
      " 5   RevLineCr                                                                          189019 non-null  int64  \n",
      " 6   DisbursementGross                                                                  189019 non-null  float64\n",
      " 7   GrAppv                                                                             189019 non-null  float64\n",
      " 8   SBA_Appv                                                                           189019 non-null  float64\n",
      " 9   Industry_Accommodation and food services                                           189019 non-null  float64\n",
      " 10  Industry_Administrative and support and waste management and remediation services  189019 non-null  float64\n",
      " 11  Industry_Agriculture, forestry, fishing and hunting                                189019 non-null  float64\n",
      " 12  Industry_Arts, entertainment, and recreation                                       189019 non-null  float64\n",
      " 13  Industry_Construction                                                              189019 non-null  float64\n",
      " 14  Industry_Educational services                                                      189019 non-null  float64\n",
      " 15  Industry_Finance and insurance                                                     189019 non-null  float64\n",
      " 16  Industry_Health care and social assistance                                         189019 non-null  float64\n",
      " 17  Industry_Information                                                               189019 non-null  float64\n",
      " 18  Industry_Management of companies and enterprises                                   189019 non-null  float64\n",
      " 19  Industry_Manufacturing                                                             189019 non-null  float64\n",
      " 20  Industry_Mining, quarrying, and oil and gas extraction                             189019 non-null  float64\n",
      " 21  Industry_Other services (except public administration)                             189019 non-null  float64\n",
      " 22  Industry_Professional, scientific, and technical services                          189019 non-null  float64\n",
      " 23  Industry_Public administration                                                     189019 non-null  float64\n",
      " 24  Industry_Real estate and rental and leasing                                        189019 non-null  float64\n",
      " 25  Industry_Retail trade                                                              189019 non-null  float64\n",
      " 26  Industry_Transportation and warehousing                                            189019 non-null  float64\n",
      " 27  Industry_Utilities                                                                 189019 non-null  float64\n",
      " 28  Industry_Wholesale trade                                                           189019 non-null  float64\n",
      " 29  latitude                                                                           189019 non-null  float64\n",
      " 30  longitude                                                                          189019 non-null  float64\n",
      " 31  State_AK                                                                           189019 non-null  float64\n",
      " 32  State_AL                                                                           189019 non-null  float64\n",
      " 33  State_AR                                                                           189019 non-null  float64\n",
      " 34  State_AZ                                                                           189019 non-null  float64\n",
      " 35  State_CA                                                                           189019 non-null  float64\n",
      " 36  State_CO                                                                           189019 non-null  float64\n",
      " 37  State_CT                                                                           189019 non-null  float64\n",
      " 38  State_DC                                                                           189019 non-null  float64\n",
      " 39  State_DE                                                                           189019 non-null  float64\n",
      " 40  State_FL                                                                           189019 non-null  float64\n",
      " 41  State_GA                                                                           189019 non-null  float64\n",
      " 42  State_HI                                                                           189019 non-null  float64\n",
      " 43  State_IA                                                                           189019 non-null  float64\n",
      " 44  State_ID                                                                           189019 non-null  float64\n",
      " 45  State_IL                                                                           189019 non-null  float64\n",
      " 46  State_IN                                                                           189019 non-null  float64\n",
      " 47  State_KS                                                                           189019 non-null  float64\n",
      " 48  State_KY                                                                           189019 non-null  float64\n",
      " 49  State_LA                                                                           189019 non-null  float64\n",
      " 50  State_MA                                                                           189019 non-null  float64\n",
      " 51  State_MD                                                                           189019 non-null  float64\n",
      " 52  State_ME                                                                           189019 non-null  float64\n",
      " 53  State_MI                                                                           189019 non-null  float64\n",
      " 54  State_MN                                                                           189019 non-null  float64\n",
      " 55  State_MO                                                                           189019 non-null  float64\n",
      " 56  State_MS                                                                           189019 non-null  float64\n",
      " 57  State_MT                                                                           189019 non-null  float64\n",
      " 58  State_NC                                                                           189019 non-null  float64\n",
      " 59  State_ND                                                                           189019 non-null  float64\n",
      " 60  State_NE                                                                           189019 non-null  float64\n",
      " 61  State_NH                                                                           189019 non-null  float64\n",
      " 62  State_NJ                                                                           189019 non-null  float64\n",
      " 63  State_NM                                                                           189019 non-null  float64\n",
      " 64  State_NV                                                                           189019 non-null  float64\n",
      " 65  State_NY                                                                           189019 non-null  float64\n",
      " 66  State_OH                                                                           189019 non-null  float64\n",
      " 67  State_OK                                                                           189019 non-null  float64\n",
      " 68  State_OR                                                                           189019 non-null  float64\n",
      " 69  State_PA                                                                           189019 non-null  float64\n",
      " 70  State_RI                                                                           189019 non-null  float64\n",
      " 71  State_SC                                                                           189019 non-null  float64\n",
      " 72  State_SD                                                                           189019 non-null  float64\n",
      " 73  State_TN                                                                           189019 non-null  float64\n",
      " 74  State_TX                                                                           189019 non-null  float64\n",
      " 75  State_UT                                                                           189019 non-null  float64\n",
      " 76  State_VA                                                                           189019 non-null  float64\n",
      " 77  State_VT                                                                           189019 non-null  float64\n",
      " 78  State_WA                                                                           189019 non-null  float64\n",
      " 79  State_WI                                                                           189019 non-null  float64\n",
      " 80  State_WV                                                                           189019 non-null  float64\n",
      " 81  State_WY                                                                           189019 non-null  float64\n",
      "dtypes: float64(76), int64(6)\n",
      "memory usage: 118.3 MB\n"
     ]
    }
   ],
   "source": [
    "df.info()"
   ]
  },
  {
   "cell_type": "code",
   "execution_count": 22,
   "metadata": {},
   "outputs": [
    {
     "name": "stdout",
     "output_type": "stream",
     "text": [
      "Index(['Target_MIS_Status', 'Term', 'NoEmp', 'NewExist', 'UrbanRural',\n",
      "       'RevLineCr', 'DisbursementGross', 'GrAppv', 'SBA_Appv',\n",
      "       'Industry_Accommodation and food services',\n",
      "       'Industry_Administrative and support and waste management and remediation services',\n",
      "       'Industry_Agriculture, forestry, fishing and hunting',\n",
      "       'Industry_Arts, entertainment, and recreation', 'Industry_Construction',\n",
      "       'Industry_Educational services', 'Industry_Finance and insurance',\n",
      "       'Industry_Health care and social assistance', 'Industry_Information',\n",
      "       'Industry_Management of companies and enterprises',\n",
      "       'Industry_Manufacturing',\n",
      "       'Industry_Mining, quarrying, and oil and gas extraction',\n",
      "       'Industry_Other services (except public administration)',\n",
      "       'Industry_Professional, scientific, and technical services',\n",
      "       'Industry_Public administration',\n",
      "       'Industry_Real estate and rental and leasing', 'Industry_Retail trade',\n",
      "       'Industry_Transportation and warehousing', 'Industry_Utilities',\n",
      "       'Industry_Wholesale trade', 'latitude', 'longitude', 'State_AK',\n",
      "       'State_AL', 'State_AR', 'State_AZ', 'State_CA', 'State_CO', 'State_CT',\n",
      "       'State_DC', 'State_DE', 'State_FL', 'State_GA', 'State_HI', 'State_IA',\n",
      "       'State_ID', 'State_IL', 'State_IN', 'State_KS', 'State_KY', 'State_LA',\n",
      "       'State_MA', 'State_MD', 'State_ME', 'State_MI', 'State_MN', 'State_MO',\n",
      "       'State_MS', 'State_MT', 'State_NC', 'State_ND', 'State_NE', 'State_NH',\n",
      "       'State_NJ', 'State_NM', 'State_NV', 'State_NY', 'State_OH', 'State_OK',\n",
      "       'State_OR', 'State_PA', 'State_RI', 'State_SC', 'State_SD', 'State_TN',\n",
      "       'State_TX', 'State_UT', 'State_VA', 'State_VT', 'State_WA', 'State_WI',\n",
      "       'State_WV', 'State_WY'],\n",
      "      dtype='object')\n"
     ]
    }
   ],
   "source": [
    "print(df.columns)"
   ]
  },
  {
   "cell_type": "markdown",
   "metadata": {},
   "source": [
    "Binary Data Dictionary:\n",
    "\n",
    "'Target_MIS_Status' : '0' = 'Default', '1' = 'Paid in Full'\n",
    "\n",
    "'NewExist' : '0' = 'Existing Business', '2' = 'New Business'\n",
    "\n",
    "'UrbanRural' : '0' = 'Urban', '2' = 'Rural'\n",
    "\n",
    "'RevLineCr' : Revolving Line of Credit : '0' = 'No', '2' = 'Yes'"
   ]
  },
  {
   "cell_type": "markdown",
   "metadata": {},
   "source": [
    "# Neural Network Prediction"
   ]
  },
  {
   "cell_type": "markdown",
   "metadata": {},
   "source": [
    "## Data Sampling"
   ]
  },
  {
   "cell_type": "code",
   "execution_count": 26,
   "metadata": {},
   "outputs": [
    {
     "data": {
      "text/html": [
       "<div>\n",
       "<style scoped>\n",
       "    .dataframe tbody tr th:only-of-type {\n",
       "        vertical-align: middle;\n",
       "    }\n",
       "\n",
       "    .dataframe tbody tr th {\n",
       "        vertical-align: top;\n",
       "    }\n",
       "\n",
       "    .dataframe thead th {\n",
       "        text-align: right;\n",
       "    }\n",
       "</style>\n",
       "<table border=\"1\" class=\"dataframe\">\n",
       "  <thead>\n",
       "    <tr style=\"text-align: right;\">\n",
       "      <th></th>\n",
       "      <th>Target_MIS_Status</th>\n",
       "      <th>Term</th>\n",
       "      <th>NoEmp</th>\n",
       "      <th>NewExist</th>\n",
       "      <th>UrbanRural</th>\n",
       "      <th>RevLineCr</th>\n",
       "      <th>DisbursementGross</th>\n",
       "      <th>GrAppv</th>\n",
       "      <th>SBA_Appv</th>\n",
       "      <th>Industry_Accommodation and food services</th>\n",
       "      <th>...</th>\n",
       "      <th>State_SD</th>\n",
       "      <th>State_TN</th>\n",
       "      <th>State_TX</th>\n",
       "      <th>State_UT</th>\n",
       "      <th>State_VA</th>\n",
       "      <th>State_VT</th>\n",
       "      <th>State_WA</th>\n",
       "      <th>State_WI</th>\n",
       "      <th>State_WV</th>\n",
       "      <th>State_WY</th>\n",
       "    </tr>\n",
       "  </thead>\n",
       "  <tbody>\n",
       "    <tr>\n",
       "      <th>38980</th>\n",
       "      <td>1</td>\n",
       "      <td>84</td>\n",
       "      <td>2</td>\n",
       "      <td>0</td>\n",
       "      <td>0</td>\n",
       "      <td>1</td>\n",
       "      <td>18123.0</td>\n",
       "      <td>5000.0</td>\n",
       "      <td>2500.0</td>\n",
       "      <td>0.0</td>\n",
       "      <td>...</td>\n",
       "      <td>0.0</td>\n",
       "      <td>0.0</td>\n",
       "      <td>0.0</td>\n",
       "      <td>0.0</td>\n",
       "      <td>0.0</td>\n",
       "      <td>0.0</td>\n",
       "      <td>0.0</td>\n",
       "      <td>0.0</td>\n",
       "      <td>0.0</td>\n",
       "      <td>0.0</td>\n",
       "    </tr>\n",
       "    <tr>\n",
       "      <th>3240</th>\n",
       "      <td>0</td>\n",
       "      <td>19</td>\n",
       "      <td>1</td>\n",
       "      <td>0</td>\n",
       "      <td>0</td>\n",
       "      <td>1</td>\n",
       "      <td>94440.0</td>\n",
       "      <td>70000.0</td>\n",
       "      <td>35000.0</td>\n",
       "      <td>0.0</td>\n",
       "      <td>...</td>\n",
       "      <td>0.0</td>\n",
       "      <td>0.0</td>\n",
       "      <td>0.0</td>\n",
       "      <td>0.0</td>\n",
       "      <td>0.0</td>\n",
       "      <td>0.0</td>\n",
       "      <td>0.0</td>\n",
       "      <td>0.0</td>\n",
       "      <td>0.0</td>\n",
       "      <td>0.0</td>\n",
       "    </tr>\n",
       "    <tr>\n",
       "      <th>96773</th>\n",
       "      <td>1</td>\n",
       "      <td>72</td>\n",
       "      <td>9</td>\n",
       "      <td>0</td>\n",
       "      <td>0</td>\n",
       "      <td>0</td>\n",
       "      <td>125000.0</td>\n",
       "      <td>125000.0</td>\n",
       "      <td>62500.0</td>\n",
       "      <td>0.0</td>\n",
       "      <td>...</td>\n",
       "      <td>0.0</td>\n",
       "      <td>0.0</td>\n",
       "      <td>0.0</td>\n",
       "      <td>0.0</td>\n",
       "      <td>0.0</td>\n",
       "      <td>0.0</td>\n",
       "      <td>0.0</td>\n",
       "      <td>0.0</td>\n",
       "      <td>0.0</td>\n",
       "      <td>0.0</td>\n",
       "    </tr>\n",
       "    <tr>\n",
       "      <th>176960</th>\n",
       "      <td>0</td>\n",
       "      <td>57</td>\n",
       "      <td>2</td>\n",
       "      <td>0</td>\n",
       "      <td>0</td>\n",
       "      <td>1</td>\n",
       "      <td>66955.0</td>\n",
       "      <td>30000.0</td>\n",
       "      <td>15000.0</td>\n",
       "      <td>0.0</td>\n",
       "      <td>...</td>\n",
       "      <td>0.0</td>\n",
       "      <td>0.0</td>\n",
       "      <td>0.0</td>\n",
       "      <td>0.0</td>\n",
       "      <td>0.0</td>\n",
       "      <td>0.0</td>\n",
       "      <td>0.0</td>\n",
       "      <td>0.0</td>\n",
       "      <td>0.0</td>\n",
       "      <td>0.0</td>\n",
       "    </tr>\n",
       "    <tr>\n",
       "      <th>31768</th>\n",
       "      <td>1</td>\n",
       "      <td>84</td>\n",
       "      <td>4</td>\n",
       "      <td>0</td>\n",
       "      <td>1</td>\n",
       "      <td>0</td>\n",
       "      <td>229700.0</td>\n",
       "      <td>229700.0</td>\n",
       "      <td>114850.0</td>\n",
       "      <td>0.0</td>\n",
       "      <td>...</td>\n",
       "      <td>0.0</td>\n",
       "      <td>0.0</td>\n",
       "      <td>0.0</td>\n",
       "      <td>0.0</td>\n",
       "      <td>0.0</td>\n",
       "      <td>0.0</td>\n",
       "      <td>0.0</td>\n",
       "      <td>0.0</td>\n",
       "      <td>1.0</td>\n",
       "      <td>0.0</td>\n",
       "    </tr>\n",
       "  </tbody>\n",
       "</table>\n",
       "<p>5 rows × 82 columns</p>\n",
       "</div>"
      ],
      "text/plain": [
       "        Target_MIS_Status  Term  NoEmp  NewExist  UrbanRural  RevLineCr  \\\n",
       "38980                   1    84      2         0           0          1   \n",
       "3240                    0    19      1         0           0          1   \n",
       "96773                   1    72      9         0           0          0   \n",
       "176960                  0    57      2         0           0          1   \n",
       "31768                   1    84      4         0           1          0   \n",
       "\n",
       "        DisbursementGross    GrAppv  SBA_Appv  \\\n",
       "38980             18123.0    5000.0    2500.0   \n",
       "3240              94440.0   70000.0   35000.0   \n",
       "96773            125000.0  125000.0   62500.0   \n",
       "176960            66955.0   30000.0   15000.0   \n",
       "31768            229700.0  229700.0  114850.0   \n",
       "\n",
       "        Industry_Accommodation and food services  ...  State_SD  State_TN  \\\n",
       "38980                                        0.0  ...       0.0       0.0   \n",
       "3240                                         0.0  ...       0.0       0.0   \n",
       "96773                                        0.0  ...       0.0       0.0   \n",
       "176960                                       0.0  ...       0.0       0.0   \n",
       "31768                                        0.0  ...       0.0       0.0   \n",
       "\n",
       "        State_TX  State_UT  State_VA  State_VT  State_WA  State_WI  State_WV  \\\n",
       "38980        0.0       0.0       0.0       0.0       0.0       0.0       0.0   \n",
       "3240         0.0       0.0       0.0       0.0       0.0       0.0       0.0   \n",
       "96773        0.0       0.0       0.0       0.0       0.0       0.0       0.0   \n",
       "176960       0.0       0.0       0.0       0.0       0.0       0.0       0.0   \n",
       "31768        0.0       0.0       0.0       0.0       0.0       0.0       1.0   \n",
       "\n",
       "        State_WY  \n",
       "38980        0.0  \n",
       "3240         0.0  \n",
       "96773        0.0  \n",
       "176960       0.0  \n",
       "31768        0.0  \n",
       "\n",
       "[5 rows x 82 columns]"
      ]
     },
     "execution_count": 26,
     "metadata": {},
     "output_type": "execute_result"
    }
   ],
   "source": [
    "neuralDf = df.copy()\n",
    "neuralDf = neuralDf.sample(frac = 1) # 100% of data is randomly resuffled to ensure that it is not sorted.\n",
    "neuralDf.head()"
   ]
  },
  {
   "cell_type": "markdown",
   "metadata": {},
   "source": [
    "## Model Input Preparation "
   ]
  },
  {
   "cell_type": "markdown",
   "metadata": {},
   "source": [
    "### Scaling non-binary attributes"
   ]
  },
  {
   "attachments": {
    "image.png": {
     "image/png": "[encoded data removed]"
    }
   },
   "cell_type": "markdown",
   "metadata": {},
   "source": [
    "We will utilize the standardized scaling technique:\n",
    "\n",
    "![image.png](attachment:image.png)"
   ]
  },
  {
   "cell_type": "code",
   "execution_count": 140,
   "metadata": {},
   "outputs": [
    {
     "data": {
      "text/html": [
       "<div>\n",
       "<style scoped>\n",
       "    .dataframe tbody tr th:only-of-type {\n",
       "        vertical-align: middle;\n",
       "    }\n",
       "\n",
       "    .dataframe tbody tr th {\n",
       "        vertical-align: top;\n",
       "    }\n",
       "\n",
       "    .dataframe thead th {\n",
       "        text-align: right;\n",
       "    }\n",
       "</style>\n",
       "<table border=\"1\" class=\"dataframe\">\n",
       "  <thead>\n",
       "    <tr style=\"text-align: right;\">\n",
       "      <th></th>\n",
       "      <th>Target_MIS_Status</th>\n",
       "      <th>Term</th>\n",
       "      <th>NoEmp</th>\n",
       "      <th>NewExist</th>\n",
       "      <th>UrbanRural</th>\n",
       "      <th>RevLineCr</th>\n",
       "      <th>DisbursementGross</th>\n",
       "      <th>GrAppv</th>\n",
       "      <th>SBA_Appv</th>\n",
       "      <th>Industry_Accommodation and food services</th>\n",
       "      <th>...</th>\n",
       "      <th>State_SD</th>\n",
       "      <th>State_TN</th>\n",
       "      <th>State_TX</th>\n",
       "      <th>State_UT</th>\n",
       "      <th>State_VA</th>\n",
       "      <th>State_VT</th>\n",
       "      <th>State_WA</th>\n",
       "      <th>State_WI</th>\n",
       "      <th>State_WV</th>\n",
       "      <th>State_WY</th>\n",
       "    </tr>\n",
       "  </thead>\n",
       "  <tbody>\n",
       "    <tr>\n",
       "      <th>38980</th>\n",
       "      <td>1</td>\n",
       "      <td>0.233333</td>\n",
       "      <td>0.000250</td>\n",
       "      <td>0</td>\n",
       "      <td>0</td>\n",
       "      <td>1</td>\n",
       "      <td>0.001350</td>\n",
       "      <td>0.002001</td>\n",
       "      <td>0.001167</td>\n",
       "      <td>0.0</td>\n",
       "      <td>...</td>\n",
       "      <td>0.0</td>\n",
       "      <td>0.0</td>\n",
       "      <td>0.0</td>\n",
       "      <td>0.0</td>\n",
       "      <td>0.0</td>\n",
       "      <td>0.0</td>\n",
       "      <td>0.0</td>\n",
       "      <td>0.0</td>\n",
       "      <td>0.0</td>\n",
       "      <td>0.0</td>\n",
       "    </tr>\n",
       "    <tr>\n",
       "      <th>3240</th>\n",
       "      <td>0</td>\n",
       "      <td>0.052778</td>\n",
       "      <td>0.000125</td>\n",
       "      <td>0</td>\n",
       "      <td>0</td>\n",
       "      <td>1</td>\n",
       "      <td>0.008645</td>\n",
       "      <td>0.034517</td>\n",
       "      <td>0.020122</td>\n",
       "      <td>0.0</td>\n",
       "      <td>...</td>\n",
       "      <td>0.0</td>\n",
       "      <td>0.0</td>\n",
       "      <td>0.0</td>\n",
       "      <td>0.0</td>\n",
       "      <td>0.0</td>\n",
       "      <td>0.0</td>\n",
       "      <td>0.0</td>\n",
       "      <td>0.0</td>\n",
       "      <td>0.0</td>\n",
       "      <td>0.0</td>\n",
       "    </tr>\n",
       "    <tr>\n",
       "      <th>96773</th>\n",
       "      <td>1</td>\n",
       "      <td>0.200000</td>\n",
       "      <td>0.001125</td>\n",
       "      <td>0</td>\n",
       "      <td>0</td>\n",
       "      <td>0</td>\n",
       "      <td>0.011567</td>\n",
       "      <td>0.062031</td>\n",
       "      <td>0.036162</td>\n",
       "      <td>0.0</td>\n",
       "      <td>...</td>\n",
       "      <td>0.0</td>\n",
       "      <td>0.0</td>\n",
       "      <td>0.0</td>\n",
       "      <td>0.0</td>\n",
       "      <td>0.0</td>\n",
       "      <td>0.0</td>\n",
       "      <td>0.0</td>\n",
       "      <td>0.0</td>\n",
       "      <td>0.0</td>\n",
       "      <td>0.0</td>\n",
       "    </tr>\n",
       "    <tr>\n",
       "      <th>176960</th>\n",
       "      <td>0</td>\n",
       "      <td>0.158333</td>\n",
       "      <td>0.000250</td>\n",
       "      <td>0</td>\n",
       "      <td>0</td>\n",
       "      <td>1</td>\n",
       "      <td>0.006018</td>\n",
       "      <td>0.014507</td>\n",
       "      <td>0.008457</td>\n",
       "      <td>0.0</td>\n",
       "      <td>...</td>\n",
       "      <td>0.0</td>\n",
       "      <td>0.0</td>\n",
       "      <td>0.0</td>\n",
       "      <td>0.0</td>\n",
       "      <td>0.0</td>\n",
       "      <td>0.0</td>\n",
       "      <td>0.0</td>\n",
       "      <td>0.0</td>\n",
       "      <td>0.0</td>\n",
       "      <td>0.0</td>\n",
       "    </tr>\n",
       "    <tr>\n",
       "      <th>31768</th>\n",
       "      <td>1</td>\n",
       "      <td>0.233333</td>\n",
       "      <td>0.000500</td>\n",
       "      <td>0</td>\n",
       "      <td>1</td>\n",
       "      <td>0</td>\n",
       "      <td>0.021575</td>\n",
       "      <td>0.114407</td>\n",
       "      <td>0.066696</td>\n",
       "      <td>0.0</td>\n",
       "      <td>...</td>\n",
       "      <td>0.0</td>\n",
       "      <td>0.0</td>\n",
       "      <td>0.0</td>\n",
       "      <td>0.0</td>\n",
       "      <td>0.0</td>\n",
       "      <td>0.0</td>\n",
       "      <td>0.0</td>\n",
       "      <td>0.0</td>\n",
       "      <td>1.0</td>\n",
       "      <td>0.0</td>\n",
       "    </tr>\n",
       "  </tbody>\n",
       "</table>\n",
       "<p>5 rows × 82 columns</p>\n",
       "</div>"
      ],
      "text/plain": [
       "        Target_MIS_Status      Term     NoEmp  NewExist  UrbanRural  \\\n",
       "38980                   1  0.233333  0.000250         0           0   \n",
       "3240                    0  0.052778  0.000125         0           0   \n",
       "96773                   1  0.200000  0.001125         0           0   \n",
       "176960                  0  0.158333  0.000250         0           0   \n",
       "31768                   1  0.233333  0.000500         0           1   \n",
       "\n",
       "        RevLineCr  DisbursementGross    GrAppv  SBA_Appv  \\\n",
       "38980           1           0.001350  0.002001  0.001167   \n",
       "3240            1           0.008645  0.034517  0.020122   \n",
       "96773           0           0.011567  0.062031  0.036162   \n",
       "176960          1           0.006018  0.014507  0.008457   \n",
       "31768           0           0.021575  0.114407  0.066696   \n",
       "\n",
       "        Industry_Accommodation and food services  ...  State_SD  State_TN  \\\n",
       "38980                                        0.0  ...       0.0       0.0   \n",
       "3240                                         0.0  ...       0.0       0.0   \n",
       "96773                                        0.0  ...       0.0       0.0   \n",
       "176960                                       0.0  ...       0.0       0.0   \n",
       "31768                                        0.0  ...       0.0       0.0   \n",
       "\n",
       "        State_TX  State_UT  State_VA  State_VT  State_WA  State_WI  State_WV  \\\n",
       "38980        0.0       0.0       0.0       0.0       0.0       0.0       0.0   \n",
       "3240         0.0       0.0       0.0       0.0       0.0       0.0       0.0   \n",
       "96773        0.0       0.0       0.0       0.0       0.0       0.0       0.0   \n",
       "176960       0.0       0.0       0.0       0.0       0.0       0.0       0.0   \n",
       "31768        0.0       0.0       0.0       0.0       0.0       0.0       1.0   \n",
       "\n",
       "        State_WY  \n",
       "38980        0.0  \n",
       "3240         0.0  \n",
       "96773        0.0  \n",
       "176960       0.0  \n",
       "31768        0.0  \n",
       "\n",
       "[5 rows x 82 columns]"
      ]
     },
     "execution_count": 140,
     "metadata": {},
     "output_type": "execute_result"
    }
   ],
   "source": [
    "scaler = StandardScaler()\n",
    "\n",
    "nonbinfeats = ['Term', 'NoEmp', 'DisbursementGross', 'GrAppv', 'SBA_Appv']\n",
    "\n",
    "neuralDf_scaled = neuralDf.copy()\n",
    "neuralDf_scaled[nonbinfeats] = scaler.fit_transform(neuralDf_scaled[nonbinfeats])\n",
    "neuralDf_scaled.head()"
   ]
  },
  {
   "cell_type": "code",
   "execution_count": 141,
   "metadata": {},
   "outputs": [
    {
     "data": {
      "text/html": [
       "<div>\n",
       "<style scoped>\n",
       "    .dataframe tbody tr th:only-of-type {\n",
       "        vertical-align: middle;\n",
       "    }\n",
       "\n",
       "    .dataframe tbody tr th {\n",
       "        vertical-align: top;\n",
       "    }\n",
       "\n",
       "    .dataframe thead th {\n",
       "        text-align: right;\n",
       "    }\n",
       "</style>\n",
       "<table border=\"1\" class=\"dataframe\">\n",
       "  <thead>\n",
       "    <tr style=\"text-align: right;\">\n",
       "      <th></th>\n",
       "      <th>Target_MIS_Status</th>\n",
       "      <th>Term</th>\n",
       "      <th>NoEmp</th>\n",
       "      <th>NewExist</th>\n",
       "      <th>UrbanRural</th>\n",
       "      <th>RevLineCr</th>\n",
       "      <th>DisbursementGross</th>\n",
       "      <th>GrAppv</th>\n",
       "      <th>SBA_Appv</th>\n",
       "      <th>Industry_Accommodation and food services</th>\n",
       "      <th>...</th>\n",
       "      <th>State_SD</th>\n",
       "      <th>State_TN</th>\n",
       "      <th>State_TX</th>\n",
       "      <th>State_UT</th>\n",
       "      <th>State_VA</th>\n",
       "      <th>State_VT</th>\n",
       "      <th>State_WA</th>\n",
       "      <th>State_WI</th>\n",
       "      <th>State_WV</th>\n",
       "      <th>State_WY</th>\n",
       "    </tr>\n",
       "  </thead>\n",
       "  <tbody>\n",
       "    <tr>\n",
       "      <th>count</th>\n",
       "      <td>189019.000000</td>\n",
       "      <td>189019.000000</td>\n",
       "      <td>189019.000000</td>\n",
       "      <td>189019.000000</td>\n",
       "      <td>189019.000000</td>\n",
       "      <td>189019.000000</td>\n",
       "      <td>189019.000000</td>\n",
       "      <td>189019.000000</td>\n",
       "      <td>189019.000000</td>\n",
       "      <td>189019.000000</td>\n",
       "      <td>...</td>\n",
       "      <td>189019.000000</td>\n",
       "      <td>189019.000000</td>\n",
       "      <td>189019.000000</td>\n",
       "      <td>189019.000000</td>\n",
       "      <td>189019.000000</td>\n",
       "      <td>189019.000000</td>\n",
       "      <td>189019.000000</td>\n",
       "      <td>189019.000000</td>\n",
       "      <td>189019.000000</td>\n",
       "      <td>189019.000000</td>\n",
       "    </tr>\n",
       "    <tr>\n",
       "      <th>mean</th>\n",
       "      <td>0.614891</td>\n",
       "      <td>0.188847</td>\n",
       "      <td>0.000760</td>\n",
       "      <td>0.310784</td>\n",
       "      <td>0.168999</td>\n",
       "      <td>0.572170</td>\n",
       "      <td>0.010334</td>\n",
       "      <td>0.041302</td>\n",
       "      <td>0.030631</td>\n",
       "      <td>0.087526</td>\n",
       "      <td>...</td>\n",
       "      <td>0.001619</td>\n",
       "      <td>0.009264</td>\n",
       "      <td>0.064200</td>\n",
       "      <td>0.030166</td>\n",
       "      <td>0.015046</td>\n",
       "      <td>0.004280</td>\n",
       "      <td>0.024400</td>\n",
       "      <td>0.020934</td>\n",
       "      <td>0.002217</td>\n",
       "      <td>0.001074</td>\n",
       "    </tr>\n",
       "    <tr>\n",
       "      <th>std</th>\n",
       "      <td>0.486622</td>\n",
       "      <td>0.104341</td>\n",
       "      <td>0.003391</td>\n",
       "      <td>0.462816</td>\n",
       "      <td>0.374752</td>\n",
       "      <td>0.494765</td>\n",
       "      <td>0.019199</td>\n",
       "      <td>0.087685</td>\n",
       "      <td>0.076486</td>\n",
       "      <td>0.282604</td>\n",
       "      <td>...</td>\n",
       "      <td>0.040203</td>\n",
       "      <td>0.095801</td>\n",
       "      <td>0.245109</td>\n",
       "      <td>0.171045</td>\n",
       "      <td>0.121737</td>\n",
       "      <td>0.065282</td>\n",
       "      <td>0.154287</td>\n",
       "      <td>0.143165</td>\n",
       "      <td>0.047030</td>\n",
       "      <td>0.032754</td>\n",
       "    </tr>\n",
       "    <tr>\n",
       "      <th>min</th>\n",
       "      <td>0.000000</td>\n",
       "      <td>0.000000</td>\n",
       "      <td>0.000000</td>\n",
       "      <td>0.000000</td>\n",
       "      <td>0.000000</td>\n",
       "      <td>0.000000</td>\n",
       "      <td>0.000000</td>\n",
       "      <td>0.000000</td>\n",
       "      <td>0.000000</td>\n",
       "      <td>0.000000</td>\n",
       "      <td>...</td>\n",
       "      <td>0.000000</td>\n",
       "      <td>0.000000</td>\n",
       "      <td>0.000000</td>\n",
       "      <td>0.000000</td>\n",
       "      <td>0.000000</td>\n",
       "      <td>0.000000</td>\n",
       "      <td>0.000000</td>\n",
       "      <td>0.000000</td>\n",
       "      <td>0.000000</td>\n",
       "      <td>0.000000</td>\n",
       "    </tr>\n",
       "    <tr>\n",
       "      <th>25%</th>\n",
       "      <td>0.000000</td>\n",
       "      <td>0.127778</td>\n",
       "      <td>0.000125</td>\n",
       "      <td>0.000000</td>\n",
       "      <td>0.000000</td>\n",
       "      <td>0.000000</td>\n",
       "      <td>0.002007</td>\n",
       "      <td>0.009505</td>\n",
       "      <td>0.006707</td>\n",
       "      <td>0.000000</td>\n",
       "      <td>...</td>\n",
       "      <td>0.000000</td>\n",
       "      <td>0.000000</td>\n",
       "      <td>0.000000</td>\n",
       "      <td>0.000000</td>\n",
       "      <td>0.000000</td>\n",
       "      <td>0.000000</td>\n",
       "      <td>0.000000</td>\n",
       "      <td>0.000000</td>\n",
       "      <td>0.000000</td>\n",
       "      <td>0.000000</td>\n",
       "    </tr>\n",
       "    <tr>\n",
       "      <th>50%</th>\n",
       "      <td>1.000000</td>\n",
       "      <td>0.200000</td>\n",
       "      <td>0.000375</td>\n",
       "      <td>0.000000</td>\n",
       "      <td>0.000000</td>\n",
       "      <td>1.000000</td>\n",
       "      <td>0.004436</td>\n",
       "      <td>0.017009</td>\n",
       "      <td>0.011257</td>\n",
       "      <td>0.000000</td>\n",
       "      <td>...</td>\n",
       "      <td>0.000000</td>\n",
       "      <td>0.000000</td>\n",
       "      <td>0.000000</td>\n",
       "      <td>0.000000</td>\n",
       "      <td>0.000000</td>\n",
       "      <td>0.000000</td>\n",
       "      <td>0.000000</td>\n",
       "      <td>0.000000</td>\n",
       "      <td>0.000000</td>\n",
       "      <td>0.000000</td>\n",
       "    </tr>\n",
       "    <tr>\n",
       "      <th>75%</th>\n",
       "      <td>1.000000</td>\n",
       "      <td>0.233333</td>\n",
       "      <td>0.000750</td>\n",
       "      <td>1.000000</td>\n",
       "      <td>0.000000</td>\n",
       "      <td>1.000000</td>\n",
       "      <td>0.010037</td>\n",
       "      <td>0.037019</td>\n",
       "      <td>0.022164</td>\n",
       "      <td>0.000000</td>\n",
       "      <td>...</td>\n",
       "      <td>0.000000</td>\n",
       "      <td>0.000000</td>\n",
       "      <td>0.000000</td>\n",
       "      <td>0.000000</td>\n",
       "      <td>0.000000</td>\n",
       "      <td>0.000000</td>\n",
       "      <td>0.000000</td>\n",
       "      <td>0.000000</td>\n",
       "      <td>0.000000</td>\n",
       "      <td>0.000000</td>\n",
       "    </tr>\n",
       "    <tr>\n",
       "      <th>max</th>\n",
       "      <td>1.000000</td>\n",
       "      <td>1.000000</td>\n",
       "      <td>1.000000</td>\n",
       "      <td>1.000000</td>\n",
       "      <td>1.000000</td>\n",
       "      <td>1.000000</td>\n",
       "      <td>1.000000</td>\n",
       "      <td>1.000000</td>\n",
       "      <td>1.000000</td>\n",
       "      <td>1.000000</td>\n",
       "      <td>...</td>\n",
       "      <td>1.000000</td>\n",
       "      <td>1.000000</td>\n",
       "      <td>1.000000</td>\n",
       "      <td>1.000000</td>\n",
       "      <td>1.000000</td>\n",
       "      <td>1.000000</td>\n",
       "      <td>1.000000</td>\n",
       "      <td>1.000000</td>\n",
       "      <td>1.000000</td>\n",
       "      <td>1.000000</td>\n",
       "    </tr>\n",
       "  </tbody>\n",
       "</table>\n",
       "<p>8 rows × 82 columns</p>\n",
       "</div>"
      ],
      "text/plain": [
       "       Target_MIS_Status           Term          NoEmp       NewExist  \\\n",
       "count      189019.000000  189019.000000  189019.000000  189019.000000   \n",
       "mean            0.614891       0.188847       0.000760       0.310784   \n",
       "std             0.486622       0.104341       0.003391       0.462816   \n",
       "min             0.000000       0.000000       0.000000       0.000000   \n",
       "25%             0.000000       0.127778       0.000125       0.000000   \n",
       "50%             1.000000       0.200000       0.000375       0.000000   \n",
       "75%             1.000000       0.233333       0.000750       1.000000   \n",
       "max             1.000000       1.000000       1.000000       1.000000   \n",
       "\n",
       "          UrbanRural      RevLineCr  DisbursementGross         GrAppv  \\\n",
       "count  189019.000000  189019.000000      189019.000000  189019.000000   \n",
       "mean        0.168999       0.572170           0.010334       0.041302   \n",
       "std         0.374752       0.494765           0.019199       0.087685   \n",
       "min         0.000000       0.000000           0.000000       0.000000   \n",
       "25%         0.000000       0.000000           0.002007       0.009505   \n",
       "50%         0.000000       1.000000           0.004436       0.017009   \n",
       "75%         0.000000       1.000000           0.010037       0.037019   \n",
       "max         1.000000       1.000000           1.000000       1.000000   \n",
       "\n",
       "            SBA_Appv  Industry_Accommodation and food services  ...  \\\n",
       "count  189019.000000                             189019.000000  ...   \n",
       "mean        0.030631                                  0.087526  ...   \n",
       "std         0.076486                                  0.282604  ...   \n",
       "min         0.000000                                  0.000000  ...   \n",
       "25%         0.006707                                  0.000000  ...   \n",
       "50%         0.011257                                  0.000000  ...   \n",
       "75%         0.022164                                  0.000000  ...   \n",
       "max         1.000000                                  1.000000  ...   \n",
       "\n",
       "            State_SD       State_TN       State_TX       State_UT  \\\n",
       "count  189019.000000  189019.000000  189019.000000  189019.000000   \n",
       "mean        0.001619       0.009264       0.064200       0.030166   \n",
       "std         0.040203       0.095801       0.245109       0.171045   \n",
       "min         0.000000       0.000000       0.000000       0.000000   \n",
       "25%         0.000000       0.000000       0.000000       0.000000   \n",
       "50%         0.000000       0.000000       0.000000       0.000000   \n",
       "75%         0.000000       0.000000       0.000000       0.000000   \n",
       "max         1.000000       1.000000       1.000000       1.000000   \n",
       "\n",
       "            State_VA       State_VT       State_WA       State_WI  \\\n",
       "count  189019.000000  189019.000000  189019.000000  189019.000000   \n",
       "mean        0.015046       0.004280       0.024400       0.020934   \n",
       "std         0.121737       0.065282       0.154287       0.143165   \n",
       "min         0.000000       0.000000       0.000000       0.000000   \n",
       "25%         0.000000       0.000000       0.000000       0.000000   \n",
       "50%         0.000000       0.000000       0.000000       0.000000   \n",
       "75%         0.000000       0.000000       0.000000       0.000000   \n",
       "max         1.000000       1.000000       1.000000       1.000000   \n",
       "\n",
       "            State_WV       State_WY  \n",
       "count  189019.000000  189019.000000  \n",
       "mean        0.002217       0.001074  \n",
       "std         0.047030       0.032754  \n",
       "min         0.000000       0.000000  \n",
       "25%         0.000000       0.000000  \n",
       "50%         0.000000       0.000000  \n",
       "75%         0.000000       0.000000  \n",
       "max         1.000000       1.000000  \n",
       "\n",
       "[8 rows x 82 columns]"
      ]
     },
     "execution_count": 141,
     "metadata": {},
     "output_type": "execute_result"
    }
   ],
   "source": [
    "neuralDf_scaled.describe()"
   ]
  },
  {
   "cell_type": "markdown",
   "metadata": {},
   "source": [
    "### Split data into train/test splits"
   ]
  },
  {
   "cell_type": "code",
   "execution_count": 142,
   "metadata": {},
   "outputs": [
    {
     "name": "stdout",
     "output_type": "stream",
     "text": [
      "X_train shape:  (151215, 81)\n",
      "X_test shape:  (37804, 81)\n",
      "y_train shape:  (151215,)\n",
      "y_test shape:  (37804,)\n"
     ]
    }
   ],
   "source": [
    "X = neuralDf_scaled.drop(columns = ['Target_MIS_Status'])\n",
    "y = neuralDf_scaled['Target_MIS_Status']\n",
    "\n",
    "X_train, X_test, y_train, y_test = train_test_split(X, y, test_size = 0.2, random_state = 1)\n",
    "print(\"X_train shape: \", X_train.shape)\n",
    "print(\"X_test shape: \", X_test.shape)\n",
    "print(\"y_train shape: \", y_train.shape)\n",
    "print(\"y_test shape: \", y_test.shape)"
   ]
  },
  {
   "cell_type": "code",
   "execution_count": 143,
   "metadata": {},
   "outputs": [
    {
     "name": "stdout",
     "output_type": "stream",
     "text": [
      "81\n"
     ]
    }
   ],
   "source": [
    "print(X_train.shape[1])"
   ]
  },
  {
   "cell_type": "markdown",
   "metadata": {},
   "source": [
    "## Model Structure Optimization"
   ]
  },
  {
   "cell_type": "markdown",
   "metadata": {},
   "source": [
    "We want to optimize a network with 3 hidden layers\n",
    "- Each hidden layer can have from 64 to 256 nodes\n",
    "- The step size between nodes is 64\n",
    "- So the possibilities are: 64, 128, 192, 256"
   ]
  },
  {
   "cell_type": "code",
   "execution_count": 162,
   "metadata": {},
   "outputs": [],
   "source": [
    "num_layers = 3\n",
    "min_nodes_per_layer, max_nodes_per_layer = 64, 256\n",
    "node_step_size = 64"
   ]
  },
  {
   "cell_type": "code",
   "execution_count": 163,
   "metadata": {},
   "outputs": [
    {
     "data": {
      "text/plain": [
       "[64, 128, 192, 256]"
      ]
     },
     "execution_count": 163,
     "metadata": {},
     "output_type": "execute_result"
    }
   ],
   "source": [
    "node_options = list(range(\n",
    "    min_nodes_per_layer, \n",
    "    max_nodes_per_layer + 1, \n",
    "    node_step_size\n",
    "))\n",
    "node_options"
   ]
  },
  {
   "cell_type": "code",
   "execution_count": 165,
   "metadata": {},
   "outputs": [
    {
     "data": {
      "text/plain": [
       "[[64, 128, 192, 256], [64, 128, 192, 256], [64, 128, 192, 256]]"
      ]
     },
     "execution_count": 165,
     "metadata": {},
     "output_type": "execute_result"
    }
   ],
   "source": [
    "three_layer_possibilities = [node_options, node_options, node_options]\n",
    "three_layer_possibilities"
   ]
  },
  {
   "cell_type": "code",
   "execution_count": 171,
   "metadata": {},
   "outputs": [
    {
     "data": {
      "text/plain": [
       "[(64, 64, 64),\n",
       " (64, 64, 128),\n",
       " (64, 64, 192),\n",
       " (64, 64, 256),\n",
       " (64, 128, 64),\n",
       " (64, 128, 128),\n",
       " (64, 128, 192),\n",
       " (64, 128, 256),\n",
       " (64, 192, 64),\n",
       " (64, 192, 128),\n",
       " (64, 192, 192),\n",
       " (64, 192, 256),\n",
       " (64, 256, 64),\n",
       " (64, 256, 128),\n",
       " (64, 256, 192),\n",
       " (64, 256, 256),\n",
       " (128, 64, 64),\n",
       " (128, 64, 128),\n",
       " (128, 64, 192),\n",
       " (128, 64, 256),\n",
       " (128, 128, 64),\n",
       " (128, 128, 128),\n",
       " (128, 128, 192),\n",
       " (128, 128, 256),\n",
       " (128, 192, 64),\n",
       " (128, 192, 128),\n",
       " (128, 192, 192),\n",
       " (128, 192, 256),\n",
       " (128, 256, 64),\n",
       " (128, 256, 128),\n",
       " (128, 256, 192),\n",
       " (128, 256, 256),\n",
       " (192, 64, 64),\n",
       " (192, 64, 128),\n",
       " (192, 64, 192),\n",
       " (192, 64, 256),\n",
       " (192, 128, 64),\n",
       " (192, 128, 128),\n",
       " (192, 128, 192),\n",
       " (192, 128, 256),\n",
       " (192, 192, 64),\n",
       " (192, 192, 128),\n",
       " (192, 192, 192),\n",
       " (192, 192, 256),\n",
       " (192, 256, 64),\n",
       " (192, 256, 128),\n",
       " (192, 256, 192),\n",
       " (192, 256, 256),\n",
       " (256, 64, 64),\n",
       " (256, 64, 128),\n",
       " (256, 64, 192),\n",
       " (256, 64, 256),\n",
       " (256, 128, 64),\n",
       " (256, 128, 128),\n",
       " (256, 128, 192),\n",
       " (256, 128, 256),\n",
       " (256, 192, 64),\n",
       " (256, 192, 128),\n",
       " (256, 192, 192),\n",
       " (256, 192, 256),\n",
       " (256, 256, 64),\n",
       " (256, 256, 128),\n",
       " (256, 256, 192),\n",
       " (256, 256, 256)]"
      ]
     },
     "execution_count": 171,
     "metadata": {},
     "output_type": "execute_result"
    }
   ],
   "source": [
    "# Return all permutations between the three lists\n",
    "layer_node_permutations = list(itertools.product(*three_layer_possibilities))\n",
    "layer_node_permutations"
   ]
  },
  {
   "cell_type": "code",
   "execution_count": 172,
   "metadata": {},
   "outputs": [
    {
     "name": "stdout",
     "output_type": "stream",
     "text": [
      "64\n",
      "64\n",
      "64\n",
      "\n",
      "64\n",
      "64\n",
      "128\n",
      "\n"
     ]
    }
   ],
   "source": [
    "# Iterate over the permutations and then iterate again over the values of individual permutation to get the node count for each hidden layer:\n",
    "for permutation in layer_node_permutations[:2]:\n",
    "    for nodes_at_layer in permutation:\n",
    "        print(nodes_at_layer)\n",
    "    print()"
   ]
  },
  {
   "cell_type": "markdown",
   "metadata": {},
   "source": [
    "- Create a new Sequential model at each iteration, adding an InputLayer to it with a shape of (81,) (the number of columns in our dataset)\n",
    "- Then, iterate over the items in a single permutation and add a Dense layer to the model with the current number of nodes\n",
    "- Finally, add a Dense output layer\n",
    "- Set a name to the model so it's easier to compare them later:"
   ]
  },
  {
   "cell_type": "code",
   "execution_count": 173,
   "metadata": {},
   "outputs": [],
   "source": [
    "models = []\n",
    "\n",
    "for permutation in layer_node_permutations:\n",
    "    model = tf.keras.Sequential()\n",
    "    model.add(tf.keras.layers.InputLayer(input_shape=(X_train.shape[1],)))\n",
    "    model_name = ''\n",
    "    \n",
    "    for nodes_at_layer in permutation:\n",
    "        model.add(tf.keras.layers.Dense(nodes_at_layer, activation='relu'))\n",
    "        model_name += f'dense{nodes_at_layer}_'\n",
    "        \n",
    "    model.add(tf.keras.layers.Dense(1, activation='sigmoid'))\n",
    "    model._name = model_name[:-1]\n",
    "    \n",
    "    models.append(model)"
   ]
  },
  {
   "cell_type": "code",
   "execution_count": 174,
   "metadata": {},
   "outputs": [
    {
     "name": "stdout",
     "output_type": "stream",
     "text": [
      "Model: \"dense64_dense64_dense64\"\n",
      "_________________________________________________________________\n",
      " Layer (type)                Output Shape              Param #   \n",
      "=================================================================\n",
      " dense_70 (Dense)            (None, 64)                5248      \n",
      "                                                                 \n",
      " dense_71 (Dense)            (None, 64)                4160      \n",
      "                                                                 \n",
      " dense_72 (Dense)            (None, 64)                4160      \n",
      "                                                                 \n",
      " dense_73 (Dense)            (None, 1)                 65        \n",
      "                                                                 \n",
      "=================================================================\n",
      "Total params: 13633 (53.25 KB)\n",
      "Trainable params: 13633 (53.25 KB)\n",
      "Non-trainable params: 0 (0.00 Byte)\n",
      "_________________________________________________________________\n"
     ]
    }
   ],
   "source": [
    "models[0].summary()"
   ]
  },
  {
   "cell_type": "code",
   "execution_count": 225,
   "metadata": {},
   "outputs": [
    {
     "name": "stdout",
     "output_type": "stream",
     "text": [
      "Model: \"dense64_dense64_dense128\"\n",
      "_________________________________________________________________\n",
      " Layer (type)                Output Shape              Param #   \n",
      "=================================================================\n",
      " dense_74 (Dense)            (None, 64)                5248      \n",
      "                                                                 \n",
      " dense_75 (Dense)            (None, 64)                4160      \n",
      "                                                                 \n",
      " dense_76 (Dense)            (None, 128)               8320      \n",
      "                                                                 \n",
      " dense_77 (Dense)            (None, 1)                 129       \n",
      "                                                                 \n",
      "=================================================================\n",
      "Total params: 17857 (69.75 KB)\n",
      "Trainable params: 17857 (69.75 KB)\n",
      "Non-trainable params: 0 (0.00 Byte)\n",
      "_________________________________________________________________\n"
     ]
    }
   ],
   "source": [
    "models[1].summary()"
   ]
  },
  {
   "cell_type": "code",
   "execution_count": 175,
   "metadata": {},
   "outputs": [],
   "source": [
    "# Define function to get architecture possibilities \n",
    "def get_models(num_layers: int,\n",
    "               min_nodes_per_layer: int,\n",
    "               max_nodes_per_layer: int,\n",
    "               node_step_size: int,\n",
    "               input_shape: tuple,\n",
    "               hidden_layer_activation: str = 'relu',\n",
    "               num_nodes_at_output: int = 1,\n",
    "               output_layer_activation: str = 'sigmoid') -> list:\n",
    "    \n",
    "    node_options = list(range(min_nodes_per_layer, max_nodes_per_layer + 1, node_step_size))\n",
    "    layer_possibilities = [node_options] * num_layers\n",
    "    layer_node_permutations = list(itertools.product(*layer_possibilities))\n",
    "    \n",
    "    models = []\n",
    "    for permutation in layer_node_permutations:\n",
    "        model = tf.keras.Sequential()\n",
    "        model.add(tf.keras.layers.InputLayer(input_shape=input_shape))\n",
    "        model_name = ''\n",
    "\n",
    "        for nodes_at_layer in permutation:\n",
    "            model.add(tf.keras.layers.Dense(nodes_at_layer, activation=hidden_layer_activation))\n",
    "            model_name += f'dense{nodes_at_layer}_'\n",
    "\n",
    "        model.add(tf.keras.layers.Dense(num_nodes_at_output, activation=output_layer_activation))\n",
    "        model._name = model_name[:-1]\n",
    "        models.append(model)\n",
    "        \n",
    "    return models"
   ]
  },
  {
   "cell_type": "code",
   "execution_count": 176,
   "metadata": {},
   "outputs": [],
   "source": [
    "all_models = get_models(\n",
    "    num_layers=3, \n",
    "    min_nodes_per_layer=64, \n",
    "    max_nodes_per_layer=256, \n",
    "    node_step_size=64, \n",
    "    input_shape=(12,)\n",
    ")"
   ]
  },
  {
   "cell_type": "code",
   "execution_count": 177,
   "metadata": {},
   "outputs": [
    {
     "name": "stdout",
     "output_type": "stream",
     "text": [
      "#Models = 64\n",
      "\n",
      "dense64_dense64_dense64\n",
      "dense64_dense64_dense128\n",
      "dense64_dense64_dense192\n",
      "dense64_dense64_dense256\n",
      "dense64_dense128_dense64\n",
      "dense64_dense128_dense128\n",
      "dense64_dense128_dense192\n",
      "dense64_dense128_dense256\n",
      "dense64_dense192_dense64\n",
      "dense64_dense192_dense128\n",
      "dense64_dense192_dense192\n",
      "dense64_dense192_dense256\n",
      "dense64_dense256_dense64\n",
      "dense64_dense256_dense128\n",
      "dense64_dense256_dense192\n",
      "dense64_dense256_dense256\n",
      "dense128_dense64_dense64\n",
      "dense128_dense64_dense128\n",
      "dense128_dense64_dense192\n",
      "dense128_dense64_dense256\n",
      "dense128_dense128_dense64\n",
      "dense128_dense128_dense128\n",
      "dense128_dense128_dense192\n",
      "dense128_dense128_dense256\n",
      "dense128_dense192_dense64\n",
      "dense128_dense192_dense128\n",
      "dense128_dense192_dense192\n",
      "dense128_dense192_dense256\n",
      "dense128_dense256_dense64\n",
      "dense128_dense256_dense128\n",
      "dense128_dense256_dense192\n",
      "dense128_dense256_dense256\n",
      "dense192_dense64_dense64\n",
      "dense192_dense64_dense128\n",
      "dense192_dense64_dense192\n",
      "dense192_dense64_dense256\n",
      "dense192_dense128_dense64\n",
      "dense192_dense128_dense128\n",
      "dense192_dense128_dense192\n",
      "dense192_dense128_dense256\n",
      "dense192_dense192_dense64\n",
      "dense192_dense192_dense128\n",
      "dense192_dense192_dense192\n",
      "dense192_dense192_dense256\n",
      "dense192_dense256_dense64\n",
      "dense192_dense256_dense128\n",
      "dense192_dense256_dense192\n",
      "dense192_dense256_dense256\n",
      "dense256_dense64_dense64\n",
      "dense256_dense64_dense128\n",
      "dense256_dense64_dense192\n",
      "dense256_dense64_dense256\n",
      "dense256_dense128_dense64\n",
      "dense256_dense128_dense128\n",
      "dense256_dense128_dense192\n",
      "dense256_dense128_dense256\n",
      "dense256_dense192_dense64\n",
      "dense256_dense192_dense128\n",
      "dense256_dense192_dense192\n",
      "dense256_dense192_dense256\n",
      "dense256_dense256_dense64\n",
      "dense256_dense256_dense128\n",
      "dense256_dense256_dense192\n",
      "dense256_dense256_dense256\n"
     ]
    }
   ],
   "source": [
    "print(f'#Models = {len(all_models)}')\n",
    "print()\n",
    "\n",
    "for model in all_models:\n",
    "    print(model.name)"
   ]
  },
  {
   "attachments": {
    "image.png": {
     "image/png": "[encoded data removed]"
    }
   },
   "cell_type": "markdown",
   "metadata": {},
   "source": [
    "Model Performance Metrics\n",
    "\n",
    "![image.png](attachment:image.png)"
   ]
  },
  {
   "cell_type": "code",
   "execution_count": 179,
   "metadata": {},
   "outputs": [],
   "source": [
    "# Define function to accept the list of models, data sets, and number of epochs; ultimately to optimize a model\n",
    "def optimize(models: list,\n",
    "             X_train: np.array,\n",
    "             y_train: np.array,\n",
    "             X_test: np.array,\n",
    "             y_test: np.array,\n",
    "             epochs: int = 100,\n",
    "             verbose: int = 0) -> pd.DataFrame:\n",
    "    \n",
    "    # Store the results here\n",
    "    results = []\n",
    "    \n",
    "    def train(model: tf.keras.Sequential) -> dict:\n",
    "        learning_rate = 0.001\n",
    "        optimizer = optimizers.SGD(learning_rate)\n",
    "        model.compile(\n",
    "            loss=tf.keras.losses.BinaryCrossentropy(from_logits=True),\n",
    "            optimizer=optimizer,\n",
    "            metrics=['accuracy']) \n",
    "               \n",
    "        # Train the model\n",
    "        model.fit(\n",
    "            X_train,\n",
    "            y_train,\n",
    "            epochs=epochs,\n",
    "            verbose=verbose\n",
    "        )\n",
    "        \n",
    "        # Make predictions on the test set\n",
    "        preds = model.predict(X_test)\n",
    "        prediction_classes = [1 if prob > 0.5 else 0 for prob in np.ravel(preds)] # Selecting a baseline threshold of 0.5 as this is a binary classification problem\n",
    "        \n",
    "        # Return evaluation metrics on the test set\n",
    "        return {\n",
    "            'model_name': model.name,\n",
    "            'test_accuracy': accuracy_score(y_test, prediction_classes),\n",
    "            'test_precision': precision_score(y_test, prediction_classes),\n",
    "            'test_recall': recall_score(y_test, prediction_classes),\n",
    "            'test_f1': f1_score(y_test, prediction_classes)\n",
    "        }\n",
    "    \n",
    "    # Train every model and save results\n",
    "    for model in models:\n",
    "        try:\n",
    "            print(model.name, end=' ... ')\n",
    "            res = train(model=model)\n",
    "            results.append(res)\n",
    "        except Exception as e:\n",
    "            print(f'{model.name} --> {str(e)}')\n",
    "        \n",
    "    return pd.DataFrame(results)"
   ]
  },
  {
   "cell_type": "code",
   "execution_count": 185,
   "metadata": {},
   "outputs": [
    {
     "name": "stdout",
     "output_type": "stream",
     "text": [
      "dense64_dense64_dense64 ... "
     ]
    },
    {
     "name": "stderr",
     "output_type": "stream",
     "text": [
      "C:\\Users\\willi\\AppData\\Roaming\\Python\\Python38\\site-packages\\keras\\src\\backend.py:5805: UserWarning: \"`binary_crossentropy` received `from_logits=True`, but the `output` argument was produced by a Sigmoid activation and thus does not represent logits. Was this intended?\n",
      "  output, from_logits = _get_logits(\n"
     ]
    },
    {
     "name": "stdout",
     "output_type": "stream",
     "text": [
      "1182/1182 [==============================] - 1s 715us/step\n",
      "dense64_dense64_dense128 ... "
     ]
    },
    {
     "name": "stderr",
     "output_type": "stream",
     "text": [
      "C:\\Users\\willi\\AppData\\Roaming\\Python\\Python38\\site-packages\\keras\\src\\backend.py:5805: UserWarning: \"`binary_crossentropy` received `from_logits=True`, but the `output` argument was produced by a Sigmoid activation and thus does not represent logits. Was this intended?\n",
      "  output, from_logits = _get_logits(\n"
     ]
    },
    {
     "name": "stdout",
     "output_type": "stream",
     "text": [
      "1182/1182 [==============================] - 1s 691us/step\n",
      "dense64_dense64_dense192 ... "
     ]
    },
    {
     "name": "stderr",
     "output_type": "stream",
     "text": [
      "C:\\Users\\willi\\AppData\\Roaming\\Python\\Python38\\site-packages\\keras\\src\\backend.py:5805: UserWarning: \"`binary_crossentropy` received `from_logits=True`, but the `output` argument was produced by a Sigmoid activation and thus does not represent logits. Was this intended?\n",
      "  output, from_logits = _get_logits(\n"
     ]
    },
    {
     "name": "stdout",
     "output_type": "stream",
     "text": [
      "1182/1182 [==============================] - 1s 715us/step\n",
      "dense64_dense64_dense256 ... "
     ]
    },
    {
     "name": "stderr",
     "output_type": "stream",
     "text": [
      "C:\\Users\\willi\\AppData\\Roaming\\Python\\Python38\\site-packages\\keras\\src\\backend.py:5805: UserWarning: \"`binary_crossentropy` received `from_logits=True`, but the `output` argument was produced by a Sigmoid activation and thus does not represent logits. Was this intended?\n",
      "  output, from_logits = _get_logits(\n"
     ]
    },
    {
     "name": "stdout",
     "output_type": "stream",
     "text": [
      "1182/1182 [==============================] - 1s 777us/step\n",
      "dense64_dense128_dense64 ... "
     ]
    },
    {
     "name": "stderr",
     "output_type": "stream",
     "text": [
      "C:\\Users\\willi\\AppData\\Roaming\\Python\\Python38\\site-packages\\keras\\src\\backend.py:5805: UserWarning: \"`binary_crossentropy` received `from_logits=True`, but the `output` argument was produced by a Sigmoid activation and thus does not represent logits. Was this intended?\n",
      "  output, from_logits = _get_logits(\n"
     ]
    },
    {
     "name": "stdout",
     "output_type": "stream",
     "text": [
      "1182/1182 [==============================] - 1s 741us/step\n",
      "dense64_dense128_dense128 ... "
     ]
    },
    {
     "name": "stderr",
     "output_type": "stream",
     "text": [
      "C:\\Users\\willi\\AppData\\Roaming\\Python\\Python38\\site-packages\\keras\\src\\backend.py:5805: UserWarning: \"`binary_crossentropy` received `from_logits=True`, but the `output` argument was produced by a Sigmoid activation and thus does not represent logits. Was this intended?\n",
      "  output, from_logits = _get_logits(\n"
     ]
    },
    {
     "name": "stdout",
     "output_type": "stream",
     "text": [
      "1182/1182 [==============================] - 1s 734us/step\n",
      "dense64_dense128_dense192 ... "
     ]
    },
    {
     "name": "stderr",
     "output_type": "stream",
     "text": [
      "C:\\Users\\willi\\AppData\\Roaming\\Python\\Python38\\site-packages\\keras\\src\\backend.py:5805: UserWarning: \"`binary_crossentropy` received `from_logits=True`, but the `output` argument was produced by a Sigmoid activation and thus does not represent logits. Was this intended?\n",
      "  output, from_logits = _get_logits(\n"
     ]
    },
    {
     "name": "stdout",
     "output_type": "stream",
     "text": [
      "1182/1182 [==============================] - 1s 740us/step\n",
      "dense64_dense128_dense256 ... "
     ]
    },
    {
     "name": "stderr",
     "output_type": "stream",
     "text": [
      "C:\\Users\\willi\\AppData\\Roaming\\Python\\Python38\\site-packages\\keras\\src\\backend.py:5805: UserWarning: \"`binary_crossentropy` received `from_logits=True`, but the `output` argument was produced by a Sigmoid activation and thus does not represent logits. Was this intended?\n",
      "  output, from_logits = _get_logits(\n"
     ]
    },
    {
     "name": "stdout",
     "output_type": "stream",
     "text": [
      "1182/1182 [==============================] - 1s 813us/step\n",
      "dense64_dense192_dense64 ... "
     ]
    },
    {
     "name": "stderr",
     "output_type": "stream",
     "text": [
      "C:\\Users\\willi\\AppData\\Roaming\\Python\\Python38\\site-packages\\keras\\src\\backend.py:5805: UserWarning: \"`binary_crossentropy` received `from_logits=True`, but the `output` argument was produced by a Sigmoid activation and thus does not represent logits. Was this intended?\n",
      "  output, from_logits = _get_logits(\n"
     ]
    },
    {
     "name": "stdout",
     "output_type": "stream",
     "text": [
      "1182/1182 [==============================] - 1s 762us/step\n",
      "dense64_dense192_dense128 ... "
     ]
    },
    {
     "name": "stderr",
     "output_type": "stream",
     "text": [
      "C:\\Users\\willi\\AppData\\Roaming\\Python\\Python38\\site-packages\\keras\\src\\backend.py:5805: UserWarning: \"`binary_crossentropy` received `from_logits=True`, but the `output` argument was produced by a Sigmoid activation and thus does not represent logits. Was this intended?\n",
      "  output, from_logits = _get_logits(\n"
     ]
    },
    {
     "name": "stdout",
     "output_type": "stream",
     "text": [
      "1182/1182 [==============================] - 1s 747us/step\n",
      "dense64_dense192_dense192 ... "
     ]
    },
    {
     "name": "stderr",
     "output_type": "stream",
     "text": [
      "C:\\Users\\willi\\AppData\\Roaming\\Python\\Python38\\site-packages\\keras\\src\\backend.py:5805: UserWarning: \"`binary_crossentropy` received `from_logits=True`, but the `output` argument was produced by a Sigmoid activation and thus does not represent logits. Was this intended?\n",
      "  output, from_logits = _get_logits(\n"
     ]
    },
    {
     "name": "stdout",
     "output_type": "stream",
     "text": [
      "1182/1182 [==============================] - 1s 805us/step\n",
      "dense64_dense192_dense256 ... "
     ]
    },
    {
     "name": "stderr",
     "output_type": "stream",
     "text": [
      "C:\\Users\\willi\\AppData\\Roaming\\Python\\Python38\\site-packages\\keras\\src\\backend.py:5805: UserWarning: \"`binary_crossentropy` received `from_logits=True`, but the `output` argument was produced by a Sigmoid activation and thus does not represent logits. Was this intended?\n",
      "  output, from_logits = _get_logits(\n"
     ]
    },
    {
     "name": "stdout",
     "output_type": "stream",
     "text": [
      "1182/1182 [==============================] - 1s 836us/step\n",
      "dense64_dense256_dense64 ... "
     ]
    },
    {
     "name": "stderr",
     "output_type": "stream",
     "text": [
      "C:\\Users\\willi\\AppData\\Roaming\\Python\\Python38\\site-packages\\keras\\src\\backend.py:5805: UserWarning: \"`binary_crossentropy` received `from_logits=True`, but the `output` argument was produced by a Sigmoid activation and thus does not represent logits. Was this intended?\n",
      "  output, from_logits = _get_logits(\n"
     ]
    },
    {
     "name": "stdout",
     "output_type": "stream",
     "text": [
      "1182/1182 [==============================] - 1s 737us/step\n",
      "dense64_dense256_dense128 ... "
     ]
    },
    {
     "name": "stderr",
     "output_type": "stream",
     "text": [
      "C:\\Users\\willi\\AppData\\Roaming\\Python\\Python38\\site-packages\\keras\\src\\backend.py:5805: UserWarning: \"`binary_crossentropy` received `from_logits=True`, but the `output` argument was produced by a Sigmoid activation and thus does not represent logits. Was this intended?\n",
      "  output, from_logits = _get_logits(\n"
     ]
    },
    {
     "name": "stdout",
     "output_type": "stream",
     "text": [
      "1182/1182 [==============================] - 1s 874us/step\n",
      "dense64_dense256_dense192 ... "
     ]
    },
    {
     "name": "stderr",
     "output_type": "stream",
     "text": [
      "C:\\Users\\willi\\AppData\\Roaming\\Python\\Python38\\site-packages\\keras\\src\\backend.py:5805: UserWarning: \"`binary_crossentropy` received `from_logits=True`, but the `output` argument was produced by a Sigmoid activation and thus does not represent logits. Was this intended?\n",
      "  output, from_logits = _get_logits(\n"
     ]
    },
    {
     "name": "stdout",
     "output_type": "stream",
     "text": [
      "1182/1182 [==============================] - 1s 810us/step\n",
      "dense64_dense256_dense256 ... "
     ]
    },
    {
     "name": "stderr",
     "output_type": "stream",
     "text": [
      "C:\\Users\\willi\\AppData\\Roaming\\Python\\Python38\\site-packages\\keras\\src\\backend.py:5805: UserWarning: \"`binary_crossentropy` received `from_logits=True`, but the `output` argument was produced by a Sigmoid activation and thus does not represent logits. Was this intended?\n",
      "  output, from_logits = _get_logits(\n"
     ]
    },
    {
     "name": "stdout",
     "output_type": "stream",
     "text": [
      "1182/1182 [==============================] - 1s 843us/step\n",
      "dense128_dense64_dense64 ... "
     ]
    },
    {
     "name": "stderr",
     "output_type": "stream",
     "text": [
      "C:\\Users\\willi\\AppData\\Roaming\\Python\\Python38\\site-packages\\keras\\src\\backend.py:5805: UserWarning: \"`binary_crossentropy` received `from_logits=True`, but the `output` argument was produced by a Sigmoid activation and thus does not represent logits. Was this intended?\n",
      "  output, from_logits = _get_logits(\n"
     ]
    },
    {
     "name": "stdout",
     "output_type": "stream",
     "text": [
      "1182/1182 [==============================] - 1s 759us/step\n",
      "dense128_dense64_dense128 ... "
     ]
    },
    {
     "name": "stderr",
     "output_type": "stream",
     "text": [
      "C:\\Users\\willi\\AppData\\Roaming\\Python\\Python38\\site-packages\\keras\\src\\backend.py:5805: UserWarning: \"`binary_crossentropy` received `from_logits=True`, but the `output` argument was produced by a Sigmoid activation and thus does not represent logits. Was this intended?\n",
      "  output, from_logits = _get_logits(\n"
     ]
    },
    {
     "name": "stdout",
     "output_type": "stream",
     "text": [
      "1182/1182 [==============================] - 1s 734us/step\n",
      "dense128_dense64_dense192 ... "
     ]
    },
    {
     "name": "stderr",
     "output_type": "stream",
     "text": [
      "C:\\Users\\willi\\AppData\\Roaming\\Python\\Python38\\site-packages\\keras\\src\\backend.py:5805: UserWarning: \"`binary_crossentropy` received `from_logits=True`, but the `output` argument was produced by a Sigmoid activation and thus does not represent logits. Was this intended?\n",
      "  output, from_logits = _get_logits(\n"
     ]
    },
    {
     "name": "stdout",
     "output_type": "stream",
     "text": [
      "1182/1182 [==============================] - 1s 738us/step\n",
      "dense128_dense64_dense256 ... "
     ]
    },
    {
     "name": "stderr",
     "output_type": "stream",
     "text": [
      "C:\\Users\\willi\\AppData\\Roaming\\Python\\Python38\\site-packages\\keras\\src\\backend.py:5805: UserWarning: \"`binary_crossentropy` received `from_logits=True`, but the `output` argument was produced by a Sigmoid activation and thus does not represent logits. Was this intended?\n",
      "  output, from_logits = _get_logits(\n"
     ]
    },
    {
     "name": "stdout",
     "output_type": "stream",
     "text": [
      "1182/1182 [==============================] - 1s 737us/step\n",
      "dense128_dense128_dense64 ... "
     ]
    },
    {
     "name": "stderr",
     "output_type": "stream",
     "text": [
      "C:\\Users\\willi\\AppData\\Roaming\\Python\\Python38\\site-packages\\keras\\src\\backend.py:5805: UserWarning: \"`binary_crossentropy` received `from_logits=True`, but the `output` argument was produced by a Sigmoid activation and thus does not represent logits. Was this intended?\n",
      "  output, from_logits = _get_logits(\n"
     ]
    },
    {
     "name": "stdout",
     "output_type": "stream",
     "text": [
      "1182/1182 [==============================] - 1s 803us/step\n",
      "dense128_dense128_dense128 ... "
     ]
    },
    {
     "name": "stderr",
     "output_type": "stream",
     "text": [
      "C:\\Users\\willi\\AppData\\Roaming\\Python\\Python38\\site-packages\\keras\\src\\backend.py:5805: UserWarning: \"`binary_crossentropy` received `from_logits=True`, but the `output` argument was produced by a Sigmoid activation and thus does not represent logits. Was this intended?\n",
      "  output, from_logits = _get_logits(\n"
     ]
    },
    {
     "name": "stdout",
     "output_type": "stream",
     "text": [
      "1182/1182 [==============================] - 1s 752us/step\n",
      "dense128_dense128_dense192 ... "
     ]
    },
    {
     "name": "stderr",
     "output_type": "stream",
     "text": [
      "C:\\Users\\willi\\AppData\\Roaming\\Python\\Python38\\site-packages\\keras\\src\\backend.py:5805: UserWarning: \"`binary_crossentropy` received `from_logits=True`, but the `output` argument was produced by a Sigmoid activation and thus does not represent logits. Was this intended?\n",
      "  output, from_logits = _get_logits(\n"
     ]
    },
    {
     "name": "stdout",
     "output_type": "stream",
     "text": [
      "1182/1182 [==============================] - 1s 777us/step\n",
      "dense128_dense128_dense256 ... "
     ]
    },
    {
     "name": "stderr",
     "output_type": "stream",
     "text": [
      "C:\\Users\\willi\\AppData\\Roaming\\Python\\Python38\\site-packages\\keras\\src\\backend.py:5805: UserWarning: \"`binary_crossentropy` received `from_logits=True`, but the `output` argument was produced by a Sigmoid activation and thus does not represent logits. Was this intended?\n",
      "  output, from_logits = _get_logits(\n"
     ]
    },
    {
     "name": "stdout",
     "output_type": "stream",
     "text": [
      "1182/1182 [==============================] - 1s 814us/step\n",
      "dense128_dense192_dense64 ... "
     ]
    },
    {
     "name": "stderr",
     "output_type": "stream",
     "text": [
      "C:\\Users\\willi\\AppData\\Roaming\\Python\\Python38\\site-packages\\keras\\src\\backend.py:5805: UserWarning: \"`binary_crossentropy` received `from_logits=True`, but the `output` argument was produced by a Sigmoid activation and thus does not represent logits. Was this intended?\n",
      "  output, from_logits = _get_logits(\n"
     ]
    },
    {
     "name": "stdout",
     "output_type": "stream",
     "text": [
      "1182/1182 [==============================] - 1s 753us/step\n",
      "dense128_dense192_dense128 ... "
     ]
    },
    {
     "name": "stderr",
     "output_type": "stream",
     "text": [
      "C:\\Users\\willi\\AppData\\Roaming\\Python\\Python38\\site-packages\\keras\\src\\backend.py:5805: UserWarning: \"`binary_crossentropy` received `from_logits=True`, but the `output` argument was produced by a Sigmoid activation and thus does not represent logits. Was this intended?\n",
      "  output, from_logits = _get_logits(\n"
     ]
    },
    {
     "name": "stdout",
     "output_type": "stream",
     "text": [
      "1182/1182 [==============================] - 1s 793us/step\n",
      "dense128_dense192_dense192 ... "
     ]
    },
    {
     "name": "stderr",
     "output_type": "stream",
     "text": [
      "C:\\Users\\willi\\AppData\\Roaming\\Python\\Python38\\site-packages\\keras\\src\\backend.py:5805: UserWarning: \"`binary_crossentropy` received `from_logits=True`, but the `output` argument was produced by a Sigmoid activation and thus does not represent logits. Was this intended?\n",
      "  output, from_logits = _get_logits(\n"
     ]
    },
    {
     "name": "stdout",
     "output_type": "stream",
     "text": [
      "1182/1182 [==============================] - 1s 899us/step\n",
      "dense128_dense192_dense256 ... "
     ]
    },
    {
     "name": "stderr",
     "output_type": "stream",
     "text": [
      "C:\\Users\\willi\\AppData\\Roaming\\Python\\Python38\\site-packages\\keras\\src\\backend.py:5805: UserWarning: \"`binary_crossentropy` received `from_logits=True`, but the `output` argument was produced by a Sigmoid activation and thus does not represent logits. Was this intended?\n",
      "  output, from_logits = _get_logits(\n"
     ]
    },
    {
     "name": "stdout",
     "output_type": "stream",
     "text": [
      "1182/1182 [==============================] - 1s 837us/step\n",
      "dense128_dense256_dense64 ... "
     ]
    },
    {
     "name": "stderr",
     "output_type": "stream",
     "text": [
      "C:\\Users\\willi\\AppData\\Roaming\\Python\\Python38\\site-packages\\keras\\src\\backend.py:5805: UserWarning: \"`binary_crossentropy` received `from_logits=True`, but the `output` argument was produced by a Sigmoid activation and thus does not represent logits. Was this intended?\n",
      "  output, from_logits = _get_logits(\n"
     ]
    },
    {
     "name": "stdout",
     "output_type": "stream",
     "text": [
      "1182/1182 [==============================] - 1s 817us/step\n",
      "dense128_dense256_dense128 ... "
     ]
    },
    {
     "name": "stderr",
     "output_type": "stream",
     "text": [
      "C:\\Users\\willi\\AppData\\Roaming\\Python\\Python38\\site-packages\\keras\\src\\backend.py:5805: UserWarning: \"`binary_crossentropy` received `from_logits=True`, but the `output` argument was produced by a Sigmoid activation and thus does not represent logits. Was this intended?\n",
      "  output, from_logits = _get_logits(\n"
     ]
    },
    {
     "name": "stdout",
     "output_type": "stream",
     "text": [
      "1182/1182 [==============================] - 1s 919us/step\n",
      "dense128_dense256_dense192 ... "
     ]
    },
    {
     "name": "stderr",
     "output_type": "stream",
     "text": [
      "C:\\Users\\willi\\AppData\\Roaming\\Python\\Python38\\site-packages\\keras\\src\\backend.py:5805: UserWarning: \"`binary_crossentropy` received `from_logits=True`, but the `output` argument was produced by a Sigmoid activation and thus does not represent logits. Was this intended?\n",
      "  output, from_logits = _get_logits(\n"
     ]
    },
    {
     "name": "stdout",
     "output_type": "stream",
     "text": [
      "1182/1182 [==============================] - 1s 949us/step\n",
      "dense128_dense256_dense256 ... "
     ]
    },
    {
     "name": "stderr",
     "output_type": "stream",
     "text": [
      "C:\\Users\\willi\\AppData\\Roaming\\Python\\Python38\\site-packages\\keras\\src\\backend.py:5805: UserWarning: \"`binary_crossentropy` received `from_logits=True`, but the `output` argument was produced by a Sigmoid activation and thus does not represent logits. Was this intended?\n",
      "  output, from_logits = _get_logits(\n"
     ]
    },
    {
     "name": "stdout",
     "output_type": "stream",
     "text": [
      "1182/1182 [==============================] - 1s 923us/step\n",
      "dense192_dense64_dense64 ... "
     ]
    },
    {
     "name": "stderr",
     "output_type": "stream",
     "text": [
      "C:\\Users\\willi\\AppData\\Roaming\\Python\\Python38\\site-packages\\keras\\src\\backend.py:5805: UserWarning: \"`binary_crossentropy` received `from_logits=True`, but the `output` argument was produced by a Sigmoid activation and thus does not represent logits. Was this intended?\n",
      "  output, from_logits = _get_logits(\n"
     ]
    },
    {
     "name": "stdout",
     "output_type": "stream",
     "text": [
      "1182/1182 [==============================] - 1s 751us/step\n",
      "dense192_dense64_dense128 ... "
     ]
    },
    {
     "name": "stderr",
     "output_type": "stream",
     "text": [
      "C:\\Users\\willi\\AppData\\Roaming\\Python\\Python38\\site-packages\\keras\\src\\backend.py:5805: UserWarning: \"`binary_crossentropy` received `from_logits=True`, but the `output` argument was produced by a Sigmoid activation and thus does not represent logits. Was this intended?\n",
      "  output, from_logits = _get_logits(\n"
     ]
    },
    {
     "name": "stdout",
     "output_type": "stream",
     "text": [
      "1182/1182 [==============================] - 1s 743us/step\n",
      "dense192_dense64_dense192 ... "
     ]
    },
    {
     "name": "stderr",
     "output_type": "stream",
     "text": [
      "C:\\Users\\willi\\AppData\\Roaming\\Python\\Python38\\site-packages\\keras\\src\\backend.py:5805: UserWarning: \"`binary_crossentropy` received `from_logits=True`, but the `output` argument was produced by a Sigmoid activation and thus does not represent logits. Was this intended?\n",
      "  output, from_logits = _get_logits(\n"
     ]
    },
    {
     "name": "stdout",
     "output_type": "stream",
     "text": [
      "1182/1182 [==============================] - 1s 741us/step\n",
      "dense192_dense64_dense256 ... "
     ]
    },
    {
     "name": "stderr",
     "output_type": "stream",
     "text": [
      "C:\\Users\\willi\\AppData\\Roaming\\Python\\Python38\\site-packages\\keras\\src\\backend.py:5805: UserWarning: \"`binary_crossentropy` received `from_logits=True`, but the `output` argument was produced by a Sigmoid activation and thus does not represent logits. Was this intended?\n",
      "  output, from_logits = _get_logits(\n"
     ]
    },
    {
     "name": "stdout",
     "output_type": "stream",
     "text": [
      "1182/1182 [==============================] - 1s 762us/step\n",
      "dense192_dense128_dense64 ... "
     ]
    },
    {
     "name": "stderr",
     "output_type": "stream",
     "text": [
      "C:\\Users\\willi\\AppData\\Roaming\\Python\\Python38\\site-packages\\keras\\src\\backend.py:5805: UserWarning: \"`binary_crossentropy` received `from_logits=True`, but the `output` argument was produced by a Sigmoid activation and thus does not represent logits. Was this intended?\n",
      "  output, from_logits = _get_logits(\n"
     ]
    },
    {
     "name": "stdout",
     "output_type": "stream",
     "text": [
      "1182/1182 [==============================] - 1s 760us/step\n",
      "dense192_dense128_dense128 ... "
     ]
    },
    {
     "name": "stderr",
     "output_type": "stream",
     "text": [
      "C:\\Users\\willi\\AppData\\Roaming\\Python\\Python38\\site-packages\\keras\\src\\backend.py:5805: UserWarning: \"`binary_crossentropy` received `from_logits=True`, but the `output` argument was produced by a Sigmoid activation and thus does not represent logits. Was this intended?\n",
      "  output, from_logits = _get_logits(\n"
     ]
    },
    {
     "name": "stdout",
     "output_type": "stream",
     "text": [
      "1182/1182 [==============================] - 1s 779us/step\n",
      "dense192_dense128_dense192 ... "
     ]
    },
    {
     "name": "stderr",
     "output_type": "stream",
     "text": [
      "C:\\Users\\willi\\AppData\\Roaming\\Python\\Python38\\site-packages\\keras\\src\\backend.py:5805: UserWarning: \"`binary_crossentropy` received `from_logits=True`, but the `output` argument was produced by a Sigmoid activation and thus does not represent logits. Was this intended?\n",
      "  output, from_logits = _get_logits(\n"
     ]
    },
    {
     "name": "stdout",
     "output_type": "stream",
     "text": [
      "1182/1182 [==============================] - 1s 800us/step\n",
      "dense192_dense128_dense256 ... "
     ]
    },
    {
     "name": "stderr",
     "output_type": "stream",
     "text": [
      "C:\\Users\\willi\\AppData\\Roaming\\Python\\Python38\\site-packages\\keras\\src\\backend.py:5805: UserWarning: \"`binary_crossentropy` received `from_logits=True`, but the `output` argument was produced by a Sigmoid activation and thus does not represent logits. Was this intended?\n",
      "  output, from_logits = _get_logits(\n"
     ]
    },
    {
     "name": "stdout",
     "output_type": "stream",
     "text": [
      "1182/1182 [==============================] - 1s 863us/step\n",
      "dense192_dense192_dense64 ... "
     ]
    },
    {
     "name": "stderr",
     "output_type": "stream",
     "text": [
      "C:\\Users\\willi\\AppData\\Roaming\\Python\\Python38\\site-packages\\keras\\src\\backend.py:5805: UserWarning: \"`binary_crossentropy` received `from_logits=True`, but the `output` argument was produced by a Sigmoid activation and thus does not represent logits. Was this intended?\n",
      "  output, from_logits = _get_logits(\n"
     ]
    },
    {
     "name": "stdout",
     "output_type": "stream",
     "text": [
      "1182/1182 [==============================] - 1s 797us/step\n",
      "dense192_dense192_dense128 ... "
     ]
    },
    {
     "name": "stderr",
     "output_type": "stream",
     "text": [
      "C:\\Users\\willi\\AppData\\Roaming\\Python\\Python38\\site-packages\\keras\\src\\backend.py:5805: UserWarning: \"`binary_crossentropy` received `from_logits=True`, but the `output` argument was produced by a Sigmoid activation and thus does not represent logits. Was this intended?\n",
      "  output, from_logits = _get_logits(\n"
     ]
    },
    {
     "name": "stdout",
     "output_type": "stream",
     "text": [
      "1182/1182 [==============================] - 1s 843us/step\n",
      "dense192_dense192_dense192 ... "
     ]
    },
    {
     "name": "stderr",
     "output_type": "stream",
     "text": [
      "C:\\Users\\willi\\AppData\\Roaming\\Python\\Python38\\site-packages\\keras\\src\\backend.py:5805: UserWarning: \"`binary_crossentropy` received `from_logits=True`, but the `output` argument was produced by a Sigmoid activation and thus does not represent logits. Was this intended?\n",
      "  output, from_logits = _get_logits(\n"
     ]
    },
    {
     "name": "stdout",
     "output_type": "stream",
     "text": [
      "1182/1182 [==============================] - 1s 856us/step\n",
      "dense192_dense192_dense256 ... "
     ]
    },
    {
     "name": "stderr",
     "output_type": "stream",
     "text": [
      "C:\\Users\\willi\\AppData\\Roaming\\Python\\Python38\\site-packages\\keras\\src\\backend.py:5805: UserWarning: \"`binary_crossentropy` received `from_logits=True`, but the `output` argument was produced by a Sigmoid activation and thus does not represent logits. Was this intended?\n",
      "  output, from_logits = _get_logits(\n"
     ]
    },
    {
     "name": "stdout",
     "output_type": "stream",
     "text": [
      "1182/1182 [==============================] - 1s 848us/step\n",
      "dense192_dense256_dense64 ... "
     ]
    },
    {
     "name": "stderr",
     "output_type": "stream",
     "text": [
      "C:\\Users\\willi\\AppData\\Roaming\\Python\\Python38\\site-packages\\keras\\src\\backend.py:5805: UserWarning: \"`binary_crossentropy` received `from_logits=True`, but the `output` argument was produced by a Sigmoid activation and thus does not represent logits. Was this intended?\n",
      "  output, from_logits = _get_logits(\n"
     ]
    },
    {
     "name": "stdout",
     "output_type": "stream",
     "text": [
      "1182/1182 [==============================] - 1s 872us/step\n",
      "dense192_dense256_dense128 ... "
     ]
    },
    {
     "name": "stderr",
     "output_type": "stream",
     "text": [
      "C:\\Users\\willi\\AppData\\Roaming\\Python\\Python38\\site-packages\\keras\\src\\backend.py:5805: UserWarning: \"`binary_crossentropy` received `from_logits=True`, but the `output` argument was produced by a Sigmoid activation and thus does not represent logits. Was this intended?\n",
      "  output, from_logits = _get_logits(\n"
     ]
    },
    {
     "name": "stdout",
     "output_type": "stream",
     "text": [
      "1182/1182 [==============================] - 1s 908us/step\n",
      "dense192_dense256_dense192 ... "
     ]
    },
    {
     "name": "stderr",
     "output_type": "stream",
     "text": [
      "C:\\Users\\willi\\AppData\\Roaming\\Python\\Python38\\site-packages\\keras\\src\\backend.py:5805: UserWarning: \"`binary_crossentropy` received `from_logits=True`, but the `output` argument was produced by a Sigmoid activation and thus does not represent logits. Was this intended?\n",
      "  output, from_logits = _get_logits(\n"
     ]
    },
    {
     "name": "stdout",
     "output_type": "stream",
     "text": [
      "1182/1182 [==============================] - 1s 854us/step\n",
      "dense192_dense256_dense256 ... "
     ]
    },
    {
     "name": "stderr",
     "output_type": "stream",
     "text": [
      "C:\\Users\\willi\\AppData\\Roaming\\Python\\Python38\\site-packages\\keras\\src\\backend.py:5805: UserWarning: \"`binary_crossentropy` received `from_logits=True`, but the `output` argument was produced by a Sigmoid activation and thus does not represent logits. Was this intended?\n",
      "  output, from_logits = _get_logits(\n"
     ]
    },
    {
     "name": "stdout",
     "output_type": "stream",
     "text": [
      "1182/1182 [==============================] - 1s 886us/step\n",
      "dense256_dense64_dense64 ... "
     ]
    },
    {
     "name": "stderr",
     "output_type": "stream",
     "text": [
      "C:\\Users\\willi\\AppData\\Roaming\\Python\\Python38\\site-packages\\keras\\src\\backend.py:5805: UserWarning: \"`binary_crossentropy` received `from_logits=True`, but the `output` argument was produced by a Sigmoid activation and thus does not represent logits. Was this intended?\n",
      "  output, from_logits = _get_logits(\n"
     ]
    },
    {
     "name": "stdout",
     "output_type": "stream",
     "text": [
      "1182/1182 [==============================] - 1s 776us/step\n",
      "dense256_dense64_dense128 ... "
     ]
    },
    {
     "name": "stderr",
     "output_type": "stream",
     "text": [
      "C:\\Users\\willi\\AppData\\Roaming\\Python\\Python38\\site-packages\\keras\\src\\backend.py:5805: UserWarning: \"`binary_crossentropy` received `from_logits=True`, but the `output` argument was produced by a Sigmoid activation and thus does not represent logits. Was this intended?\n",
      "  output, from_logits = _get_logits(\n"
     ]
    },
    {
     "name": "stdout",
     "output_type": "stream",
     "text": [
      "1182/1182 [==============================] - 1s 757us/step\n",
      "dense256_dense64_dense192 ... "
     ]
    },
    {
     "name": "stderr",
     "output_type": "stream",
     "text": [
      "C:\\Users\\willi\\AppData\\Roaming\\Python\\Python38\\site-packages\\keras\\src\\backend.py:5805: UserWarning: \"`binary_crossentropy` received `from_logits=True`, but the `output` argument was produced by a Sigmoid activation and thus does not represent logits. Was this intended?\n",
      "  output, from_logits = _get_logits(\n"
     ]
    },
    {
     "name": "stdout",
     "output_type": "stream",
     "text": [
      "1182/1182 [==============================] - 1s 781us/step\n",
      "dense256_dense64_dense256 ... "
     ]
    },
    {
     "name": "stderr",
     "output_type": "stream",
     "text": [
      "C:\\Users\\willi\\AppData\\Roaming\\Python\\Python38\\site-packages\\keras\\src\\backend.py:5805: UserWarning: \"`binary_crossentropy` received `from_logits=True`, but the `output` argument was produced by a Sigmoid activation and thus does not represent logits. Was this intended?\n",
      "  output, from_logits = _get_logits(\n"
     ]
    },
    {
     "name": "stdout",
     "output_type": "stream",
     "text": [
      "1182/1182 [==============================] - 1s 787us/step\n",
      "dense256_dense128_dense64 ... "
     ]
    },
    {
     "name": "stderr",
     "output_type": "stream",
     "text": [
      "C:\\Users\\willi\\AppData\\Roaming\\Python\\Python38\\site-packages\\keras\\src\\backend.py:5805: UserWarning: \"`binary_crossentropy` received `from_logits=True`, but the `output` argument was produced by a Sigmoid activation and thus does not represent logits. Was this intended?\n",
      "  output, from_logits = _get_logits(\n"
     ]
    },
    {
     "name": "stdout",
     "output_type": "stream",
     "text": [
      "1182/1182 [==============================] - 1s 846us/step\n",
      "dense256_dense128_dense128 ... "
     ]
    },
    {
     "name": "stderr",
     "output_type": "stream",
     "text": [
      "C:\\Users\\willi\\AppData\\Roaming\\Python\\Python38\\site-packages\\keras\\src\\backend.py:5805: UserWarning: \"`binary_crossentropy` received `from_logits=True`, but the `output` argument was produced by a Sigmoid activation and thus does not represent logits. Was this intended?\n",
      "  output, from_logits = _get_logits(\n"
     ]
    },
    {
     "name": "stdout",
     "output_type": "stream",
     "text": [
      "1182/1182 [==============================] - 1s 905us/step\n",
      "dense256_dense128_dense192 ... "
     ]
    },
    {
     "name": "stderr",
     "output_type": "stream",
     "text": [
      "C:\\Users\\willi\\AppData\\Roaming\\Python\\Python38\\site-packages\\keras\\src\\backend.py:5805: UserWarning: \"`binary_crossentropy` received `from_logits=True`, but the `output` argument was produced by a Sigmoid activation and thus does not represent logits. Was this intended?\n",
      "  output, from_logits = _get_logits(\n"
     ]
    },
    {
     "name": "stdout",
     "output_type": "stream",
     "text": [
      "1182/1182 [==============================] - 1s 892us/step\n",
      "dense256_dense128_dense256 ... "
     ]
    },
    {
     "name": "stderr",
     "output_type": "stream",
     "text": [
      "C:\\Users\\willi\\AppData\\Roaming\\Python\\Python38\\site-packages\\keras\\src\\backend.py:5805: UserWarning: \"`binary_crossentropy` received `from_logits=True`, but the `output` argument was produced by a Sigmoid activation and thus does not represent logits. Was this intended?\n",
      "  output, from_logits = _get_logits(\n"
     ]
    },
    {
     "name": "stdout",
     "output_type": "stream",
     "text": [
      "1182/1182 [==============================] - 1s 911us/step\n",
      "dense256_dense192_dense64 ... "
     ]
    },
    {
     "name": "stderr",
     "output_type": "stream",
     "text": [
      "C:\\Users\\willi\\AppData\\Roaming\\Python\\Python38\\site-packages\\keras\\src\\backend.py:5805: UserWarning: \"`binary_crossentropy` received `from_logits=True`, but the `output` argument was produced by a Sigmoid activation and thus does not represent logits. Was this intended?\n",
      "  output, from_logits = _get_logits(\n"
     ]
    },
    {
     "name": "stdout",
     "output_type": "stream",
     "text": [
      "1182/1182 [==============================] - 1s 859us/step\n",
      "dense256_dense192_dense128 ... "
     ]
    },
    {
     "name": "stderr",
     "output_type": "stream",
     "text": [
      "C:\\Users\\willi\\AppData\\Roaming\\Python\\Python38\\site-packages\\keras\\src\\backend.py:5805: UserWarning: \"`binary_crossentropy` received `from_logits=True`, but the `output` argument was produced by a Sigmoid activation and thus does not represent logits. Was this intended?\n",
      "  output, from_logits = _get_logits(\n"
     ]
    },
    {
     "name": "stdout",
     "output_type": "stream",
     "text": [
      "1182/1182 [==============================] - 1s 871us/step\n",
      "dense256_dense192_dense192 ... "
     ]
    },
    {
     "name": "stderr",
     "output_type": "stream",
     "text": [
      "C:\\Users\\willi\\AppData\\Roaming\\Python\\Python38\\site-packages\\keras\\src\\backend.py:5805: UserWarning: \"`binary_crossentropy` received `from_logits=True`, but the `output` argument was produced by a Sigmoid activation and thus does not represent logits. Was this intended?\n",
      "  output, from_logits = _get_logits(\n"
     ]
    },
    {
     "name": "stdout",
     "output_type": "stream",
     "text": [
      "1182/1182 [==============================] - 1s 903us/step\n",
      "dense256_dense192_dense256 ... "
     ]
    },
    {
     "name": "stderr",
     "output_type": "stream",
     "text": [
      "C:\\Users\\willi\\AppData\\Roaming\\Python\\Python38\\site-packages\\keras\\src\\backend.py:5805: UserWarning: \"`binary_crossentropy` received `from_logits=True`, but the `output` argument was produced by a Sigmoid activation and thus does not represent logits. Was this intended?\n",
      "  output, from_logits = _get_logits(\n"
     ]
    },
    {
     "name": "stdout",
     "output_type": "stream",
     "text": [
      "1182/1182 [==============================] - 1s 1ms/step\n",
      "dense256_dense256_dense64 ... "
     ]
    },
    {
     "name": "stderr",
     "output_type": "stream",
     "text": [
      "C:\\Users\\willi\\AppData\\Roaming\\Python\\Python38\\site-packages\\keras\\src\\backend.py:5805: UserWarning: \"`binary_crossentropy` received `from_logits=True`, but the `output` argument was produced by a Sigmoid activation and thus does not represent logits. Was this intended?\n",
      "  output, from_logits = _get_logits(\n"
     ]
    },
    {
     "name": "stdout",
     "output_type": "stream",
     "text": [
      "1182/1182 [==============================] - 1s 851us/step\n",
      "dense256_dense256_dense128 ... "
     ]
    },
    {
     "name": "stderr",
     "output_type": "stream",
     "text": [
      "C:\\Users\\willi\\AppData\\Roaming\\Python\\Python38\\site-packages\\keras\\src\\backend.py:5805: UserWarning: \"`binary_crossentropy` received `from_logits=True`, but the `output` argument was produced by a Sigmoid activation and thus does not represent logits. Was this intended?\n",
      "  output, from_logits = _get_logits(\n"
     ]
    },
    {
     "name": "stdout",
     "output_type": "stream",
     "text": [
      "1182/1182 [==============================] - 1s 936us/step\n",
      "dense256_dense256_dense192 ... "
     ]
    },
    {
     "name": "stderr",
     "output_type": "stream",
     "text": [
      "C:\\Users\\willi\\AppData\\Roaming\\Python\\Python38\\site-packages\\keras\\src\\backend.py:5805: UserWarning: \"`binary_crossentropy` received `from_logits=True`, but the `output` argument was produced by a Sigmoid activation and thus does not represent logits. Was this intended?\n",
      "  output, from_logits = _get_logits(\n"
     ]
    },
    {
     "name": "stdout",
     "output_type": "stream",
     "text": [
      "1182/1182 [==============================] - 1s 921us/step\n",
      "dense256_dense256_dense256 ... "
     ]
    },
    {
     "name": "stderr",
     "output_type": "stream",
     "text": [
      "C:\\Users\\willi\\AppData\\Roaming\\Python\\Python38\\site-packages\\keras\\src\\backend.py:5805: UserWarning: \"`binary_crossentropy` received `from_logits=True`, but the `output` argument was produced by a Sigmoid activation and thus does not represent logits. Was this intended?\n",
      "  output, from_logits = _get_logits(\n"
     ]
    },
    {
     "name": "stdout",
     "output_type": "stream",
     "text": [
      "1182/1182 [==============================] - 1s 1ms/step\n"
     ]
    }
   ],
   "source": [
    "# Perform optimization (takes very long runtime 537 min)\n",
    "optimization_results = optimize(\n",
    "    models=models,\n",
    "    X_train=X_train,\n",
    "    y_train=y_train,\n",
    "    X_test=X_test,\n",
    "    y_test=y_test\n",
    ")"
   ]
  },
  {
   "cell_type": "code",
   "execution_count": 186,
   "metadata": {},
   "outputs": [
    {
     "data": {
      "text/html": [
       "<div>\n",
       "<style scoped>\n",
       "    .dataframe tbody tr th:only-of-type {\n",
       "        vertical-align: middle;\n",
       "    }\n",
       "\n",
       "    .dataframe tbody tr th {\n",
       "        vertical-align: top;\n",
       "    }\n",
       "\n",
       "    .dataframe thead th {\n",
       "        text-align: right;\n",
       "    }\n",
       "</style>\n",
       "<table border=\"1\" class=\"dataframe\">\n",
       "  <thead>\n",
       "    <tr style=\"text-align: right;\">\n",
       "      <th></th>\n",
       "      <th>model_name</th>\n",
       "      <th>test_accuracy</th>\n",
       "      <th>test_precision</th>\n",
       "      <th>test_recall</th>\n",
       "      <th>test_f1</th>\n",
       "    </tr>\n",
       "  </thead>\n",
       "  <tbody>\n",
       "    <tr>\n",
       "      <th>1</th>\n",
       "      <td>dense64_dense64_dense128</td>\n",
       "      <td>0.802375</td>\n",
       "      <td>0.850133</td>\n",
       "      <td>0.823760</td>\n",
       "      <td>0.836739</td>\n",
       "    </tr>\n",
       "    <tr>\n",
       "      <th>30</th>\n",
       "      <td>dense128_dense256_dense192</td>\n",
       "      <td>0.801185</td>\n",
       "      <td>0.846656</td>\n",
       "      <td>0.826255</td>\n",
       "      <td>0.836331</td>\n",
       "    </tr>\n",
       "    <tr>\n",
       "      <th>32</th>\n",
       "      <td>dense192_dense64_dense64</td>\n",
       "      <td>0.794889</td>\n",
       "      <td>0.821001</td>\n",
       "      <td>0.852158</td>\n",
       "      <td>0.836289</td>\n",
       "    </tr>\n",
       "    <tr>\n",
       "      <th>5</th>\n",
       "      <td>dense64_dense128_dense128</td>\n",
       "      <td>0.794493</td>\n",
       "      <td>0.814165</td>\n",
       "      <td>0.862613</td>\n",
       "      <td>0.837689</td>\n",
       "    </tr>\n",
       "    <tr>\n",
       "      <th>35</th>\n",
       "      <td>dense192_dense64_dense256</td>\n",
       "      <td>0.792906</td>\n",
       "      <td>0.807183</td>\n",
       "      <td>0.871262</td>\n",
       "      <td>0.837999</td>\n",
       "    </tr>\n",
       "    <tr>\n",
       "      <th>...</th>\n",
       "      <td>...</td>\n",
       "      <td>...</td>\n",
       "      <td>...</td>\n",
       "      <td>...</td>\n",
       "      <td>...</td>\n",
       "    </tr>\n",
       "    <tr>\n",
       "      <th>13</th>\n",
       "      <td>dense64_dense256_dense128</td>\n",
       "      <td>0.546371</td>\n",
       "      <td>0.915666</td>\n",
       "      <td>0.288714</td>\n",
       "      <td>0.439007</td>\n",
       "    </tr>\n",
       "    <tr>\n",
       "      <th>21</th>\n",
       "      <td>dense128_dense128_dense128</td>\n",
       "      <td>0.530764</td>\n",
       "      <td>0.913311</td>\n",
       "      <td>0.261564</td>\n",
       "      <td>0.406663</td>\n",
       "    </tr>\n",
       "    <tr>\n",
       "      <th>48</th>\n",
       "      <td>dense256_dense64_dense64</td>\n",
       "      <td>0.501587</td>\n",
       "      <td>0.916809</td>\n",
       "      <td>0.208167</td>\n",
       "      <td>0.339294</td>\n",
       "    </tr>\n",
       "    <tr>\n",
       "      <th>60</th>\n",
       "      <td>dense256_dense256_dense64</td>\n",
       "      <td>0.437917</td>\n",
       "      <td>0.889367</td>\n",
       "      <td>0.097887</td>\n",
       "      <td>0.176363</td>\n",
       "    </tr>\n",
       "    <tr>\n",
       "      <th>11</th>\n",
       "      <td>dense64_dense192_dense256</td>\n",
       "      <td>0.413131</td>\n",
       "      <td>0.850033</td>\n",
       "      <td>0.055118</td>\n",
       "      <td>0.103524</td>\n",
       "    </tr>\n",
       "  </tbody>\n",
       "</table>\n",
       "<p>64 rows × 5 columns</p>\n",
       "</div>"
      ],
      "text/plain": [
       "                    model_name  test_accuracy  test_precision  test_recall  \\\n",
       "1     dense64_dense64_dense128       0.802375        0.850133     0.823760   \n",
       "30  dense128_dense256_dense192       0.801185        0.846656     0.826255   \n",
       "32    dense192_dense64_dense64       0.794889        0.821001     0.852158   \n",
       "5    dense64_dense128_dense128       0.794493        0.814165     0.862613   \n",
       "35   dense192_dense64_dense256       0.792906        0.807183     0.871262   \n",
       "..                         ...            ...             ...          ...   \n",
       "13   dense64_dense256_dense128       0.546371        0.915666     0.288714   \n",
       "21  dense128_dense128_dense128       0.530764        0.913311     0.261564   \n",
       "48    dense256_dense64_dense64       0.501587        0.916809     0.208167   \n",
       "60   dense256_dense256_dense64       0.437917        0.889367     0.097887   \n",
       "11   dense64_dense192_dense256       0.413131        0.850033     0.055118   \n",
       "\n",
       "     test_f1  \n",
       "1   0.836739  \n",
       "30  0.836331  \n",
       "32  0.836289  \n",
       "5   0.837689  \n",
       "35  0.837999  \n",
       "..       ...  \n",
       "13  0.439007  \n",
       "21  0.406663  \n",
       "48  0.339294  \n",
       "60  0.176363  \n",
       "11  0.103524  \n",
       "\n",
       "[64 rows x 5 columns]"
      ]
     },
     "execution_count": 186,
     "metadata": {},
     "output_type": "execute_result"
    }
   ],
   "source": [
    "optimization_results.sort_values(by='test_accuracy', ascending=False)"
   ]
  },
  {
   "cell_type": "markdown",
   "metadata": {},
   "source": [
    "A 64,64,128 node three hidden layer model is the optimal model structure."
   ]
  },
  {
   "cell_type": "markdown",
   "metadata": {},
   "source": [
    "## Optimal Three Hidden Layer Model"
   ]
  },
  {
   "cell_type": "code",
   "execution_count": 235,
   "metadata": {},
   "outputs": [
    {
     "name": "stdout",
     "output_type": "stream",
     "text": [
      "dense64_dense64_dense64  ,  <keras.src.engine.sequential.Sequential object at 0x0000023648D3B700>\n",
      "dense64_dense64_dense128  ,  <keras.src.engine.sequential.Sequential object at 0x0000023648D085E0>\n",
      "dense64_dense64_dense192  ,  <keras.src.engine.sequential.Sequential object at 0x00000236F0C27280>\n",
      "dense64_dense64_dense256  ,  <keras.src.engine.sequential.Sequential object at 0x00000236F0C27430>\n",
      "dense64_dense128_dense64  ,  <keras.src.engine.sequential.Sequential object at 0x00000236F0C04C40>\n",
      "dense64_dense128_dense128  ,  <keras.src.engine.sequential.Sequential object at 0x000002364C032460>\n",
      "dense64_dense128_dense192  ,  <keras.src.engine.sequential.Sequential object at 0x00000236C70D67C0>\n",
      "dense64_dense128_dense256  ,  <keras.src.engine.sequential.Sequential object at 0x0000023681ADF8B0>\n",
      "dense64_dense192_dense64  ,  <keras.src.engine.sequential.Sequential object at 0x0000023697A24D30>\n",
      "dense64_dense192_dense128  ,  <keras.src.engine.sequential.Sequential object at 0x000002364AD5FD90>\n",
      "dense64_dense192_dense192  ,  <keras.src.engine.sequential.Sequential object at 0x0000023697A0CAC0>\n",
      "dense64_dense192_dense256  ,  <keras.src.engine.sequential.Sequential object at 0x0000023681ADF130>\n",
      "dense64_dense256_dense64  ,  <keras.src.engine.sequential.Sequential object at 0x0000023697A244F0>\n",
      "dense64_dense256_dense128  ,  <keras.src.engine.sequential.Sequential object at 0x00000236979EED60>\n",
      "dense64_dense256_dense192  ,  <keras.src.engine.sequential.Sequential object at 0x000002369758F970>\n",
      "dense64_dense256_dense256  ,  <keras.src.engine.sequential.Sequential object at 0x00000236979FAA00>\n",
      "dense128_dense64_dense64  ,  <keras.src.engine.sequential.Sequential object at 0x0000023699D07400>\n",
      "dense128_dense64_dense128  ,  <keras.src.engine.sequential.Sequential object at 0x0000023699D07190>\n",
      "dense128_dense64_dense192  ,  <keras.src.engine.sequential.Sequential object at 0x00000236814D1C70>\n",
      "dense128_dense64_dense256  ,  <keras.src.engine.sequential.Sequential object at 0x0000023697A157F0>\n",
      "dense128_dense128_dense64  ,  <keras.src.engine.sequential.Sequential object at 0x0000023648A695E0>\n",
      "dense128_dense128_dense128  ,  <keras.src.engine.sequential.Sequential object at 0x000002364BB0ACA0>\n",
      "dense128_dense128_dense192  ,  <keras.src.engine.sequential.Sequential object at 0x000002364BB0A880>\n",
      "dense128_dense128_dense256  ,  <keras.src.engine.sequential.Sequential object at 0x000002364BC45BB0>\n",
      "dense128_dense192_dense64  ,  <keras.src.engine.sequential.Sequential object at 0x000002364BC45BE0>\n",
      "dense128_dense192_dense128  ,  <keras.src.engine.sequential.Sequential object at 0x00000236975AFB50>\n",
      "dense128_dense192_dense192  ,  <keras.src.engine.sequential.Sequential object at 0x000002366BBA0910>\n",
      "dense128_dense192_dense256  ,  <keras.src.engine.sequential.Sequential object at 0x000002364BA71130>\n",
      "dense128_dense256_dense64  ,  <keras.src.engine.sequential.Sequential object at 0x0000023648A69490>\n",
      "dense128_dense256_dense128  ,  <keras.src.engine.sequential.Sequential object at 0x000002364BC82400>\n",
      "dense128_dense256_dense192  ,  <keras.src.engine.sequential.Sequential object at 0x000002364A39A730>\n",
      "dense128_dense256_dense256  ,  <keras.src.engine.sequential.Sequential object at 0x00000236E6A55E80>\n",
      "dense192_dense64_dense64  ,  <keras.src.engine.sequential.Sequential object at 0x0000023681955670>\n",
      "dense192_dense64_dense128  ,  <keras.src.engine.sequential.Sequential object at 0x0000023681955B20>\n",
      "dense192_dense64_dense192  ,  <keras.src.engine.sequential.Sequential object at 0x00000236DFCB7850>\n",
      "dense192_dense64_dense256  ,  <keras.src.engine.sequential.Sequential object at 0x000002364AAE2940>\n",
      "dense192_dense128_dense64  ,  <keras.src.engine.sequential.Sequential object at 0x00000236DFCB7160>\n",
      "dense192_dense128_dense128  ,  <keras.src.engine.sequential.Sequential object at 0x00000236DFCD16D0>\n",
      "dense192_dense128_dense192  ,  <keras.src.engine.sequential.Sequential object at 0x00000236DFCE9D60>\n",
      "dense192_dense128_dense256  ,  <keras.src.engine.sequential.Sequential object at 0x00000236DFCF00D0>\n",
      "dense192_dense192_dense64  ,  <keras.src.engine.sequential.Sequential object at 0x00000236DFD01970>\n",
      "dense192_dense192_dense128  ,  <keras.src.engine.sequential.Sequential object at 0x00000236DFD27340>\n",
      "dense192_dense192_dense192  ,  <keras.src.engine.sequential.Sequential object at 0x00000236DFD20970>\n",
      "dense192_dense192_dense256  ,  <keras.src.engine.sequential.Sequential object at 0x00000236DFCD7610>\n",
      "dense192_dense256_dense64  ,  <keras.src.engine.sequential.Sequential object at 0x00000236DFD55700>\n",
      "dense192_dense256_dense128  ,  <keras.src.engine.sequential.Sequential object at 0x00000236DFD64130>\n",
      "dense192_dense256_dense192  ,  <keras.src.engine.sequential.Sequential object at 0x00000236DFD7A2E0>\n",
      "dense192_dense256_dense256  ,  <keras.src.engine.sequential.Sequential object at 0x00000236DFD94F40>\n",
      "dense256_dense64_dense64  ,  <keras.src.engine.sequential.Sequential object at 0x00000236DFD94310>\n",
      "dense256_dense64_dense128  ,  <keras.src.engine.sequential.Sequential object at 0x00000236DFD9BF40>\n",
      "dense256_dense64_dense192  ,  <keras.src.engine.sequential.Sequential object at 0x00000236DFDD5220>\n",
      "dense256_dense64_dense256  ,  <keras.src.engine.sequential.Sequential object at 0x00000236DFD64190>\n",
      "dense256_dense128_dense64  ,  <keras.src.engine.sequential.Sequential object at 0x00000236DFDDE910>\n",
      "dense256_dense128_dense128  ,  <keras.src.engine.sequential.Sequential object at 0x00000236DFDDE160>\n",
      "dense256_dense128_dense192  ,  <keras.src.engine.sequential.Sequential object at 0x00000236DFDFABE0>\n",
      "dense256_dense128_dense256  ,  <keras.src.engine.sequential.Sequential object at 0x00000236DFDFA730>\n",
      "dense256_dense192_dense64  ,  <keras.src.engine.sequential.Sequential object at 0x00000236DFE30400>\n",
      "dense256_dense192_dense128  ,  <keras.src.engine.sequential.Sequential object at 0x00000236DFE4C5B0>\n",
      "dense256_dense192_dense192  ,  <keras.src.engine.sequential.Sequential object at 0x00000236DFE46430>\n",
      "dense256_dense192_dense256  ,  <keras.src.engine.sequential.Sequential object at 0x00000236DFE469A0>\n",
      "dense256_dense256_dense64  ,  <keras.src.engine.sequential.Sequential object at 0x00000236DFE6EC40>\n",
      "dense256_dense256_dense128  ,  <keras.src.engine.sequential.Sequential object at 0x00000236DFE75BE0>\n",
      "dense256_dense256_dense192  ,  <keras.src.engine.sequential.Sequential object at 0x00000236DFE99880>\n",
      "dense256_dense256_dense256  ,  <keras.src.engine.sequential.Sequential object at 0x00000236DFEAE340>\n"
     ]
    }
   ],
   "source": [
    "for model in models:\n",
    "    print(model.name,' , ', model)"
   ]
  },
  {
   "cell_type": "markdown",
   "metadata": {},
   "source": [
    "Optimal model is second in the list of models."
   ]
  },
  {
   "cell_type": "code",
   "execution_count": 236,
   "metadata": {},
   "outputs": [
    {
     "name": "stdout",
     "output_type": "stream",
     "text": [
      "Model: \"dense64_dense64_dense128\"\n",
      "_________________________________________________________________\n",
      " Layer (type)                Output Shape              Param #   \n",
      "=================================================================\n",
      " dense_74 (Dense)            (None, 64)                5248      \n",
      "                                                                 \n",
      " dense_75 (Dense)            (None, 64)                4160      \n",
      "                                                                 \n",
      " dense_76 (Dense)            (None, 128)               8320      \n",
      "                                                                 \n",
      " dense_77 (Dense)            (None, 1)                 129       \n",
      "                                                                 \n",
      "=================================================================\n",
      "Total params: 17857 (69.75 KB)\n",
      "Trainable params: 17857 (69.75 KB)\n",
      "Non-trainable params: 0 (0.00 Byte)\n",
      "_________________________________________________________________\n"
     ]
    }
   ],
   "source": [
    "models[1].summary()"
   ]
  },
  {
   "cell_type": "code",
   "execution_count": 240,
   "metadata": {},
   "outputs": [],
   "source": [
    "epochs = 100\n",
    "verbose = 0\n",
    "\n",
    "history = models[1].fit(X_train, y_train, epochs = epochs, verbose = 0) #, batch_size = batch_size)"
   ]
  },
  {
   "cell_type": "code",
   "execution_count": 243,
   "metadata": {},
   "outputs": [
    {
     "name": "stdout",
     "output_type": "stream",
     "text": [
      "  62/1182 [>.............................] - ETA: 0s - loss: 0.4776 - accuracy: 0.8155  "
     ]
    },
    {
     "name": "stderr",
     "output_type": "stream",
     "text": [
      "C:\\Users\\willi\\AppData\\Roaming\\Python\\Python38\\site-packages\\keras\\src\\backend.py:5805: UserWarning: \"`binary_crossentropy` received `from_logits=True`, but the `output` argument was produced by a Sigmoid activation and thus does not represent logits. Was this intended?\n",
      "  output, from_logits = _get_logits(\n"
     ]
    },
    {
     "name": "stdout",
     "output_type": "stream",
     "text": [
      "1182/1182 [==============================] - 1s 779us/step - loss: 0.4912 - accuracy: 0.8045\n",
      "Accuracy: 80.45\n"
     ]
    }
   ],
   "source": [
    "loss, accuracy = models[1].evaluate(X_test, y_test)\n",
    "print('Accuracy: %.2f' % (accuracy*100))"
   ]
  },
  {
   "cell_type": "code",
   "execution_count": 241,
   "metadata": {},
   "outputs": [
    {
     "data": {
      "image/png": "[encoded data removed]",
      "text/plain": [
       "<Figure size 432x288 with 1 Axes>"
      ]
     },
     "metadata": {
      "needs_background": "light"
     },
     "output_type": "display_data"
    }
   ],
   "source": [
    "plt.plot(history.history['accuracy'])\n",
    "plt.title('Three Layer Model Accuracy')\n",
    "plt.ylabel('accuracy')\n",
    "plt.xlabel('epoch')\n",
    "plt.show()"
   ]
  },
  {
   "cell_type": "code",
   "execution_count": 244,
   "metadata": {},
   "outputs": [
    {
     "data": {
      "image/png": "[encoded data removed]",
      "text/plain": [
       "<Figure size 432x288 with 1 Axes>"
      ]
     },
     "metadata": {
      "needs_background": "light"
     },
     "output_type": "display_data"
    }
   ],
   "source": [
    "plt.plot(history.history['loss'])\n",
    "plt.title('Three Layer Model Loss')\n",
    "plt.ylabel('loss')\n",
    "plt.xlabel('epoch')\n",
    "plt.show()"
   ]
  },
  {
   "cell_type": "code",
   "execution_count": 327,
   "metadata": {},
   "outputs": [
    {
     "name": "stdout",
     "output_type": "stream",
     "text": [
      "1182/1182 [==============================] - 1s 697us/step\n"
     ]
    }
   ],
   "source": [
    "preds = models[1].predict(X_test)\n",
    "prediction_classes = [1 if prob > 0.5 else 0 for prob in np.ravel(preds)]"
   ]
  },
  {
   "cell_type": "code",
   "execution_count": 291,
   "metadata": {},
   "outputs": [
    {
     "name": "stdout",
     "output_type": "stream",
     "text": [
      "'dense64_dense64_dense128' Model Metrics\n",
      "------------------------------------------------------------------------------------------------------------------------------------------------------\n",
      "{'test_accuracy': 0.8045444926462808, 'test_precision': 0.8858060747663551, 'test_recall': 0.7830127791403124, 'test_f1': 0.8312435765673175}\n",
      "======================================================================================================================================================\n"
     ]
    }
   ],
   "source": [
    "metrics_dict = {'test_accuracy': accuracy_score(y_test, prediction_classes),\n",
    "'test_precision': precision_score(y_test, prediction_classes),\n",
    "'test_recall': recall_score(y_test, prediction_classes),\n",
    "'test_f1': f1_score(y_test, prediction_classes)}\n",
    "\n",
    "print(f\"'{three_layer_model._name}' Model Metrics\")\n",
    "print('-'*150)\n",
    "print(metrics_dict)\n",
    "print('='*150)"
   ]
  },
  {
   "cell_type": "code",
   "execution_count": 292,
   "metadata": {},
   "outputs": [
    {
     "name": "stdout",
     "output_type": "stream",
     "text": [
      "(array([0, 1]), array([17260, 20544], dtype=int64))\n"
     ]
    }
   ],
   "source": [
    "print(np.unique(prediction_classes, return_counts = True))"
   ]
  },
  {
   "cell_type": "code",
   "execution_count": 328,
   "metadata": {},
   "outputs": [
    {
     "name": "stdout",
     "output_type": "stream",
     "text": [
      "Confusion Matrix\n",
      "         Pred: 0  Pred: 1\n",
      "True: 0    12217     2346\n",
      "True: 1     5043    18198\n"
     ]
    }
   ],
   "source": [
    "# Confusion Matrix\n",
    "cm = confusion_matrix(y_test, prediction_classes)\n",
    "#print(cm)\n",
    "cmtx = pd.DataFrame(cm, index = ['True: 0', 'True: 1'], columns = ['Pred: 0', 'Pred: 1'])\n",
    "print('Confusion Matrix')\n",
    "print(cmtx)"
   ]
  },
  {
   "cell_type": "code",
   "execution_count": 331,
   "metadata": {},
   "outputs": [
    {
     "name": "stdout",
     "output_type": "stream",
     "text": [
      "1182/1182 [==============================] - 1s 708us/step\n",
      "\n",
      "Best Threshold = 0.483769, G-Mean=0.814\n"
     ]
    },
    {
     "data": {
      "image/png": "[encoded data removed]",
      "text/plain": [
       "<Figure size 432x288 with 1 Axes>"
      ]
     },
     "metadata": {
      "needs_background": "light"
     },
     "output_type": "display_data"
    }
   ],
   "source": [
    "# ROC Curve\n",
    "y_preds = models[1].predict(X_test).ravel()\n",
    "fpr, tpr, thresholds = roc_curve(y_test, y_preds)\n",
    "\n",
    "# Calculate the g-mean for each threshold\n",
    "gmeans = np.sqrt(tpr * (1-fpr))\n",
    "\n",
    "# locate the index of the largest g-mean\n",
    "ix = np.argmax(gmeans)\n",
    "print('\\nBest Threshold = %f, G-Mean=%.3f' % (thresholds[ix], gmeans[ix]))\n",
    "\n",
    "\n",
    "plt.figure()\n",
    "plt.plot([0,1],[0,1],'y--', zorder = 1)\n",
    "plt.plot(fpr, tpr, marker = '.', zorder = 2)\n",
    "plt.scatter(fpr[ix], tpr[ix], marker='X', color='red', label='Best Treshold Ratio', zorder = 3)\n",
    "plt.xlabel('False \"0\" rate')\n",
    "plt.ylabel('True \"0\" rate')\n",
    "plt.title('ROC curve (Three Hidden Layer Model)')\n",
    "plt.show()"
   ]
  },
  {
   "attachments": {
    "image.png": {
     "image/png": "[encoded data removed]"
    }
   },
   "cell_type": "markdown",
   "metadata": {},
   "source": [
    "Geometric Mean Formula\n",
    "\n",
    "![image.png](attachment:image.png)"
   ]
  },
  {
   "cell_type": "markdown",
   "metadata": {},
   "source": [
    "See if we can optimize accuracy by changing threshold based on optimal geometric mean (G-Mean) Ratio. Based on ROC curve above, that threshold seems to be 0.483769"
   ]
  },
  {
   "cell_type": "code",
   "execution_count": 332,
   "metadata": {},
   "outputs": [
    {
     "name": "stdout",
     "output_type": "stream",
     "text": [
      "1182/1182 [==============================] - 1s 687us/step\n"
     ]
    }
   ],
   "source": [
    "preds = models[1].predict(X_test)\n",
    "prediction_classes = [1 if prob > thresholds[ix] else 0 for prob in np.ravel(preds)]"
   ]
  },
  {
   "cell_type": "code",
   "execution_count": 298,
   "metadata": {},
   "outputs": [
    {
     "name": "stdout",
     "output_type": "stream",
     "text": [
      "'dense64_dense64_dense128' Model Metrics\n",
      "------------------------------------------------------------------------------------------------------------------------------------------------------\n",
      "{'test_accuracy': 0.811898211829436, 'test_precision': 0.8792082001128456, 'test_recall': 0.8045695107783658, 'test_f1': 0.840234559302613}\n",
      "======================================================================================================================================================\n"
     ]
    }
   ],
   "source": [
    "metrics_dict = {'test_accuracy': accuracy_score(y_test, prediction_classes),\n",
    "'test_precision': precision_score(y_test, prediction_classes),\n",
    "'test_recall': recall_score(y_test, prediction_classes),\n",
    "'test_f1': f1_score(y_test, prediction_classes)}\n",
    "\n",
    "print(f\"'{three_layer_model._name}' Model Metrics\")\n",
    "print('-'*150)\n",
    "print(metrics_dict)\n",
    "print('='*150)"
   ]
  },
  {
   "cell_type": "code",
   "execution_count": 333,
   "metadata": {},
   "outputs": [
    {
     "name": "stdout",
     "output_type": "stream",
     "text": [
      "Confusion Matrix\n",
      "         Pred: 0  Pred: 1\n",
      "True: 0    11994     2569\n",
      "True: 1     4542    18699\n"
     ]
    }
   ],
   "source": [
    "# Confusion Matrix\n",
    "cm = confusion_matrix(y_test, prediction_classes)\n",
    "#print(cm)\n",
    "cmtx = pd.DataFrame(cm, index = ['True: 0', 'True: 1'], columns = ['Pred: 0', 'Pred: 1'])\n",
    "print('Confusion Matrix')\n",
    "print(cmtx)"
   ]
  },
  {
   "cell_type": "markdown",
   "metadata": {},
   "source": [
    "We were able to slightly improve accuracy from 80.45% to 81.19%."
   ]
  },
  {
   "cell_type": "markdown",
   "metadata": {},
   "source": [
    "## One Hidden Layer Model for Comparison (Shallow Neural Network)"
   ]
  },
  {
   "cell_type": "code",
   "execution_count": 311,
   "metadata": {},
   "outputs": [],
   "source": [
    "singleLayerNodes = [25] # Numer of nodes for the hidden layer\n",
    "\n",
    "# Initiate Sequential model\n",
    "model1 = tf.keras.Sequential()\n",
    "model1.add(tf.keras.layers.InputLayer(input_shape=(X_train.shape[1],))) # Input Layer\n",
    "model1_name = ''\n",
    "\n",
    "# Add hidden layer(s)    \n",
    "for nodes_at_layer in singleLayerNodes:\n",
    "    model1.add(tf.keras.layers.Dense(nodes_at_layer, activation='relu'))\n",
    "    model1_name += f'dense{nodes_at_layer}_'\n",
    "        \n",
    "model1.add(tf.keras.layers.Dense(1, activation='sigmoid')) # Output Layer\n",
    "model1._name = model1_name[:-1]"
   ]
  },
  {
   "cell_type": "code",
   "execution_count": 312,
   "metadata": {},
   "outputs": [
    {
     "name": "stdout",
     "output_type": "stream",
     "text": [
      "dense25\n"
     ]
    }
   ],
   "source": [
    "print(model1._name)"
   ]
  },
  {
   "cell_type": "code",
   "execution_count": 313,
   "metadata": {},
   "outputs": [
    {
     "name": "stdout",
     "output_type": "stream",
     "text": [
      "Model: \"dense25\"\n",
      "_________________________________________________________________\n",
      " Layer (type)                Output Shape              Param #   \n",
      "=================================================================\n",
      " dense_602 (Dense)           (None, 25)                2050      \n",
      "                                                                 \n",
      " dense_603 (Dense)           (None, 1)                 26        \n",
      "                                                                 \n",
      "=================================================================\n",
      "Total params: 2076 (8.11 KB)\n",
      "Trainable params: 2076 (8.11 KB)\n",
      "Non-trainable params: 0 (0.00 Byte)\n",
      "_________________________________________________________________\n"
     ]
    }
   ],
   "source": [
    "learning_rate = 0.001\n",
    "optimizer = optimizers.SGD(learning_rate)\n",
    "model1.compile(loss=tf.keras.losses.BinaryCrossentropy(from_logits=True), \n",
    "    optimizer=optimizer, metrics=['accuracy'])\n",
    "model1.summary()"
   ]
  },
  {
   "cell_type": "code",
   "execution_count": 314,
   "metadata": {},
   "outputs": [
    {
     "name": "stdout",
     "output_type": "stream",
     "text": [
      "Epoch 1/100\n"
     ]
    },
    {
     "name": "stderr",
     "output_type": "stream",
     "text": [
      "C:\\Users\\willi\\AppData\\Roaming\\Python\\Python38\\site-packages\\keras\\src\\backend.py:5805: UserWarning: \"`binary_crossentropy` received `from_logits=True`, but the `output` argument was produced by a Sigmoid activation and thus does not represent logits. Was this intended?\n",
      "  output, from_logits = _get_logits(\n"
     ]
    },
    {
     "name": "stdout",
     "output_type": "stream",
     "text": [
      "4726/4726 [==============================] - 4s 824us/step - loss: 0.7122 - accuracy: 0.5864\n",
      "Epoch 2/100\n",
      "4726/4726 [==============================] - 4s 809us/step - loss: 0.6653 - accuracy: 0.6088\n",
      "Epoch 3/100\n",
      "4726/4726 [==============================] - 4s 806us/step - loss: 0.6605 - accuracy: 0.6137\n",
      "Epoch 4/100\n",
      "4726/4726 [==============================] - 4s 820us/step - loss: 0.6581 - accuracy: 0.6161\n",
      "Epoch 5/100\n",
      "4726/4726 [==============================] - 4s 827us/step - loss: 0.6569 - accuracy: 0.6167\n",
      "Epoch 6/100\n",
      "4726/4726 [==============================] - 4s 843us/step - loss: 0.6560 - accuracy: 0.6182\n",
      "Epoch 7/100\n",
      "4726/4726 [==============================] - 4s 864us/step - loss: 0.6545 - accuracy: 0.6201\n",
      "Epoch 8/100\n",
      "4726/4726 [==============================] - 4s 861us/step - loss: 0.6536 - accuracy: 0.6199\n",
      "Epoch 9/100\n",
      "4726/4726 [==============================] - 4s 822us/step - loss: 0.6528 - accuracy: 0.6223\n",
      "Epoch 10/100\n",
      "4726/4726 [==============================] - 4s 825us/step - loss: 0.6517 - accuracy: 0.6229\n",
      "Epoch 11/100\n",
      "4726/4726 [==============================] - 4s 816us/step - loss: 0.6511 - accuracy: 0.6219\n",
      "Epoch 12/100\n",
      "4726/4726 [==============================] - 4s 835us/step - loss: 0.6499 - accuracy: 0.6244\n",
      "Epoch 13/100\n",
      "4726/4726 [==============================] - 4s 832us/step - loss: 0.6492 - accuracy: 0.6247\n",
      "Epoch 14/100\n",
      "4726/4726 [==============================] - 4s 949us/step - loss: 0.6478 - accuracy: 0.6261\n",
      "Epoch 15/100\n",
      "4726/4726 [==============================] - 5s 977us/step - loss: 0.6467 - accuracy: 0.6265\n",
      "Epoch 16/100\n",
      "4726/4726 [==============================] - 4s 889us/step - loss: 0.6464 - accuracy: 0.6270\n",
      "Epoch 17/100\n",
      "4726/4726 [==============================] - 4s 914us/step - loss: 0.6456 - accuracy: 0.6273\n",
      "Epoch 18/100\n",
      "4726/4726 [==============================] - 4s 843us/step - loss: 0.6450 - accuracy: 0.6290\n",
      "Epoch 19/100\n",
      "4726/4726 [==============================] - 4s 861us/step - loss: 0.6437 - accuracy: 0.6305\n",
      "Epoch 20/100\n",
      "4726/4726 [==============================] - 4s 843us/step - loss: 0.6426 - accuracy: 0.6309\n",
      "Epoch 21/100\n",
      "4726/4726 [==============================] - 4s 951us/step - loss: 0.6423 - accuracy: 0.6312\n",
      "Epoch 22/100\n",
      "4726/4726 [==============================] - 4s 901us/step - loss: 0.6412 - accuracy: 0.6319\n",
      "Epoch 23/100\n",
      "4726/4726 [==============================] - 4s 864us/step - loss: 0.6399 - accuracy: 0.6344\n",
      "Epoch 24/100\n",
      "4726/4726 [==============================] - 4s 865us/step - loss: 0.6398 - accuracy: 0.6341\n",
      "Epoch 25/100\n",
      "4726/4726 [==============================] - 4s 836us/step - loss: 0.6388 - accuracy: 0.6352\n",
      "Epoch 26/100\n",
      "4726/4726 [==============================] - 4s 886us/step - loss: 0.6379 - accuracy: 0.6355\n",
      "Epoch 27/100\n",
      "4726/4726 [==============================] - 4s 860us/step - loss: 0.6370 - accuracy: 0.6377\n",
      "Epoch 28/100\n",
      "4726/4726 [==============================] - 5s 966us/step - loss: 0.6363 - accuracy: 0.6371\n",
      "Epoch 29/100\n",
      "4726/4726 [==============================] - 5s 1ms/step - loss: 0.6352 - accuracy: 0.6389\n",
      "Epoch 30/100\n",
      "4726/4726 [==============================] - 5s 1ms/step - loss: 0.6343 - accuracy: 0.6400\n",
      "Epoch 31/100\n",
      "4726/4726 [==============================] - 5s 1ms/step - loss: 0.6338 - accuracy: 0.6403\n",
      "Epoch 32/100\n",
      "4726/4726 [==============================] - 5s 1ms/step - loss: 0.6335 - accuracy: 0.6404\n",
      "Epoch 33/100\n",
      "4726/4726 [==============================] - 5s 1ms/step - loss: 0.6323 - accuracy: 0.6415\n",
      "Epoch 34/100\n",
      "4726/4726 [==============================] - 7s 2ms/step - loss: 0.6312 - accuracy: 0.6432\n",
      "Epoch 35/100\n",
      "4726/4726 [==============================] - 5s 1ms/step - loss: 0.6313 - accuracy: 0.6432\n",
      "Epoch 36/100\n",
      "4726/4726 [==============================] - 5s 965us/step - loss: 0.6284 - accuracy: 0.6463\n",
      "Epoch 37/100\n",
      "4726/4726 [==============================] - 5s 1ms/step - loss: 0.6300 - accuracy: 0.6448\n",
      "Epoch 38/100\n",
      "4726/4726 [==============================] - 5s 1ms/step - loss: 0.6287 - accuracy: 0.6459\n",
      "Epoch 39/100\n",
      "4726/4726 [==============================] - 5s 994us/step - loss: 0.6286 - accuracy: 0.6473\n",
      "Epoch 40/100\n",
      "4726/4726 [==============================] - 5s 1ms/step - loss: 0.6275 - accuracy: 0.6476\n",
      "Epoch 41/100\n",
      "4726/4726 [==============================] - 5s 955us/step - loss: 0.6266 - accuracy: 0.6483\n",
      "Epoch 42/100\n",
      "4726/4726 [==============================] - 4s 950us/step - loss: 0.6262 - accuracy: 0.6489\n",
      "Epoch 43/100\n",
      "4726/4726 [==============================] - 5s 985us/step - loss: 0.6255 - accuracy: 0.6492\n",
      "Epoch 44/100\n",
      "4726/4726 [==============================] - 5s 1ms/step - loss: 0.6242 - accuracy: 0.6494\n",
      "Epoch 45/100\n",
      "4726/4726 [==============================] - 4s 909us/step - loss: 0.6232 - accuracy: 0.6509\n",
      "Epoch 46/100\n",
      "4726/4726 [==============================] - 4s 913us/step - loss: 0.6223 - accuracy: 0.6525\n",
      "Epoch 47/100\n",
      "4726/4726 [==============================] - 4s 913us/step - loss: 0.6231 - accuracy: 0.6516\n",
      "Epoch 48/100\n",
      "4726/4726 [==============================] - 4s 892us/step - loss: 0.6221 - accuracy: 0.6529\n",
      "Epoch 49/100\n",
      "4726/4726 [==============================] - 4s 884us/step - loss: 0.6207 - accuracy: 0.6541\n",
      "Epoch 50/100\n",
      "4726/4726 [==============================] - 4s 912us/step - loss: 0.6196 - accuracy: 0.6550\n",
      "Epoch 51/100\n",
      "4726/4726 [==============================] - 4s 914us/step - loss: 0.6200 - accuracy: 0.6544\n",
      "Epoch 52/100\n",
      "4726/4726 [==============================] - 4s 886us/step - loss: 0.6183 - accuracy: 0.6562\n",
      "Epoch 53/100\n",
      "4726/4726 [==============================] - 4s 886us/step - loss: 0.6188 - accuracy: 0.6559\n",
      "Epoch 54/100\n",
      "4726/4726 [==============================] - 4s 892us/step - loss: 0.6180 - accuracy: 0.6565\n",
      "Epoch 55/100\n",
      "4726/4726 [==============================] - 5s 976us/step - loss: 0.6160 - accuracy: 0.6594\n",
      "Epoch 56/100\n",
      "4726/4726 [==============================] - 5s 994us/step - loss: 0.6166 - accuracy: 0.6578\n",
      "Epoch 57/100\n",
      "4726/4726 [==============================] - 4s 920us/step - loss: 0.6153 - accuracy: 0.6595\n",
      "Epoch 58/100\n",
      "4726/4726 [==============================] - 4s 932us/step - loss: 0.6146 - accuracy: 0.6610\n",
      "Epoch 59/100\n",
      "4726/4726 [==============================] - 4s 906us/step - loss: 0.6151 - accuracy: 0.6595\n",
      "Epoch 60/100\n",
      "4726/4726 [==============================] - 4s 852us/step - loss: 0.6139 - accuracy: 0.6607\n",
      "Epoch 61/100\n",
      "4726/4726 [==============================] - 4s 876us/step - loss: 0.6129 - accuracy: 0.6636\n",
      "Epoch 62/100\n",
      "4726/4726 [==============================] - 4s 853us/step - loss: 0.6125 - accuracy: 0.6634\n",
      "Epoch 63/100\n",
      "4726/4726 [==============================] - 4s 848us/step - loss: 0.6120 - accuracy: 0.6637\n",
      "Epoch 64/100\n",
      "4726/4726 [==============================] - 4s 846us/step - loss: 0.6112 - accuracy: 0.6637\n",
      "Epoch 65/100\n",
      "4726/4726 [==============================] - 4s 848us/step - loss: 0.6103 - accuracy: 0.6641\n",
      "Epoch 66/100\n",
      "4726/4726 [==============================] - 4s 858us/step - loss: 0.6098 - accuracy: 0.6666\n",
      "Epoch 67/100\n",
      "4726/4726 [==============================] - 4s 838us/step - loss: 0.6087 - accuracy: 0.6655\n",
      "Epoch 68/100\n",
      "4726/4726 [==============================] - 4s 850us/step - loss: 0.6090 - accuracy: 0.6655\n",
      "Epoch 69/100\n",
      "4726/4726 [==============================] - 4s 900us/step - loss: 0.6088 - accuracy: 0.6670\n",
      "Epoch 70/100\n",
      "4726/4726 [==============================] - 4s 837us/step - loss: 0.6072 - accuracy: 0.6677\n",
      "Epoch 71/100\n",
      "4726/4726 [==============================] - 4s 834us/step - loss: 0.6071 - accuracy: 0.6670\n",
      "Epoch 72/100\n",
      "4726/4726 [==============================] - 4s 833us/step - loss: 0.6077 - accuracy: 0.6695\n",
      "Epoch 73/100\n",
      "4726/4726 [==============================] - 4s 851us/step - loss: 0.6044 - accuracy: 0.6711\n",
      "Epoch 74/100\n",
      "4726/4726 [==============================] - 4s 860us/step - loss: 0.6058 - accuracy: 0.6693\n",
      "Epoch 75/100\n",
      "4726/4726 [==============================] - 4s 914us/step - loss: 0.6053 - accuracy: 0.6718\n",
      "Epoch 76/100\n",
      "4726/4726 [==============================] - 4s 883us/step - loss: 0.6049 - accuracy: 0.6721\n",
      "Epoch 77/100\n",
      "4726/4726 [==============================] - 4s 883us/step - loss: 0.6040 - accuracy: 0.6722\n",
      "Epoch 78/100\n",
      "4726/4726 [==============================] - 4s 883us/step - loss: 0.6030 - accuracy: 0.6734\n",
      "Epoch 79/100\n",
      "4726/4726 [==============================] - 4s 875us/step - loss: 0.6036 - accuracy: 0.6717\n",
      "Epoch 80/100\n",
      "4726/4726 [==============================] - 4s 871us/step - loss: 0.6015 - accuracy: 0.6747\n",
      "Epoch 81/100\n",
      "4726/4726 [==============================] - 4s 875us/step - loss: 0.6017 - accuracy: 0.6734\n",
      "Epoch 82/100\n",
      "4726/4726 [==============================] - 4s 883us/step - loss: 0.6007 - accuracy: 0.6754\n",
      "Epoch 83/100\n",
      "4726/4726 [==============================] - 4s 879us/step - loss: 0.6016 - accuracy: 0.6744\n",
      "Epoch 84/100\n",
      "4726/4726 [==============================] - 4s 873us/step - loss: 0.6000 - accuracy: 0.6756\n",
      "Epoch 85/100\n",
      "4726/4726 [==============================] - 4s 869us/step - loss: 0.6008 - accuracy: 0.6744\n",
      "Epoch 86/100\n",
      "4726/4726 [==============================] - 4s 921us/step - loss: 0.5981 - accuracy: 0.6778\n",
      "Epoch 87/100\n",
      "4726/4726 [==============================] - 5s 986us/step - loss: 0.5985 - accuracy: 0.6778\n",
      "Epoch 88/100\n",
      "4726/4726 [==============================] - 5s 968us/step - loss: 0.5984 - accuracy: 0.6784\n",
      "Epoch 89/100\n",
      "4726/4726 [==============================] - 4s 937us/step - loss: 0.5978 - accuracy: 0.6784\n",
      "Epoch 90/100\n",
      "4726/4726 [==============================] - 4s 928us/step - loss: 0.5968 - accuracy: 0.6803\n",
      "Epoch 91/100\n",
      "4726/4726 [==============================] - 4s 876us/step - loss: 0.5963 - accuracy: 0.6791\n",
      "Epoch 92/100\n",
      "4726/4726 [==============================] - 4s 889us/step - loss: 0.5959 - accuracy: 0.6795\n",
      "Epoch 93/100\n",
      "4726/4726 [==============================] - 4s 883us/step - loss: 0.5958 - accuracy: 0.6817\n",
      "Epoch 94/100\n",
      "4726/4726 [==============================] - 4s 880us/step - loss: 0.5943 - accuracy: 0.6825\n",
      "Epoch 95/100\n",
      "4726/4726 [==============================] - 4s 869us/step - loss: 0.5944 - accuracy: 0.6831\n",
      "Epoch 96/100\n",
      "4726/4726 [==============================] - 4s 881us/step - loss: 0.5939 - accuracy: 0.6814\n",
      "Epoch 97/100\n",
      "4726/4726 [==============================] - 4s 886us/step - loss: 0.5928 - accuracy: 0.6853\n",
      "Epoch 98/100\n",
      "4726/4726 [==============================] - 4s 878us/step - loss: 0.5937 - accuracy: 0.6829\n",
      "Epoch 99/100\n",
      "4726/4726 [==============================] - 4s 871us/step - loss: 0.5936 - accuracy: 0.6843\n",
      "Epoch 100/100\n",
      "4726/4726 [==============================] - 4s 880us/step - loss: 0.5915 - accuracy: 0.6857\n"
     ]
    }
   ],
   "source": [
    "# Train model\n",
    "epochs = 100\n",
    "batch_size = 64\n",
    "\n",
    "history1 = model1.fit(X_train, y_train, epochs = epochs) #, batch_size = batch_size)"
   ]
  },
  {
   "cell_type": "code",
   "execution_count": 315,
   "metadata": {},
   "outputs": [
    {
     "name": "stdout",
     "output_type": "stream",
     "text": [
      "  65/1182 [>.............................] - ETA: 0s - loss: 0.6833 - accuracy: 0.6394  "
     ]
    },
    {
     "name": "stderr",
     "output_type": "stream",
     "text": [
      "C:\\Users\\willi\\AppData\\Roaming\\Python\\Python38\\site-packages\\keras\\src\\backend.py:5805: UserWarning: \"`binary_crossentropy` received `from_logits=True`, but the `output` argument was produced by a Sigmoid activation and thus does not represent logits. Was this intended?\n",
      "  output, from_logits = _get_logits(\n"
     ]
    },
    {
     "name": "stdout",
     "output_type": "stream",
     "text": [
      "1182/1182 [==============================] - 1s 729us/step - loss: 0.7305 - accuracy: 0.6169\n",
      "Accuracy: 61.69\n"
     ]
    }
   ],
   "source": [
    "loss, accuracy = model1.evaluate(X_test, y_test)\n",
    "print('Accuracy: %.2f' % (accuracy*100))"
   ]
  },
  {
   "cell_type": "code",
   "execution_count": 316,
   "metadata": {},
   "outputs": [
    {
     "data": {
      "image/png": "[encoded data removed]",
      "text/plain": [
       "<Figure size 432x288 with 1 Axes>"
      ]
     },
     "metadata": {
      "needs_background": "light"
     },
     "output_type": "display_data"
    }
   ],
   "source": [
    "plt.plot(history1.history['accuracy'])\n",
    "plt.title('One Layer Model Accuracy')\n",
    "plt.ylabel('accuracy')\n",
    "plt.xlabel('epoch')\n",
    "plt.show()"
   ]
  },
  {
   "cell_type": "code",
   "execution_count": 317,
   "metadata": {},
   "outputs": [
    {
     "data": {
      "image/png": "[encoded data removed]",
      "text/plain": [
       "<Figure size 432x288 with 1 Axes>"
      ]
     },
     "metadata": {
      "needs_background": "light"
     },
     "output_type": "display_data"
    }
   ],
   "source": [
    "plt.plot(history1.history['loss'])\n",
    "plt.title('One Layer Model Loss')\n",
    "plt.ylabel('loss')\n",
    "plt.xlabel('epoch')\n",
    "plt.show()"
   ]
  },
  {
   "cell_type": "code",
   "execution_count": 334,
   "metadata": {},
   "outputs": [
    {
     "name": "stdout",
     "output_type": "stream",
     "text": [
      "1182/1182 [==============================] - 1s 651us/step\n"
     ]
    }
   ],
   "source": [
    "preds = model1.predict(X_test)\n",
    "prediction_classes = [1 if prob > 0.5 else 0 for prob in np.ravel(preds)]"
   ]
  },
  {
   "cell_type": "code",
   "execution_count": 319,
   "metadata": {},
   "outputs": [
    {
     "name": "stdout",
     "output_type": "stream",
     "text": [
      "'dense25' Model Metrics\n",
      "------------------------------------------------------------------------------------------------------------------------------------------------------\n",
      "{'test_accuracy': 0.6168659401121575, 'test_precision': 0.6160820806490098, 'test_recall': 0.9998709177746224, 'test_f1': 0.7624015748031496}\n",
      "======================================================================================================================================================\n"
     ]
    }
   ],
   "source": [
    "metrics_dict = {'test_accuracy': accuracy_score(y_test, prediction_classes),\n",
    "'test_precision': precision_score(y_test, prediction_classes),\n",
    "'test_recall': recall_score(y_test, prediction_classes),\n",
    "'test_f1': f1_score(y_test, prediction_classes)}\n",
    "\n",
    "print(f\"'{model1._name}' Model Metrics\")\n",
    "print('-'*150)\n",
    "print(metrics_dict)\n",
    "print('='*150)"
   ]
  },
  {
   "cell_type": "code",
   "execution_count": 335,
   "metadata": {},
   "outputs": [
    {
     "name": "stdout",
     "output_type": "stream",
     "text": [
      "Confusion Matrix\n",
      "         Pred: 0  Pred: 1\n",
      "True: 0       82    14481\n",
      "True: 1        3    23238\n"
     ]
    }
   ],
   "source": [
    "# Confusion Matrix\n",
    "cm = confusion_matrix(y_test, prediction_classes)\n",
    "#print(cm)\n",
    "cmtx = pd.DataFrame(cm, index = ['True: 0', 'True: 1'], columns = ['Pred: 0', 'Pred: 1'])\n",
    "print('Confusion Matrix')\n",
    "print(cmtx)"
   ]
  },
  {
   "cell_type": "markdown",
   "metadata": {},
   "source": [
    "We see that the accuracy is quite low and the confusion matrix shoes that nearly all test instances are being predicted as class '1'. This indicates that the even threshold of 0.5 is not adequate for this model prediction. We will find the optimal threshold by maximizing the G-Means ratio. "
   ]
  },
  {
   "cell_type": "code",
   "execution_count": 336,
   "metadata": {},
   "outputs": [
    {
     "name": "stdout",
     "output_type": "stream",
     "text": [
      "1182/1182 [==============================] - 1s 726us/step\n",
      "\n",
      "Best Threshold = 0.845530, G-Mean=0.717\n"
     ]
    },
    {
     "data": {
      "image/png": "[encoded data removed]",
      "text/plain": [
       "<Figure size 432x288 with 1 Axes>"
      ]
     },
     "metadata": {
      "needs_background": "light"
     },
     "output_type": "display_data"
    }
   ],
   "source": [
    "# ROC Curve\n",
    "y_preds = model1.predict(X_test).ravel()\n",
    "fpr, tpr, thresholds = roc_curve(y_test, y_preds)\n",
    "\n",
    "# Calculate the g-mean for each threshold\n",
    "gmeans = np.sqrt(tpr * (1-fpr))\n",
    "\n",
    "# locate the index of the largest g-mean\n",
    "ix = np.argmax(gmeans)\n",
    "print('\\nBest Threshold = %f, G-Mean=%.3f' % (thresholds[ix], gmeans[ix]))\n",
    "\n",
    "\n",
    "plt.figure()\n",
    "plt.plot([0,1],[0,1],'y--', zorder = 1)\n",
    "plt.plot(fpr, tpr, marker = '.', zorder = 2)\n",
    "plt.scatter(fpr[ix], tpr[ix], marker='X', color='red', label='Best Treshold Ratio', zorder = 3)\n",
    "plt.xlabel('False \"0\" rate')\n",
    "plt.ylabel('True \"0\" rate')\n",
    "plt.title('ROC curve (One Hidden Layer Model)')\n",
    "plt.show()"
   ]
  },
  {
   "cell_type": "code",
   "execution_count": 337,
   "metadata": {},
   "outputs": [
    {
     "name": "stdout",
     "output_type": "stream",
     "text": [
      "1182/1182 [==============================] - 1s 660us/step\n"
     ]
    }
   ],
   "source": [
    "preds = model1.predict(X_test)\n",
    "prediction_classes = [1 if prob > thresholds[ix] else 0 for prob in np.ravel(preds)]"
   ]
  },
  {
   "cell_type": "code",
   "execution_count": 324,
   "metadata": {},
   "outputs": [
    {
     "name": "stdout",
     "output_type": "stream",
     "text": [
      "'dense25' Model Metrics\n",
      "------------------------------------------------------------------------------------------------------------------------------------------------------\n",
      "{'test_accuracy': 0.7246058618135647, 'test_precision': 0.7921220400728597, 'test_recall': 0.748461770147584, 'test_f1': 0.7696732373177584}\n",
      "======================================================================================================================================================\n"
     ]
    }
   ],
   "source": [
    "metrics_dict = {'test_accuracy': accuracy_score(y_test, prediction_classes),\n",
    "'test_precision': precision_score(y_test, prediction_classes),\n",
    "'test_recall': recall_score(y_test, prediction_classes),\n",
    "'test_f1': f1_score(y_test, prediction_classes)}\n",
    "\n",
    "print(f\"'{model1._name}' Model Metrics\")\n",
    "print('-'*150)\n",
    "print(metrics_dict)\n",
    "print('='*150)"
   ]
  },
  {
   "cell_type": "code",
   "execution_count": 338,
   "metadata": {},
   "outputs": [
    {
     "name": "stdout",
     "output_type": "stream",
     "text": [
      "Confusion Matrix\n",
      "         Pred: 0  Pred: 1\n",
      "True: 0     9998     4565\n",
      "True: 1     5846    17395\n"
     ]
    }
   ],
   "source": [
    "# Confusion Matrix\n",
    "cm = confusion_matrix(y_test, prediction_classes)\n",
    "#print(cm)\n",
    "cmtx = pd.DataFrame(cm, index = ['True: 0', 'True: 1'], columns = ['Pred: 0', 'Pred: 1'])\n",
    "print('Confusion Matrix')\n",
    "print(cmtx)"
   ]
  },
  {
   "cell_type": "markdown",
   "metadata": {},
   "source": [
    "After threshold optimization, we were able to maximize accuracy to 72.5%, which is better than the accuracy resulting from with an even probability split of 61.7%. This is still far below the accuracty of a model with three hidden layers. "
   ]
  }
 ],
 "metadata": {
  "kernelspec": {
   "display_name": "Python 3",
   "language": "python",
   "name": "python3"
  },
  "language_info": {
   "codemirror_mode": {
    "name": "ipython",
    "version": 3
   },
   "file_extension": ".py",
   "mimetype": "text/x-python",
   "name": "python",
   "nbconvert_exporter": "python",
   "pygments_lexer": "ipython3",
   "version": "3.8.6"
  },
  "orig_nbformat": 4
 },
 "nbformat": 4,
 "nbformat_minor": 2
}
