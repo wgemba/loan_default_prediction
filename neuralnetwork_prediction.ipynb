{
 "cells": [
  {
   "cell_type": "code",
   "execution_count": 3,
   "metadata": {},
   "outputs": [
    {
     "name": "stdout",
     "output_type": "stream",
     "text": [
      "Successful Import\n"
     ]
    }
   ],
   "source": [
    "# Import general libraries\n",
    "import pandas as pd\n",
    "import numpy as np\n",
    "import matplotlib.pyplot as plt\n",
    "import itertools\n",
    "\n",
    "# Import Tensorflow-related libraries and functions\n",
    "import tensorflow as tf\n",
    "from tensorflow.keras import optimizers\n",
    "\n",
    "# Import Scikit-Learn machine learning functions\n",
    "from sklearn.model_selection import train_test_split\n",
    "from sklearn.preprocessing import StandardScaler\n",
    "from sklearn.metrics import confusion_matrix, roc_curve, accuracy_score, precision_score, f1_score, recall_score\n",
    "\n",
    "print(\"Successful Import\")"
   ]
  },
  {
   "cell_type": "markdown",
   "metadata": {},
   "source": [
    "# Import Data"
   ]
  },
  {
   "cell_type": "code",
   "execution_count": 4,
   "metadata": {},
   "outputs": [
    {
     "data": {
      "text/html": [
       "<div>\n",
       "<style scoped>\n",
       "    .dataframe tbody tr th:only-of-type {\n",
       "        vertical-align: middle;\n",
       "    }\n",
       "\n",
       "    .dataframe tbody tr th {\n",
       "        vertical-align: top;\n",
       "    }\n",
       "\n",
       "    .dataframe thead th {\n",
       "        text-align: right;\n",
       "    }\n",
       "</style>\n",
       "<table border=\"1\" class=\"dataframe\">\n",
       "  <thead>\n",
       "    <tr style=\"text-align: right;\">\n",
       "      <th></th>\n",
       "      <th>Target_MIS_Status</th>\n",
       "      <th>Term</th>\n",
       "      <th>NoEmp</th>\n",
       "      <th>NewExist</th>\n",
       "      <th>UrbanRural</th>\n",
       "      <th>RevLineCr</th>\n",
       "      <th>DisbursementGross</th>\n",
       "      <th>GrAppv</th>\n",
       "      <th>SBA_Appv</th>\n",
       "      <th>Industry_Accommodation and food services</th>\n",
       "      <th>...</th>\n",
       "      <th>State_SD</th>\n",
       "      <th>State_TN</th>\n",
       "      <th>State_TX</th>\n",
       "      <th>State_UT</th>\n",
       "      <th>State_VA</th>\n",
       "      <th>State_VT</th>\n",
       "      <th>State_WA</th>\n",
       "      <th>State_WI</th>\n",
       "      <th>State_WV</th>\n",
       "      <th>State_WY</th>\n",
       "    </tr>\n",
       "  </thead>\n",
       "  <tbody>\n",
       "    <tr>\n",
       "      <th>0</th>\n",
       "      <td>1</td>\n",
       "      <td>84</td>\n",
       "      <td>4</td>\n",
       "      <td>1</td>\n",
       "      <td>1</td>\n",
       "      <td>1</td>\n",
       "      <td>103579.0</td>\n",
       "      <td>50000.0</td>\n",
       "      <td>25000.0</td>\n",
       "      <td>0.0</td>\n",
       "      <td>...</td>\n",
       "      <td>0.0</td>\n",
       "      <td>0.0</td>\n",
       "      <td>0.0</td>\n",
       "      <td>0.0</td>\n",
       "      <td>0.0</td>\n",
       "      <td>0.0</td>\n",
       "      <td>0.0</td>\n",
       "      <td>0.0</td>\n",
       "      <td>0.0</td>\n",
       "      <td>0.0</td>\n",
       "    </tr>\n",
       "    <tr>\n",
       "      <th>1</th>\n",
       "      <td>1</td>\n",
       "      <td>84</td>\n",
       "      <td>17</td>\n",
       "      <td>1</td>\n",
       "      <td>1</td>\n",
       "      <td>1</td>\n",
       "      <td>93896.0</td>\n",
       "      <td>30000.0</td>\n",
       "      <td>15000.0</td>\n",
       "      <td>0.0</td>\n",
       "      <td>...</td>\n",
       "      <td>0.0</td>\n",
       "      <td>0.0</td>\n",
       "      <td>0.0</td>\n",
       "      <td>0.0</td>\n",
       "      <td>0.0</td>\n",
       "      <td>0.0</td>\n",
       "      <td>0.0</td>\n",
       "      <td>0.0</td>\n",
       "      <td>0.0</td>\n",
       "      <td>0.0</td>\n",
       "    </tr>\n",
       "    <tr>\n",
       "      <th>2</th>\n",
       "      <td>1</td>\n",
       "      <td>84</td>\n",
       "      <td>7</td>\n",
       "      <td>1</td>\n",
       "      <td>1</td>\n",
       "      <td>1</td>\n",
       "      <td>136241.0</td>\n",
       "      <td>80000.0</td>\n",
       "      <td>40000.0</td>\n",
       "      <td>0.0</td>\n",
       "      <td>...</td>\n",
       "      <td>0.0</td>\n",
       "      <td>0.0</td>\n",
       "      <td>0.0</td>\n",
       "      <td>0.0</td>\n",
       "      <td>0.0</td>\n",
       "      <td>0.0</td>\n",
       "      <td>0.0</td>\n",
       "      <td>0.0</td>\n",
       "      <td>0.0</td>\n",
       "      <td>0.0</td>\n",
       "    </tr>\n",
       "    <tr>\n",
       "      <th>3</th>\n",
       "      <td>0</td>\n",
       "      <td>34</td>\n",
       "      <td>5</td>\n",
       "      <td>1</td>\n",
       "      <td>1</td>\n",
       "      <td>0</td>\n",
       "      <td>81771.0</td>\n",
       "      <td>75000.0</td>\n",
       "      <td>37500.0</td>\n",
       "      <td>0.0</td>\n",
       "      <td>...</td>\n",
       "      <td>0.0</td>\n",
       "      <td>0.0</td>\n",
       "      <td>0.0</td>\n",
       "      <td>0.0</td>\n",
       "      <td>0.0</td>\n",
       "      <td>0.0</td>\n",
       "      <td>0.0</td>\n",
       "      <td>0.0</td>\n",
       "      <td>0.0</td>\n",
       "      <td>0.0</td>\n",
       "    </tr>\n",
       "    <tr>\n",
       "      <th>4</th>\n",
       "      <td>0</td>\n",
       "      <td>37</td>\n",
       "      <td>5</td>\n",
       "      <td>1</td>\n",
       "      <td>1</td>\n",
       "      <td>0</td>\n",
       "      <td>185000.0</td>\n",
       "      <td>100000.0</td>\n",
       "      <td>50000.0</td>\n",
       "      <td>0.0</td>\n",
       "      <td>...</td>\n",
       "      <td>0.0</td>\n",
       "      <td>0.0</td>\n",
       "      <td>0.0</td>\n",
       "      <td>0.0</td>\n",
       "      <td>0.0</td>\n",
       "      <td>0.0</td>\n",
       "      <td>0.0</td>\n",
       "      <td>0.0</td>\n",
       "      <td>0.0</td>\n",
       "      <td>0.0</td>\n",
       "    </tr>\n",
       "  </tbody>\n",
       "</table>\n",
       "<p>5 rows × 82 columns</p>\n",
       "</div>"
      ],
      "text/plain": [
       "   Target_MIS_Status  Term  NoEmp  NewExist  UrbanRural  RevLineCr  \\\n",
       "0                  1    84      4         1           1          1   \n",
       "1                  1    84     17         1           1          1   \n",
       "2                  1    84      7         1           1          1   \n",
       "3                  0    34      5         1           1          0   \n",
       "4                  0    37      5         1           1          0   \n",
       "\n",
       "   DisbursementGross    GrAppv  SBA_Appv  \\\n",
       "0           103579.0   50000.0   25000.0   \n",
       "1            93896.0   30000.0   15000.0   \n",
       "2           136241.0   80000.0   40000.0   \n",
       "3            81771.0   75000.0   37500.0   \n",
       "4           185000.0  100000.0   50000.0   \n",
       "\n",
       "   Industry_Accommodation and food services  ...  State_SD  State_TN  \\\n",
       "0                                       0.0  ...       0.0       0.0   \n",
       "1                                       0.0  ...       0.0       0.0   \n",
       "2                                       0.0  ...       0.0       0.0   \n",
       "3                                       0.0  ...       0.0       0.0   \n",
       "4                                       0.0  ...       0.0       0.0   \n",
       "\n",
       "   State_TX  State_UT  State_VA  State_VT  State_WA  State_WI  State_WV  \\\n",
       "0       0.0       0.0       0.0       0.0       0.0       0.0       0.0   \n",
       "1       0.0       0.0       0.0       0.0       0.0       0.0       0.0   \n",
       "2       0.0       0.0       0.0       0.0       0.0       0.0       0.0   \n",
       "3       0.0       0.0       0.0       0.0       0.0       0.0       0.0   \n",
       "4       0.0       0.0       0.0       0.0       0.0       0.0       0.0   \n",
       "\n",
       "   State_WY  \n",
       "0       0.0  \n",
       "1       0.0  \n",
       "2       0.0  \n",
       "3       0.0  \n",
       "4       0.0  \n",
       "\n",
       "[5 rows x 82 columns]"
      ]
     },
     "execution_count": 4,
     "metadata": {},
     "output_type": "execute_result"
    }
   ],
   "source": [
    "df = pd.read_csv(r'./SBAnational_CLEANED_num.csv')\n",
    "df.head()"
   ]
  },
  {
   "cell_type": "code",
   "execution_count": 5,
   "metadata": {},
   "outputs": [
    {
     "name": "stdout",
     "output_type": "stream",
     "text": [
      "<class 'pandas.core.frame.DataFrame'>\n",
      "RangeIndex: 189019 entries, 0 to 189018\n",
      "Data columns (total 82 columns):\n",
      " #   Column                                                                             Non-Null Count   Dtype  \n",
      "---  ------                                                                             --------------   -----  \n",
      " 0   Target_MIS_Status                                                                  189019 non-null  int64  \n",
      " 1   Term                                                                               189019 non-null  int64  \n",
      " 2   NoEmp                                                                              189019 non-null  int64  \n",
      " 3   NewExist                                                                           189019 non-null  int64  \n",
      " 4   UrbanRural                                                                         189019 non-null  int64  \n",
      " 5   RevLineCr                                                                          189019 non-null  int64  \n",
      " 6   DisbursementGross                                                                  189019 non-null  float64\n",
      " 7   GrAppv                                                                             189019 non-null  float64\n",
      " 8   SBA_Appv                                                                           189019 non-null  float64\n",
      " 9   Industry_Accommodation and food services                                           189019 non-null  float64\n",
      " 10  Industry_Administrative and support and waste management and remediation services  189019 non-null  float64\n",
      " 11  Industry_Agriculture, forestry, fishing and hunting                                189019 non-null  float64\n",
      " 12  Industry_Arts, entertainment, and recreation                                       189019 non-null  float64\n",
      " 13  Industry_Construction                                                              189019 non-null  float64\n",
      " 14  Industry_Educational services                                                      189019 non-null  float64\n",
      " 15  Industry_Finance and insurance                                                     189019 non-null  float64\n",
      " 16  Industry_Health care and social assistance                                         189019 non-null  float64\n",
      " 17  Industry_Information                                                               189019 non-null  float64\n",
      " 18  Industry_Management of companies and enterprises                                   189019 non-null  float64\n",
      " 19  Industry_Manufacturing                                                             189019 non-null  float64\n",
      " 20  Industry_Mining, quarrying, and oil and gas extraction                             189019 non-null  float64\n",
      " 21  Industry_Other services (except public administration)                             189019 non-null  float64\n",
      " 22  Industry_Professional, scientific, and technical services                          189019 non-null  float64\n",
      " 23  Industry_Public administration                                                     189019 non-null  float64\n",
      " 24  Industry_Real estate and rental and leasing                                        189019 non-null  float64\n",
      " 25  Industry_Retail trade                                                              189019 non-null  float64\n",
      " 26  Industry_Transportation and warehousing                                            189019 non-null  float64\n",
      " 27  Industry_Utilities                                                                 189019 non-null  float64\n",
      " 28  Industry_Wholesale trade                                                           189019 non-null  float64\n",
      " 29  latitude                                                                           189019 non-null  float64\n",
      " 30  longitude                                                                          189019 non-null  float64\n",
      " 31  State_AK                                                                           189019 non-null  float64\n",
      " 32  State_AL                                                                           189019 non-null  float64\n",
      " 33  State_AR                                                                           189019 non-null  float64\n",
      " 34  State_AZ                                                                           189019 non-null  float64\n",
      " 35  State_CA                                                                           189019 non-null  float64\n",
      " 36  State_CO                                                                           189019 non-null  float64\n",
      " 37  State_CT                                                                           189019 non-null  float64\n",
      " 38  State_DC                                                                           189019 non-null  float64\n",
      " 39  State_DE                                                                           189019 non-null  float64\n",
      " 40  State_FL                                                                           189019 non-null  float64\n",
      " 41  State_GA                                                                           189019 non-null  float64\n",
      " 42  State_HI                                                                           189019 non-null  float64\n",
      " 43  State_IA                                                                           189019 non-null  float64\n",
      " 44  State_ID                                                                           189019 non-null  float64\n",
      " 45  State_IL                                                                           189019 non-null  float64\n",
      " 46  State_IN                                                                           189019 non-null  float64\n",
      " 47  State_KS                                                                           189019 non-null  float64\n",
      " 48  State_KY                                                                           189019 non-null  float64\n",
      " 49  State_LA                                                                           189019 non-null  float64\n",
      " 50  State_MA                                                                           189019 non-null  float64\n",
      " 51  State_MD                                                                           189019 non-null  float64\n",
      " 52  State_ME                                                                           189019 non-null  float64\n",
      " 53  State_MI                                                                           189019 non-null  float64\n",
      " 54  State_MN                                                                           189019 non-null  float64\n",
      " 55  State_MO                                                                           189019 non-null  float64\n",
      " 56  State_MS                                                                           189019 non-null  float64\n",
      " 57  State_MT                                                                           189019 non-null  float64\n",
      " 58  State_NC                                                                           189019 non-null  float64\n",
      " 59  State_ND                                                                           189019 non-null  float64\n",
      " 60  State_NE                                                                           189019 non-null  float64\n",
      " 61  State_NH                                                                           189019 non-null  float64\n",
      " 62  State_NJ                                                                           189019 non-null  float64\n",
      " 63  State_NM                                                                           189019 non-null  float64\n",
      " 64  State_NV                                                                           189019 non-null  float64\n",
      " 65  State_NY                                                                           189019 non-null  float64\n",
      " 66  State_OH                                                                           189019 non-null  float64\n",
      " 67  State_OK                                                                           189019 non-null  float64\n",
      " 68  State_OR                                                                           189019 non-null  float64\n",
      " 69  State_PA                                                                           189019 non-null  float64\n",
      " 70  State_RI                                                                           189019 non-null  float64\n",
      " 71  State_SC                                                                           189019 non-null  float64\n",
      " 72  State_SD                                                                           189019 non-null  float64\n",
      " 73  State_TN                                                                           189019 non-null  float64\n",
      " 74  State_TX                                                                           189019 non-null  float64\n",
      " 75  State_UT                                                                           189019 non-null  float64\n",
      " 76  State_VA                                                                           189019 non-null  float64\n",
      " 77  State_VT                                                                           189019 non-null  float64\n",
      " 78  State_WA                                                                           189019 non-null  float64\n",
      " 79  State_WI                                                                           189019 non-null  float64\n",
      " 80  State_WV                                                                           189019 non-null  float64\n",
      " 81  State_WY                                                                           189019 non-null  float64\n",
      "dtypes: float64(76), int64(6)\n",
      "memory usage: 118.3 MB\n"
     ]
    }
   ],
   "source": [
    "df.info()"
   ]
  },
  {
   "cell_type": "code",
   "execution_count": 6,
   "metadata": {},
   "outputs": [
    {
     "name": "stdout",
     "output_type": "stream",
     "text": [
      "Index(['Target_MIS_Status', 'Term', 'NoEmp', 'NewExist', 'UrbanRural',\n",
      "       'RevLineCr', 'DisbursementGross', 'GrAppv', 'SBA_Appv',\n",
      "       'Industry_Accommodation and food services',\n",
      "       'Industry_Administrative and support and waste management and remediation services',\n",
      "       'Industry_Agriculture, forestry, fishing and hunting',\n",
      "       'Industry_Arts, entertainment, and recreation', 'Industry_Construction',\n",
      "       'Industry_Educational services', 'Industry_Finance and insurance',\n",
      "       'Industry_Health care and social assistance', 'Industry_Information',\n",
      "       'Industry_Management of companies and enterprises',\n",
      "       'Industry_Manufacturing',\n",
      "       'Industry_Mining, quarrying, and oil and gas extraction',\n",
      "       'Industry_Other services (except public administration)',\n",
      "       'Industry_Professional, scientific, and technical services',\n",
      "       'Industry_Public administration',\n",
      "       'Industry_Real estate and rental and leasing', 'Industry_Retail trade',\n",
      "       'Industry_Transportation and warehousing', 'Industry_Utilities',\n",
      "       'Industry_Wholesale trade', 'latitude', 'longitude', 'State_AK',\n",
      "       'State_AL', 'State_AR', 'State_AZ', 'State_CA', 'State_CO', 'State_CT',\n",
      "       'State_DC', 'State_DE', 'State_FL', 'State_GA', 'State_HI', 'State_IA',\n",
      "       'State_ID', 'State_IL', 'State_IN', 'State_KS', 'State_KY', 'State_LA',\n",
      "       'State_MA', 'State_MD', 'State_ME', 'State_MI', 'State_MN', 'State_MO',\n",
      "       'State_MS', 'State_MT', 'State_NC', 'State_ND', 'State_NE', 'State_NH',\n",
      "       'State_NJ', 'State_NM', 'State_NV', 'State_NY', 'State_OH', 'State_OK',\n",
      "       'State_OR', 'State_PA', 'State_RI', 'State_SC', 'State_SD', 'State_TN',\n",
      "       'State_TX', 'State_UT', 'State_VA', 'State_VT', 'State_WA', 'State_WI',\n",
      "       'State_WV', 'State_WY'],\n",
      "      dtype='object')\n"
     ]
    }
   ],
   "source": [
    "print(df.columns)"
   ]
  },
  {
   "cell_type": "markdown",
   "metadata": {},
   "source": [
    "Binary Data Dictionary:\n",
    "\n",
    "'Target_MIS_Status' : '0' = 'Default', '1' = 'Paid in Full'\n",
    "\n",
    "'NewExist' : '0' = 'Existing Business', '2' = 'New Business'\n",
    "\n",
    "'UrbanRural' : '0' = 'Urban', '2' = 'Rural'\n",
    "\n",
    "'RevLineCr' : Revolving Line of Credit : '0' = 'No', '1' = 'Yes'"
   ]
  },
  {
   "cell_type": "markdown",
   "metadata": {},
   "source": [
    "# Neural Network Prediction"
   ]
  },
  {
   "cell_type": "markdown",
   "metadata": {},
   "source": [
    "## Data Sampling"
   ]
  },
  {
   "cell_type": "code",
   "execution_count": 7,
   "metadata": {},
   "outputs": [
    {
     "data": {
      "text/html": [
       "<div>\n",
       "<style scoped>\n",
       "    .dataframe tbody tr th:only-of-type {\n",
       "        vertical-align: middle;\n",
       "    }\n",
       "\n",
       "    .dataframe tbody tr th {\n",
       "        vertical-align: top;\n",
       "    }\n",
       "\n",
       "    .dataframe thead th {\n",
       "        text-align: right;\n",
       "    }\n",
       "</style>\n",
       "<table border=\"1\" class=\"dataframe\">\n",
       "  <thead>\n",
       "    <tr style=\"text-align: right;\">\n",
       "      <th></th>\n",
       "      <th>Target_MIS_Status</th>\n",
       "      <th>Term</th>\n",
       "      <th>NoEmp</th>\n",
       "      <th>NewExist</th>\n",
       "      <th>UrbanRural</th>\n",
       "      <th>RevLineCr</th>\n",
       "      <th>DisbursementGross</th>\n",
       "      <th>GrAppv</th>\n",
       "      <th>SBA_Appv</th>\n",
       "      <th>Industry_Accommodation and food services</th>\n",
       "      <th>...</th>\n",
       "      <th>State_SD</th>\n",
       "      <th>State_TN</th>\n",
       "      <th>State_TX</th>\n",
       "      <th>State_UT</th>\n",
       "      <th>State_VA</th>\n",
       "      <th>State_VT</th>\n",
       "      <th>State_WA</th>\n",
       "      <th>State_WI</th>\n",
       "      <th>State_WV</th>\n",
       "      <th>State_WY</th>\n",
       "    </tr>\n",
       "  </thead>\n",
       "  <tbody>\n",
       "    <tr>\n",
       "      <th>185097</th>\n",
       "      <td>1</td>\n",
       "      <td>84</td>\n",
       "      <td>1</td>\n",
       "      <td>2</td>\n",
       "      <td>1</td>\n",
       "      <td>1</td>\n",
       "      <td>98830.0</td>\n",
       "      <td>50000.0</td>\n",
       "      <td>25000.0</td>\n",
       "      <td>0.0</td>\n",
       "      <td>...</td>\n",
       "      <td>0.0</td>\n",
       "      <td>0.0</td>\n",
       "      <td>0.0</td>\n",
       "      <td>0.0</td>\n",
       "      <td>0.0</td>\n",
       "      <td>0.0</td>\n",
       "      <td>0.0</td>\n",
       "      <td>0.0</td>\n",
       "      <td>0.0</td>\n",
       "      <td>0.0</td>\n",
       "    </tr>\n",
       "    <tr>\n",
       "      <th>138382</th>\n",
       "      <td>0</td>\n",
       "      <td>56</td>\n",
       "      <td>1</td>\n",
       "      <td>1</td>\n",
       "      <td>1</td>\n",
       "      <td>1</td>\n",
       "      <td>338101.0</td>\n",
       "      <td>100000.0</td>\n",
       "      <td>50000.0</td>\n",
       "      <td>0.0</td>\n",
       "      <td>...</td>\n",
       "      <td>0.0</td>\n",
       "      <td>0.0</td>\n",
       "      <td>0.0</td>\n",
       "      <td>0.0</td>\n",
       "      <td>0.0</td>\n",
       "      <td>0.0</td>\n",
       "      <td>0.0</td>\n",
       "      <td>0.0</td>\n",
       "      <td>0.0</td>\n",
       "      <td>0.0</td>\n",
       "    </tr>\n",
       "    <tr>\n",
       "      <th>50834</th>\n",
       "      <td>1</td>\n",
       "      <td>84</td>\n",
       "      <td>5</td>\n",
       "      <td>1</td>\n",
       "      <td>1</td>\n",
       "      <td>1</td>\n",
       "      <td>134818.0</td>\n",
       "      <td>25000.0</td>\n",
       "      <td>12500.0</td>\n",
       "      <td>0.0</td>\n",
       "      <td>...</td>\n",
       "      <td>0.0</td>\n",
       "      <td>0.0</td>\n",
       "      <td>0.0</td>\n",
       "      <td>0.0</td>\n",
       "      <td>0.0</td>\n",
       "      <td>0.0</td>\n",
       "      <td>0.0</td>\n",
       "      <td>0.0</td>\n",
       "      <td>0.0</td>\n",
       "      <td>0.0</td>\n",
       "    </tr>\n",
       "    <tr>\n",
       "      <th>82055</th>\n",
       "      <td>1</td>\n",
       "      <td>84</td>\n",
       "      <td>1</td>\n",
       "      <td>1</td>\n",
       "      <td>1</td>\n",
       "      <td>1</td>\n",
       "      <td>19310.0</td>\n",
       "      <td>10000.0</td>\n",
       "      <td>5000.0</td>\n",
       "      <td>0.0</td>\n",
       "      <td>...</td>\n",
       "      <td>0.0</td>\n",
       "      <td>0.0</td>\n",
       "      <td>0.0</td>\n",
       "      <td>0.0</td>\n",
       "      <td>0.0</td>\n",
       "      <td>0.0</td>\n",
       "      <td>0.0</td>\n",
       "      <td>0.0</td>\n",
       "      <td>0.0</td>\n",
       "      <td>0.0</td>\n",
       "    </tr>\n",
       "    <tr>\n",
       "      <th>80315</th>\n",
       "      <td>0</td>\n",
       "      <td>31</td>\n",
       "      <td>3</td>\n",
       "      <td>1</td>\n",
       "      <td>1</td>\n",
       "      <td>1</td>\n",
       "      <td>37335.0</td>\n",
       "      <td>25000.0</td>\n",
       "      <td>12500.0</td>\n",
       "      <td>0.0</td>\n",
       "      <td>...</td>\n",
       "      <td>0.0</td>\n",
       "      <td>0.0</td>\n",
       "      <td>0.0</td>\n",
       "      <td>0.0</td>\n",
       "      <td>0.0</td>\n",
       "      <td>0.0</td>\n",
       "      <td>0.0</td>\n",
       "      <td>0.0</td>\n",
       "      <td>0.0</td>\n",
       "      <td>0.0</td>\n",
       "    </tr>\n",
       "  </tbody>\n",
       "</table>\n",
       "<p>5 rows × 82 columns</p>\n",
       "</div>"
      ],
      "text/plain": [
       "        Target_MIS_Status  Term  NoEmp  NewExist  UrbanRural  RevLineCr  \\\n",
       "185097                  1    84      1         2           1          1   \n",
       "138382                  0    56      1         1           1          1   \n",
       "50834                   1    84      5         1           1          1   \n",
       "82055                   1    84      1         1           1          1   \n",
       "80315                   0    31      3         1           1          1   \n",
       "\n",
       "        DisbursementGross    GrAppv  SBA_Appv  \\\n",
       "185097            98830.0   50000.0   25000.0   \n",
       "138382           338101.0  100000.0   50000.0   \n",
       "50834            134818.0   25000.0   12500.0   \n",
       "82055             19310.0   10000.0    5000.0   \n",
       "80315             37335.0   25000.0   12500.0   \n",
       "\n",
       "        Industry_Accommodation and food services  ...  State_SD  State_TN  \\\n",
       "185097                                       0.0  ...       0.0       0.0   \n",
       "138382                                       0.0  ...       0.0       0.0   \n",
       "50834                                        0.0  ...       0.0       0.0   \n",
       "82055                                        0.0  ...       0.0       0.0   \n",
       "80315                                        0.0  ...       0.0       0.0   \n",
       "\n",
       "        State_TX  State_UT  State_VA  State_VT  State_WA  State_WI  State_WV  \\\n",
       "185097       0.0       0.0       0.0       0.0       0.0       0.0       0.0   \n",
       "138382       0.0       0.0       0.0       0.0       0.0       0.0       0.0   \n",
       "50834        0.0       0.0       0.0       0.0       0.0       0.0       0.0   \n",
       "82055        0.0       0.0       0.0       0.0       0.0       0.0       0.0   \n",
       "80315        0.0       0.0       0.0       0.0       0.0       0.0       0.0   \n",
       "\n",
       "        State_WY  \n",
       "185097       0.0  \n",
       "138382       0.0  \n",
       "50834        0.0  \n",
       "82055        0.0  \n",
       "80315        0.0  \n",
       "\n",
       "[5 rows x 82 columns]"
      ]
     },
     "execution_count": 7,
     "metadata": {},
     "output_type": "execute_result"
    }
   ],
   "source": [
    "neuralDf = df.copy()\n",
    "neuralDf = neuralDf.sample(frac = 1) # 100% of data is randomly resuffled to ensure that it is not sorted.\n",
    "neuralDf.head()"
   ]
  },
  {
   "cell_type": "markdown",
   "metadata": {},
   "source": [
    "## Model Input Preparation "
   ]
  },
  {
   "cell_type": "markdown",
   "metadata": {},
   "source": [
    "### Scaling non-binary attributes"
   ]
  },
  {
   "cell_type": "code",
   "execution_count": 8,
   "metadata": {},
   "outputs": [
    {
     "data": {
      "text/html": [
       "<div>\n",
       "<style scoped>\n",
       "    .dataframe tbody tr th:only-of-type {\n",
       "        vertical-align: middle;\n",
       "    }\n",
       "\n",
       "    .dataframe tbody tr th {\n",
       "        vertical-align: top;\n",
       "    }\n",
       "\n",
       "    .dataframe thead th {\n",
       "        text-align: right;\n",
       "    }\n",
       "</style>\n",
       "<table border=\"1\" class=\"dataframe\">\n",
       "  <thead>\n",
       "    <tr style=\"text-align: right;\">\n",
       "      <th></th>\n",
       "      <th>Target_MIS_Status</th>\n",
       "      <th>Term</th>\n",
       "      <th>NoEmp</th>\n",
       "      <th>NewExist</th>\n",
       "      <th>UrbanRural</th>\n",
       "      <th>RevLineCr</th>\n",
       "      <th>DisbursementGross</th>\n",
       "      <th>GrAppv</th>\n",
       "      <th>SBA_Appv</th>\n",
       "      <th>Industry_Accommodation and food services</th>\n",
       "      <th>...</th>\n",
       "      <th>State_SD</th>\n",
       "      <th>State_TN</th>\n",
       "      <th>State_TX</th>\n",
       "      <th>State_UT</th>\n",
       "      <th>State_VA</th>\n",
       "      <th>State_VT</th>\n",
       "      <th>State_WA</th>\n",
       "      <th>State_WI</th>\n",
       "      <th>State_WV</th>\n",
       "      <th>State_WY</th>\n",
       "    </tr>\n",
       "  </thead>\n",
       "  <tbody>\n",
       "    <tr>\n",
       "      <th>185097</th>\n",
       "      <td>1</td>\n",
       "      <td>0.426353</td>\n",
       "      <td>-0.187397</td>\n",
       "      <td>2</td>\n",
       "      <td>1</td>\n",
       "      <td>1</td>\n",
       "      <td>-0.066104</td>\n",
       "      <td>-0.191485</td>\n",
       "      <td>-0.213654</td>\n",
       "      <td>0.0</td>\n",
       "      <td>...</td>\n",
       "      <td>0.0</td>\n",
       "      <td>0.0</td>\n",
       "      <td>0.0</td>\n",
       "      <td>0.0</td>\n",
       "      <td>0.0</td>\n",
       "      <td>0.0</td>\n",
       "      <td>0.0</td>\n",
       "      <td>0.0</td>\n",
       "      <td>0.0</td>\n",
       "      <td>0.0</td>\n",
       "    </tr>\n",
       "    <tr>\n",
       "      <th>138382</th>\n",
       "      <td>0</td>\n",
       "      <td>-0.319066</td>\n",
       "      <td>-0.187397</td>\n",
       "      <td>1</td>\n",
       "      <td>1</td>\n",
       "      <td>1</td>\n",
       "      <td>1.125259</td>\n",
       "      <td>0.093771</td>\n",
       "      <td>-0.023011</td>\n",
       "      <td>0.0</td>\n",
       "      <td>...</td>\n",
       "      <td>0.0</td>\n",
       "      <td>0.0</td>\n",
       "      <td>0.0</td>\n",
       "      <td>0.0</td>\n",
       "      <td>0.0</td>\n",
       "      <td>0.0</td>\n",
       "      <td>0.0</td>\n",
       "      <td>0.0</td>\n",
       "      <td>0.0</td>\n",
       "      <td>0.0</td>\n",
       "    </tr>\n",
       "    <tr>\n",
       "      <th>50834</th>\n",
       "      <td>1</td>\n",
       "      <td>0.426353</td>\n",
       "      <td>-0.039953</td>\n",
       "      <td>1</td>\n",
       "      <td>1</td>\n",
       "      <td>1</td>\n",
       "      <td>0.113085</td>\n",
       "      <td>-0.334113</td>\n",
       "      <td>-0.308976</td>\n",
       "      <td>0.0</td>\n",
       "      <td>...</td>\n",
       "      <td>0.0</td>\n",
       "      <td>0.0</td>\n",
       "      <td>0.0</td>\n",
       "      <td>0.0</td>\n",
       "      <td>0.0</td>\n",
       "      <td>0.0</td>\n",
       "      <td>0.0</td>\n",
       "      <td>0.0</td>\n",
       "      <td>0.0</td>\n",
       "      <td>0.0</td>\n",
       "    </tr>\n",
       "    <tr>\n",
       "      <th>82055</th>\n",
       "      <td>1</td>\n",
       "      <td>0.426353</td>\n",
       "      <td>-0.187397</td>\n",
       "      <td>1</td>\n",
       "      <td>1</td>\n",
       "      <td>1</td>\n",
       "      <td>-0.462045</td>\n",
       "      <td>-0.419690</td>\n",
       "      <td>-0.366168</td>\n",
       "      <td>0.0</td>\n",
       "      <td>...</td>\n",
       "      <td>0.0</td>\n",
       "      <td>0.0</td>\n",
       "      <td>0.0</td>\n",
       "      <td>0.0</td>\n",
       "      <td>0.0</td>\n",
       "      <td>0.0</td>\n",
       "      <td>0.0</td>\n",
       "      <td>0.0</td>\n",
       "      <td>0.0</td>\n",
       "      <td>0.0</td>\n",
       "    </tr>\n",
       "    <tr>\n",
       "      <th>80315</th>\n",
       "      <td>0</td>\n",
       "      <td>-0.984618</td>\n",
       "      <td>-0.113675</td>\n",
       "      <td>1</td>\n",
       "      <td>1</td>\n",
       "      <td>1</td>\n",
       "      <td>-0.372296</td>\n",
       "      <td>-0.334113</td>\n",
       "      <td>-0.308976</td>\n",
       "      <td>0.0</td>\n",
       "      <td>...</td>\n",
       "      <td>0.0</td>\n",
       "      <td>0.0</td>\n",
       "      <td>0.0</td>\n",
       "      <td>0.0</td>\n",
       "      <td>0.0</td>\n",
       "      <td>0.0</td>\n",
       "      <td>0.0</td>\n",
       "      <td>0.0</td>\n",
       "      <td>0.0</td>\n",
       "      <td>0.0</td>\n",
       "    </tr>\n",
       "  </tbody>\n",
       "</table>\n",
       "<p>5 rows × 82 columns</p>\n",
       "</div>"
      ],
      "text/plain": [
       "        Target_MIS_Status      Term     NoEmp  NewExist  UrbanRural  \\\n",
       "185097                  1  0.426353 -0.187397         2           1   \n",
       "138382                  0 -0.319066 -0.187397         1           1   \n",
       "50834                   1  0.426353 -0.039953         1           1   \n",
       "82055                   1  0.426353 -0.187397         1           1   \n",
       "80315                   0 -0.984618 -0.113675         1           1   \n",
       "\n",
       "        RevLineCr  DisbursementGross    GrAppv  SBA_Appv  \\\n",
       "185097          1          -0.066104 -0.191485 -0.213654   \n",
       "138382          1           1.125259  0.093771 -0.023011   \n",
       "50834           1           0.113085 -0.334113 -0.308976   \n",
       "82055           1          -0.462045 -0.419690 -0.366168   \n",
       "80315           1          -0.372296 -0.334113 -0.308976   \n",
       "\n",
       "        Industry_Accommodation and food services  ...  State_SD  State_TN  \\\n",
       "185097                                       0.0  ...       0.0       0.0   \n",
       "138382                                       0.0  ...       0.0       0.0   \n",
       "50834                                        0.0  ...       0.0       0.0   \n",
       "82055                                        0.0  ...       0.0       0.0   \n",
       "80315                                        0.0  ...       0.0       0.0   \n",
       "\n",
       "        State_TX  State_UT  State_VA  State_VT  State_WA  State_WI  State_WV  \\\n",
       "185097       0.0       0.0       0.0       0.0       0.0       0.0       0.0   \n",
       "138382       0.0       0.0       0.0       0.0       0.0       0.0       0.0   \n",
       "50834        0.0       0.0       0.0       0.0       0.0       0.0       0.0   \n",
       "82055        0.0       0.0       0.0       0.0       0.0       0.0       0.0   \n",
       "80315        0.0       0.0       0.0       0.0       0.0       0.0       0.0   \n",
       "\n",
       "        State_WY  \n",
       "185097       0.0  \n",
       "138382       0.0  \n",
       "50834        0.0  \n",
       "82055        0.0  \n",
       "80315        0.0  \n",
       "\n",
       "[5 rows x 82 columns]"
      ]
     },
     "execution_count": 8,
     "metadata": {},
     "output_type": "execute_result"
    }
   ],
   "source": [
    "scaler = StandardScaler()\n",
    "\n",
    "nonbinfeats = ['Term', 'NoEmp', 'DisbursementGross', 'GrAppv', 'SBA_Appv']\n",
    "\n",
    "neuralDf_scaled = neuralDf.copy()\n",
    "neuralDf_scaled[nonbinfeats] = scaler.fit_transform(neuralDf_scaled[nonbinfeats])\n",
    "neuralDf_scaled.head()"
   ]
  },
  {
   "cell_type": "code",
   "execution_count": 9,
   "metadata": {},
   "outputs": [
    {
     "data": {
      "text/html": [
       "<div>\n",
       "<style scoped>\n",
       "    .dataframe tbody tr th:only-of-type {\n",
       "        vertical-align: middle;\n",
       "    }\n",
       "\n",
       "    .dataframe tbody tr th {\n",
       "        vertical-align: top;\n",
       "    }\n",
       "\n",
       "    .dataframe thead th {\n",
       "        text-align: right;\n",
       "    }\n",
       "</style>\n",
       "<table border=\"1\" class=\"dataframe\">\n",
       "  <thead>\n",
       "    <tr style=\"text-align: right;\">\n",
       "      <th></th>\n",
       "      <th>Target_MIS_Status</th>\n",
       "      <th>Term</th>\n",
       "      <th>NoEmp</th>\n",
       "      <th>NewExist</th>\n",
       "      <th>UrbanRural</th>\n",
       "      <th>RevLineCr</th>\n",
       "      <th>DisbursementGross</th>\n",
       "      <th>GrAppv</th>\n",
       "      <th>SBA_Appv</th>\n",
       "      <th>Industry_Accommodation and food services</th>\n",
       "      <th>...</th>\n",
       "      <th>State_SD</th>\n",
       "      <th>State_TN</th>\n",
       "      <th>State_TX</th>\n",
       "      <th>State_UT</th>\n",
       "      <th>State_VA</th>\n",
       "      <th>State_VT</th>\n",
       "      <th>State_WA</th>\n",
       "      <th>State_WI</th>\n",
       "      <th>State_WV</th>\n",
       "      <th>State_WY</th>\n",
       "    </tr>\n",
       "  </thead>\n",
       "  <tbody>\n",
       "    <tr>\n",
       "      <th>count</th>\n",
       "      <td>189019.000000</td>\n",
       "      <td>1.890190e+05</td>\n",
       "      <td>1.890190e+05</td>\n",
       "      <td>189019.000000</td>\n",
       "      <td>189019.000000</td>\n",
       "      <td>189019.000000</td>\n",
       "      <td>1.890190e+05</td>\n",
       "      <td>1.890190e+05</td>\n",
       "      <td>1.890190e+05</td>\n",
       "      <td>189019.000000</td>\n",
       "      <td>...</td>\n",
       "      <td>189019.000000</td>\n",
       "      <td>189019.000000</td>\n",
       "      <td>189019.000000</td>\n",
       "      <td>189019.000000</td>\n",
       "      <td>189019.000000</td>\n",
       "      <td>189019.000000</td>\n",
       "      <td>189019.000000</td>\n",
       "      <td>189019.000000</td>\n",
       "      <td>189019.000000</td>\n",
       "      <td>189019.000000</td>\n",
       "    </tr>\n",
       "    <tr>\n",
       "      <th>mean</th>\n",
       "      <td>0.614891</td>\n",
       "      <td>6.187491e-17</td>\n",
       "      <td>8.685888e-18</td>\n",
       "      <td>1.310784</td>\n",
       "      <td>1.168999</td>\n",
       "      <td>0.572170</td>\n",
       "      <td>1.598091e-17</td>\n",
       "      <td>-4.796621e-17</td>\n",
       "      <td>-1.620175e-17</td>\n",
       "      <td>0.087526</td>\n",
       "      <td>...</td>\n",
       "      <td>0.001619</td>\n",
       "      <td>0.009264</td>\n",
       "      <td>0.064200</td>\n",
       "      <td>0.030166</td>\n",
       "      <td>0.015046</td>\n",
       "      <td>0.004280</td>\n",
       "      <td>0.024400</td>\n",
       "      <td>0.020934</td>\n",
       "      <td>0.002217</td>\n",
       "      <td>0.001074</td>\n",
       "    </tr>\n",
       "    <tr>\n",
       "      <th>std</th>\n",
       "      <td>0.486622</td>\n",
       "      <td>1.000003e+00</td>\n",
       "      <td>1.000003e+00</td>\n",
       "      <td>0.462816</td>\n",
       "      <td>0.374752</td>\n",
       "      <td>0.494765</td>\n",
       "      <td>1.000003e+00</td>\n",
       "      <td>1.000003e+00</td>\n",
       "      <td>1.000003e+00</td>\n",
       "      <td>0.282604</td>\n",
       "      <td>...</td>\n",
       "      <td>0.040203</td>\n",
       "      <td>0.095801</td>\n",
       "      <td>0.245109</td>\n",
       "      <td>0.171045</td>\n",
       "      <td>0.121737</td>\n",
       "      <td>0.065282</td>\n",
       "      <td>0.154287</td>\n",
       "      <td>0.143165</td>\n",
       "      <td>0.047030</td>\n",
       "      <td>0.032754</td>\n",
       "    </tr>\n",
       "    <tr>\n",
       "      <th>min</th>\n",
       "      <td>0.000000</td>\n",
       "      <td>-1.809903e+00</td>\n",
       "      <td>-2.242576e-01</td>\n",
       "      <td>1.000000</td>\n",
       "      <td>1.000000</td>\n",
       "      <td>0.000000</td>\n",
       "      <td>-5.382753e-01</td>\n",
       "      <td>-4.710360e-01</td>\n",
       "      <td>-4.004842e-01</td>\n",
       "      <td>0.000000</td>\n",
       "      <td>...</td>\n",
       "      <td>0.000000</td>\n",
       "      <td>0.000000</td>\n",
       "      <td>0.000000</td>\n",
       "      <td>0.000000</td>\n",
       "      <td>0.000000</td>\n",
       "      <td>0.000000</td>\n",
       "      <td>0.000000</td>\n",
       "      <td>0.000000</td>\n",
       "      <td>0.000000</td>\n",
       "      <td>0.000000</td>\n",
       "    </tr>\n",
       "    <tr>\n",
       "      <th>25%</th>\n",
       "      <td>0.000000</td>\n",
       "      <td>-5.852869e-01</td>\n",
       "      <td>-1.873968e-01</td>\n",
       "      <td>1.000000</td>\n",
       "      <td>1.000000</td>\n",
       "      <td>0.000000</td>\n",
       "      <td>-4.337135e-01</td>\n",
       "      <td>-3.626386e-01</td>\n",
       "      <td>-3.127885e-01</td>\n",
       "      <td>0.000000</td>\n",
       "      <td>...</td>\n",
       "      <td>0.000000</td>\n",
       "      <td>0.000000</td>\n",
       "      <td>0.000000</td>\n",
       "      <td>0.000000</td>\n",
       "      <td>0.000000</td>\n",
       "      <td>0.000000</td>\n",
       "      <td>0.000000</td>\n",
       "      <td>0.000000</td>\n",
       "      <td>0.000000</td>\n",
       "      <td>0.000000</td>\n",
       "    </tr>\n",
       "    <tr>\n",
       "      <th>50%</th>\n",
       "      <td>1.000000</td>\n",
       "      <td>1.068877e-01</td>\n",
       "      <td>-1.136751e-01</td>\n",
       "      <td>1.000000</td>\n",
       "      <td>1.000000</td>\n",
       "      <td>1.000000</td>\n",
       "      <td>-3.072434e-01</td>\n",
       "      <td>-2.770617e-01</td>\n",
       "      <td>-2.533079e-01</td>\n",
       "      <td>0.000000</td>\n",
       "      <td>...</td>\n",
       "      <td>0.000000</td>\n",
       "      <td>0.000000</td>\n",
       "      <td>0.000000</td>\n",
       "      <td>0.000000</td>\n",
       "      <td>0.000000</td>\n",
       "      <td>0.000000</td>\n",
       "      <td>0.000000</td>\n",
       "      <td>0.000000</td>\n",
       "      <td>0.000000</td>\n",
       "      <td>0.000000</td>\n",
       "    </tr>\n",
       "    <tr>\n",
       "      <th>75%</th>\n",
       "      <td>1.000000</td>\n",
       "      <td>4.263529e-01</td>\n",
       "      <td>-3.092490e-03</td>\n",
       "      <td>2.000000</td>\n",
       "      <td>1.000000</td>\n",
       "      <td>1.000000</td>\n",
       "      <td>-1.549347e-02</td>\n",
       "      <td>-4.885677e-02</td>\n",
       "      <td>-1.107071e-01</td>\n",
       "      <td>0.000000</td>\n",
       "      <td>...</td>\n",
       "      <td>0.000000</td>\n",
       "      <td>0.000000</td>\n",
       "      <td>0.000000</td>\n",
       "      <td>0.000000</td>\n",
       "      <td>0.000000</td>\n",
       "      <td>0.000000</td>\n",
       "      <td>0.000000</td>\n",
       "      <td>0.000000</td>\n",
       "      <td>0.000000</td>\n",
       "      <td>0.000000</td>\n",
       "    </tr>\n",
       "    <tr>\n",
       "      <th>max</th>\n",
       "      <td>1.000000</td>\n",
       "      <td>7.774052e+00</td>\n",
       "      <td>2.946626e+02</td>\n",
       "      <td>2.000000</td>\n",
       "      <td>2.000000</td>\n",
       "      <td>1.000000</td>\n",
       "      <td>5.154846e+01</td>\n",
       "      <td>1.093351e+01</td>\n",
       "      <td>1.267380e+01</td>\n",
       "      <td>1.000000</td>\n",
       "      <td>...</td>\n",
       "      <td>1.000000</td>\n",
       "      <td>1.000000</td>\n",
       "      <td>1.000000</td>\n",
       "      <td>1.000000</td>\n",
       "      <td>1.000000</td>\n",
       "      <td>1.000000</td>\n",
       "      <td>1.000000</td>\n",
       "      <td>1.000000</td>\n",
       "      <td>1.000000</td>\n",
       "      <td>1.000000</td>\n",
       "    </tr>\n",
       "  </tbody>\n",
       "</table>\n",
       "<p>8 rows × 82 columns</p>\n",
       "</div>"
      ],
      "text/plain": [
       "       Target_MIS_Status          Term         NoEmp       NewExist  \\\n",
       "count      189019.000000  1.890190e+05  1.890190e+05  189019.000000   \n",
       "mean            0.614891  6.187491e-17  8.685888e-18       1.310784   \n",
       "std             0.486622  1.000003e+00  1.000003e+00       0.462816   \n",
       "min             0.000000 -1.809903e+00 -2.242576e-01       1.000000   \n",
       "25%             0.000000 -5.852869e-01 -1.873968e-01       1.000000   \n",
       "50%             1.000000  1.068877e-01 -1.136751e-01       1.000000   \n",
       "75%             1.000000  4.263529e-01 -3.092490e-03       2.000000   \n",
       "max             1.000000  7.774052e+00  2.946626e+02       2.000000   \n",
       "\n",
       "          UrbanRural      RevLineCr  DisbursementGross        GrAppv  \\\n",
       "count  189019.000000  189019.000000       1.890190e+05  1.890190e+05   \n",
       "mean        1.168999       0.572170       1.598091e-17 -4.796621e-17   \n",
       "std         0.374752       0.494765       1.000003e+00  1.000003e+00   \n",
       "min         1.000000       0.000000      -5.382753e-01 -4.710360e-01   \n",
       "25%         1.000000       0.000000      -4.337135e-01 -3.626386e-01   \n",
       "50%         1.000000       1.000000      -3.072434e-01 -2.770617e-01   \n",
       "75%         1.000000       1.000000      -1.549347e-02 -4.885677e-02   \n",
       "max         2.000000       1.000000       5.154846e+01  1.093351e+01   \n",
       "\n",
       "           SBA_Appv  Industry_Accommodation and food services  ...  \\\n",
       "count  1.890190e+05                             189019.000000  ...   \n",
       "mean  -1.620175e-17                                  0.087526  ...   \n",
       "std    1.000003e+00                                  0.282604  ...   \n",
       "min   -4.004842e-01                                  0.000000  ...   \n",
       "25%   -3.127885e-01                                  0.000000  ...   \n",
       "50%   -2.533079e-01                                  0.000000  ...   \n",
       "75%   -1.107071e-01                                  0.000000  ...   \n",
       "max    1.267380e+01                                  1.000000  ...   \n",
       "\n",
       "            State_SD       State_TN       State_TX       State_UT  \\\n",
       "count  189019.000000  189019.000000  189019.000000  189019.000000   \n",
       "mean        0.001619       0.009264       0.064200       0.030166   \n",
       "std         0.040203       0.095801       0.245109       0.171045   \n",
       "min         0.000000       0.000000       0.000000       0.000000   \n",
       "25%         0.000000       0.000000       0.000000       0.000000   \n",
       "50%         0.000000       0.000000       0.000000       0.000000   \n",
       "75%         0.000000       0.000000       0.000000       0.000000   \n",
       "max         1.000000       1.000000       1.000000       1.000000   \n",
       "\n",
       "            State_VA       State_VT       State_WA       State_WI  \\\n",
       "count  189019.000000  189019.000000  189019.000000  189019.000000   \n",
       "mean        0.015046       0.004280       0.024400       0.020934   \n",
       "std         0.121737       0.065282       0.154287       0.143165   \n",
       "min         0.000000       0.000000       0.000000       0.000000   \n",
       "25%         0.000000       0.000000       0.000000       0.000000   \n",
       "50%         0.000000       0.000000       0.000000       0.000000   \n",
       "75%         0.000000       0.000000       0.000000       0.000000   \n",
       "max         1.000000       1.000000       1.000000       1.000000   \n",
       "\n",
       "            State_WV       State_WY  \n",
       "count  189019.000000  189019.000000  \n",
       "mean        0.002217       0.001074  \n",
       "std         0.047030       0.032754  \n",
       "min         0.000000       0.000000  \n",
       "25%         0.000000       0.000000  \n",
       "50%         0.000000       0.000000  \n",
       "75%         0.000000       0.000000  \n",
       "max         1.000000       1.000000  \n",
       "\n",
       "[8 rows x 82 columns]"
      ]
     },
     "execution_count": 9,
     "metadata": {},
     "output_type": "execute_result"
    }
   ],
   "source": [
    "neuralDf_scaled.describe()"
   ]
  },
  {
   "cell_type": "markdown",
   "metadata": {},
   "source": [
    "### Split data into train/test splits"
   ]
  },
  {
   "cell_type": "code",
   "execution_count": 10,
   "metadata": {},
   "outputs": [
    {
     "name": "stdout",
     "output_type": "stream",
     "text": [
      "X_train shape:  (151215, 81)\n",
      "X_test shape:  (37804, 81)\n",
      "y_train shape:  (151215,)\n",
      "y_test shape:  (37804,)\n"
     ]
    }
   ],
   "source": [
    "X = neuralDf_scaled.drop(columns = ['Target_MIS_Status'])\n",
    "y = neuralDf_scaled['Target_MIS_Status']\n",
    "\n",
    "X_train, X_test, y_train, y_test = train_test_split(X, y, test_size = 0.2, random_state = 1)\n",
    "print(\"X_train shape: \", X_train.shape)\n",
    "print(\"X_test shape: \", X_test.shape)\n",
    "print(\"y_train shape: \", y_train.shape)\n",
    "print(\"y_test shape: \", y_test.shape)"
   ]
  },
  {
   "cell_type": "code",
   "execution_count": 11,
   "metadata": {},
   "outputs": [
    {
     "name": "stdout",
     "output_type": "stream",
     "text": [
      "81\n"
     ]
    }
   ],
   "source": [
    "print(X_train.shape[1])"
   ]
  },
  {
   "cell_type": "markdown",
   "metadata": {},
   "source": [
    "## Model Structure Optimization"
   ]
  },
  {
   "cell_type": "markdown",
   "metadata": {},
   "source": [
    "We want to optimize a network with 3 hidden layers\n",
    "- Each hidden layer can have from 64 to 256 nodes\n",
    "- The step size between nodes is 64\n",
    "- So the possibilities are: 64, 128, 192, 256"
   ]
  },
  {
   "cell_type": "code",
   "execution_count": 12,
   "metadata": {},
   "outputs": [],
   "source": [
    "num_layers = 3\n",
    "min_nodes_per_layer, max_nodes_per_layer = 64, 256\n",
    "node_step_size = 64"
   ]
  },
  {
   "cell_type": "code",
   "execution_count": 13,
   "metadata": {},
   "outputs": [
    {
     "data": {
      "text/plain": [
       "[64, 128, 192, 256]"
      ]
     },
     "execution_count": 13,
     "metadata": {},
     "output_type": "execute_result"
    }
   ],
   "source": [
    "node_options = list(range(\n",
    "    min_nodes_per_layer, \n",
    "    max_nodes_per_layer + 1, \n",
    "    node_step_size\n",
    "))\n",
    "node_options"
   ]
  },
  {
   "cell_type": "code",
   "execution_count": 14,
   "metadata": {},
   "outputs": [
    {
     "data": {
      "text/plain": [
       "[[64, 128, 192, 256], [64, 128, 192, 256], [64, 128, 192, 256]]"
      ]
     },
     "execution_count": 14,
     "metadata": {},
     "output_type": "execute_result"
    }
   ],
   "source": [
    "three_layer_possibilities = [node_options, node_options, node_options]\n",
    "three_layer_possibilities"
   ]
  },
  {
   "cell_type": "code",
   "execution_count": 15,
   "metadata": {},
   "outputs": [
    {
     "data": {
      "text/plain": [
       "[(64, 64, 64),\n",
       " (64, 64, 128),\n",
       " (64, 64, 192),\n",
       " (64, 64, 256),\n",
       " (64, 128, 64),\n",
       " (64, 128, 128),\n",
       " (64, 128, 192),\n",
       " (64, 128, 256),\n",
       " (64, 192, 64),\n",
       " (64, 192, 128),\n",
       " (64, 192, 192),\n",
       " (64, 192, 256),\n",
       " (64, 256, 64),\n",
       " (64, 256, 128),\n",
       " (64, 256, 192),\n",
       " (64, 256, 256),\n",
       " (128, 64, 64),\n",
       " (128, 64, 128),\n",
       " (128, 64, 192),\n",
       " (128, 64, 256),\n",
       " (128, 128, 64),\n",
       " (128, 128, 128),\n",
       " (128, 128, 192),\n",
       " (128, 128, 256),\n",
       " (128, 192, 64),\n",
       " (128, 192, 128),\n",
       " (128, 192, 192),\n",
       " (128, 192, 256),\n",
       " (128, 256, 64),\n",
       " (128, 256, 128),\n",
       " (128, 256, 192),\n",
       " (128, 256, 256),\n",
       " (192, 64, 64),\n",
       " (192, 64, 128),\n",
       " (192, 64, 192),\n",
       " (192, 64, 256),\n",
       " (192, 128, 64),\n",
       " (192, 128, 128),\n",
       " (192, 128, 192),\n",
       " (192, 128, 256),\n",
       " (192, 192, 64),\n",
       " (192, 192, 128),\n",
       " (192, 192, 192),\n",
       " (192, 192, 256),\n",
       " (192, 256, 64),\n",
       " (192, 256, 128),\n",
       " (192, 256, 192),\n",
       " (192, 256, 256),\n",
       " (256, 64, 64),\n",
       " (256, 64, 128),\n",
       " (256, 64, 192),\n",
       " (256, 64, 256),\n",
       " (256, 128, 64),\n",
       " (256, 128, 128),\n",
       " (256, 128, 192),\n",
       " (256, 128, 256),\n",
       " (256, 192, 64),\n",
       " (256, 192, 128),\n",
       " (256, 192, 192),\n",
       " (256, 192, 256),\n",
       " (256, 256, 64),\n",
       " (256, 256, 128),\n",
       " (256, 256, 192),\n",
       " (256, 256, 256)]"
      ]
     },
     "execution_count": 15,
     "metadata": {},
     "output_type": "execute_result"
    }
   ],
   "source": [
    "# Return all permutations between the three lists\n",
    "layer_node_permutations = list(itertools.product(*three_layer_possibilities))\n",
    "layer_node_permutations"
   ]
  },
  {
   "cell_type": "code",
   "execution_count": 16,
   "metadata": {},
   "outputs": [
    {
     "name": "stdout",
     "output_type": "stream",
     "text": [
      "64\n",
      "64\n",
      "64\n",
      "\n",
      "64\n",
      "64\n",
      "128\n",
      "\n"
     ]
    }
   ],
   "source": [
    "# Iterate over the permutations and then iterate again over the values of individual permutation to get the node count for each hidden layer:\n",
    "for permutation in layer_node_permutations[:2]:\n",
    "    for nodes_at_layer in permutation:\n",
    "        print(nodes_at_layer)\n",
    "    print()"
   ]
  },
  {
   "cell_type": "markdown",
   "metadata": {},
   "source": [
    "- Create a new Sequential model at each iteration, adding an InputLayer to it with a shape of (81,) (the number of columns in our dataset)\n",
    "- Then, iterate over the items in a single permutation and add a Dense layer to the model with the current number of nodes\n",
    "- Finally, add a Dense output layer\n",
    "- Set a name to the model so it's easier to compare them later:"
   ]
  },
  {
   "cell_type": "code",
   "execution_count": 17,
   "metadata": {},
   "outputs": [],
   "source": [
    "models = []\n",
    "\n",
    "for permutation in layer_node_permutations:\n",
    "    model = tf.keras.Sequential()\n",
    "    model.add(tf.keras.layers.InputLayer(input_shape=(X_train.shape[1],)))\n",
    "    model_name = ''\n",
    "    \n",
    "    for nodes_at_layer in permutation:\n",
    "        model.add(tf.keras.layers.Dense(nodes_at_layer, activation='relu'))\n",
    "        model_name += f'dense{nodes_at_layer}_'\n",
    "        \n",
    "    model.add(tf.keras.layers.Dense(1, activation='sigmoid'))\n",
    "    model._name = model_name[:-1]\n",
    "    \n",
    "    models.append(model)"
   ]
  },
  {
   "cell_type": "code",
   "execution_count": 18,
   "metadata": {},
   "outputs": [
    {
     "name": "stdout",
     "output_type": "stream",
     "text": [
      "Model: \"dense64_dense64_dense64\"\n",
      "_________________________________________________________________\n",
      " Layer (type)                Output Shape              Param #   \n",
      "=================================================================\n",
      " dense (Dense)               (None, 64)                5248      \n",
      "                                                                 \n",
      " dense_1 (Dense)             (None, 64)                4160      \n",
      "                                                                 \n",
      " dense_2 (Dense)             (None, 64)                4160      \n",
      "                                                                 \n",
      " dense_3 (Dense)             (None, 1)                 65        \n",
      "                                                                 \n",
      "=================================================================\n",
      "Total params: 13633 (53.25 KB)\n",
      "Trainable params: 13633 (53.25 KB)\n",
      "Non-trainable params: 0 (0.00 Byte)\n",
      "_________________________________________________________________\n"
     ]
    }
   ],
   "source": [
    "models[0].summary()"
   ]
  },
  {
   "cell_type": "code",
   "execution_count": 19,
   "metadata": {},
   "outputs": [
    {
     "name": "stdout",
     "output_type": "stream",
     "text": [
      "Model: \"dense64_dense64_dense128\"\n",
      "_________________________________________________________________\n",
      " Layer (type)                Output Shape              Param #   \n",
      "=================================================================\n",
      " dense_4 (Dense)             (None, 64)                5248      \n",
      "                                                                 \n",
      " dense_5 (Dense)             (None, 64)                4160      \n",
      "                                                                 \n",
      " dense_6 (Dense)             (None, 128)               8320      \n",
      "                                                                 \n",
      " dense_7 (Dense)             (None, 1)                 129       \n",
      "                                                                 \n",
      "=================================================================\n",
      "Total params: 17857 (69.75 KB)\n",
      "Trainable params: 17857 (69.75 KB)\n",
      "Non-trainable params: 0 (0.00 Byte)\n",
      "_________________________________________________________________\n"
     ]
    }
   ],
   "source": [
    "models[1].summary()"
   ]
  },
  {
   "cell_type": "code",
   "execution_count": 20,
   "metadata": {},
   "outputs": [],
   "source": [
    "# Define function to get architecture possibilities \n",
    "def get_models(num_layers: int,\n",
    "               min_nodes_per_layer: int,\n",
    "               max_nodes_per_layer: int,\n",
    "               node_step_size: int,\n",
    "               input_shape: tuple,\n",
    "               hidden_layer_activation: str = 'relu',\n",
    "               num_nodes_at_output: int = 1,\n",
    "               output_layer_activation: str = 'sigmoid') -> list:\n",
    "    \n",
    "    node_options = list(range(min_nodes_per_layer, max_nodes_per_layer + 1, node_step_size))\n",
    "    layer_possibilities = [node_options] * num_layers\n",
    "    layer_node_permutations = list(itertools.product(*layer_possibilities))\n",
    "    \n",
    "    models = []\n",
    "    for permutation in layer_node_permutations:\n",
    "        model = tf.keras.Sequential()\n",
    "        model.add(tf.keras.layers.InputLayer(input_shape=input_shape))\n",
    "        model_name = ''\n",
    "\n",
    "        for nodes_at_layer in permutation:\n",
    "            model.add(tf.keras.layers.Dense(nodes_at_layer, activation=hidden_layer_activation))\n",
    "            model_name += f'dense{nodes_at_layer}_'\n",
    "\n",
    "        model.add(tf.keras.layers.Dense(num_nodes_at_output, activation=output_layer_activation))\n",
    "        model._name = model_name[:-1]\n",
    "        models.append(model)\n",
    "        \n",
    "    return models"
   ]
  },
  {
   "cell_type": "code",
   "execution_count": 21,
   "metadata": {},
   "outputs": [],
   "source": [
    "all_models = get_models(\n",
    "    num_layers=3, \n",
    "    min_nodes_per_layer=64, \n",
    "    max_nodes_per_layer=256, \n",
    "    node_step_size=64, \n",
    "    input_shape=(12,)\n",
    ")"
   ]
  },
  {
   "cell_type": "code",
   "execution_count": 22,
   "metadata": {},
   "outputs": [
    {
     "name": "stdout",
     "output_type": "stream",
     "text": [
      "#Models = 64\n",
      "\n",
      "dense64_dense64_dense64\n",
      "dense64_dense64_dense128\n",
      "dense64_dense64_dense192\n",
      "dense64_dense64_dense256\n",
      "dense64_dense128_dense64\n",
      "dense64_dense128_dense128\n",
      "dense64_dense128_dense192\n",
      "dense64_dense128_dense256\n",
      "dense64_dense192_dense64\n",
      "dense64_dense192_dense128\n",
      "dense64_dense192_dense192\n",
      "dense64_dense192_dense256\n",
      "dense64_dense256_dense64\n",
      "dense64_dense256_dense128\n",
      "dense64_dense256_dense192\n",
      "dense64_dense256_dense256\n",
      "dense128_dense64_dense64\n",
      "dense128_dense64_dense128\n",
      "dense128_dense64_dense192\n",
      "dense128_dense64_dense256\n",
      "dense128_dense128_dense64\n",
      "dense128_dense128_dense128\n",
      "dense128_dense128_dense192\n",
      "dense128_dense128_dense256\n",
      "dense128_dense192_dense64\n",
      "dense128_dense192_dense128\n",
      "dense128_dense192_dense192\n",
      "dense128_dense192_dense256\n",
      "dense128_dense256_dense64\n",
      "dense128_dense256_dense128\n",
      "dense128_dense256_dense192\n",
      "dense128_dense256_dense256\n",
      "dense192_dense64_dense64\n",
      "dense192_dense64_dense128\n",
      "dense192_dense64_dense192\n",
      "dense192_dense64_dense256\n",
      "dense192_dense128_dense64\n",
      "dense192_dense128_dense128\n",
      "dense192_dense128_dense192\n",
      "dense192_dense128_dense256\n",
      "dense192_dense192_dense64\n",
      "dense192_dense192_dense128\n",
      "dense192_dense192_dense192\n",
      "dense192_dense192_dense256\n",
      "dense192_dense256_dense64\n",
      "dense192_dense256_dense128\n",
      "dense192_dense256_dense192\n",
      "dense192_dense256_dense256\n",
      "dense256_dense64_dense64\n",
      "dense256_dense64_dense128\n",
      "dense256_dense64_dense192\n",
      "dense256_dense64_dense256\n",
      "dense256_dense128_dense64\n",
      "dense256_dense128_dense128\n",
      "dense256_dense128_dense192\n",
      "dense256_dense128_dense256\n",
      "dense256_dense192_dense64\n",
      "dense256_dense192_dense128\n",
      "dense256_dense192_dense192\n",
      "dense256_dense192_dense256\n",
      "dense256_dense256_dense64\n",
      "dense256_dense256_dense128\n",
      "dense256_dense256_dense192\n",
      "dense256_dense256_dense256\n"
     ]
    }
   ],
   "source": [
    "print(f'#Models = {len(all_models)}')\n",
    "print()\n",
    "\n",
    "for model in all_models:\n",
    "    print(model.name)"
   ]
  },
  {
   "cell_type": "code",
   "execution_count": 23,
   "metadata": {},
   "outputs": [],
   "source": [
    "# Define function to accept the list of models, data sets, and number of epochs; ultimately to optimize a model\n",
    "def optimize(models: list,\n",
    "             X_train: np.array,\n",
    "             y_train: np.array,\n",
    "             X_test: np.array,\n",
    "             y_test: np.array,\n",
    "             epochs: int = 100,\n",
    "             verbose: int = 0) -> pd.DataFrame:\n",
    "    \n",
    "    # Store the results here\n",
    "    results = []\n",
    "    \n",
    "    def train(model: tf.keras.Sequential) -> dict:\n",
    "        learning_rate = 0.001\n",
    "        optimizer = optimizers.SGD(learning_rate)\n",
    "        model.compile(\n",
    "            loss=tf.keras.losses.BinaryCrossentropy(from_logits=True),\n",
    "            optimizer=optimizer,\n",
    "            metrics=['accuracy']) \n",
    "               \n",
    "        # Train the model\n",
    "        model.fit(\n",
    "            X_train,\n",
    "            y_train,\n",
    "            epochs=epochs,\n",
    "            verbose=verbose\n",
    "        )\n",
    "        \n",
    "        # Make predictions on the test set\n",
    "        preds = model.predict(X_test)\n",
    "        prediction_classes = [1 if prob > 0.5 else 0 for prob in np.ravel(preds)] # Selecting a baseline threshold of 0.5 as this is a binary classification problem\n",
    "        \n",
    "        # Return evaluation metrics on the test set\n",
    "        return {\n",
    "            'model_name': model.name,\n",
    "            'test_accuracy': accuracy_score(y_test, prediction_classes),\n",
    "            'test_precision': precision_score(y_test, prediction_classes),\n",
    "            'test_recall': recall_score(y_test, prediction_classes),\n",
    "            'test_f1': f1_score(y_test, prediction_classes)\n",
    "        }\n",
    "    \n",
    "    # Train every model and save results\n",
    "    for model in models:\n",
    "        try:\n",
    "            print(model.name, end=' ... ')\n",
    "            res = train(model=model)\n",
    "            results.append(res)\n",
    "        except Exception as e:\n",
    "            print(f'{model.name} --> {str(e)}')\n",
    "        \n",
    "    return pd.DataFrame(results)"
   ]
  },
  {
   "cell_type": "code",
   "execution_count": 26,
   "metadata": {},
   "outputs": [],
   "source": [
    "# Define function to accept the list of models, data sets, and number of epochs; ultimately to optimize a model\n",
    "def optimize_v2(models: list,\n",
    "             X_train: np.array,\n",
    "             y_train: np.array,\n",
    "             X_test: np.array,\n",
    "             y_test: np.array,\n",
    "             epochs: int = 100,\n",
    "             verbose: int = 0) -> pd.DataFrame:\n",
    "    \n",
    "    # Store the results here\n",
    "    results = []\n",
    "    \n",
    "    def train(model: tf.keras.Sequential) -> dict:\n",
    "        learning_rate = 0.001\n",
    "        optimizer = optimizers.Adam(learning_rate)\n",
    "        model.compile(\n",
    "            loss=tf.keras.losses.BinaryCrossentropy(from_logits=False),\n",
    "            optimizer=optimizer,\n",
    "            metrics=['accuracy']) \n",
    "               \n",
    "        # Train the model\n",
    "        history = model.fit(\n",
    "            X_train,\n",
    "            y_train,\n",
    "            validation_split = 0.25,\n",
    "            epochs=epochs,\n",
    "            verbose=verbose\n",
    "        )\n",
    "        \n",
    "       # Extract final training and validation metrics from history\n",
    "        train_loss = history.history['loss'][-1]\n",
    "        train_accuracy = history.history['accuracy'][-1]\n",
    "        val_loss = history.history['val_loss'][-1]\n",
    "        val_accuracy = history.history['val_accuracy'][-1]\n",
    "        \n",
    "        # Return metrics\n",
    "        return {\n",
    "            'model_name': model.name,\n",
    "            'train_loss': train_loss,\n",
    "            'train_accuracy': train_accuracy,\n",
    "            'val_loss': val_loss,\n",
    "            'val_accuracy': val_accuracy\n",
    "        }\n",
    "    \n",
    "    # Train every model and save results\n",
    "    for model in models:\n",
    "        try:\n",
    "            print(model.name, end=' ... ')\n",
    "            res = train(model=model)\n",
    "            results.append(res)\n",
    "        except Exception as e:\n",
    "            print(f'{model.name} --> {str(e)}')\n",
    "        \n",
    "    return pd.DataFrame(results)"
   ]
  },
  {
   "cell_type": "code",
   "execution_count": 27,
   "metadata": {},
   "outputs": [
    {
     "name": "stderr",
     "output_type": "stream",
     "text": [
      "WARNING:absl:At this time, the v2.11+ optimizer `tf.keras.optimizers.Adam` runs slowly on M1/M2 Macs, please use the legacy Keras optimizer instead, located at `tf.keras.optimizers.legacy.Adam`.\n"
     ]
    },
    {
     "name": "stdout",
     "output_type": "stream",
     "text": [
      "dense64_dense64_dense64 ... "
     ]
    },
    {
     "name": "stderr",
     "output_type": "stream",
     "text": [
      "WARNING:absl:At this time, the v2.11+ optimizer `tf.keras.optimizers.Adam` runs slowly on M1/M2 Macs, please use the legacy Keras optimizer instead, located at `tf.keras.optimizers.legacy.Adam`.\n"
     ]
    },
    {
     "name": "stdout",
     "output_type": "stream",
     "text": [
      "dense64_dense64_dense128 ... "
     ]
    },
    {
     "name": "stderr",
     "output_type": "stream",
     "text": [
      "WARNING:absl:At this time, the v2.11+ optimizer `tf.keras.optimizers.Adam` runs slowly on M1/M2 Macs, please use the legacy Keras optimizer instead, located at `tf.keras.optimizers.legacy.Adam`.\n"
     ]
    },
    {
     "name": "stdout",
     "output_type": "stream",
     "text": [
      "dense64_dense64_dense192 ... "
     ]
    },
    {
     "name": "stderr",
     "output_type": "stream",
     "text": [
      "WARNING:absl:At this time, the v2.11+ optimizer `tf.keras.optimizers.Adam` runs slowly on M1/M2 Macs, please use the legacy Keras optimizer instead, located at `tf.keras.optimizers.legacy.Adam`.\n"
     ]
    },
    {
     "name": "stdout",
     "output_type": "stream",
     "text": [
      "dense64_dense64_dense256 ... "
     ]
    },
    {
     "name": "stderr",
     "output_type": "stream",
     "text": [
      "WARNING:absl:At this time, the v2.11+ optimizer `tf.keras.optimizers.Adam` runs slowly on M1/M2 Macs, please use the legacy Keras optimizer instead, located at `tf.keras.optimizers.legacy.Adam`.\n"
     ]
    },
    {
     "name": "stdout",
     "output_type": "stream",
     "text": [
      "dense64_dense128_dense64 ... "
     ]
    },
    {
     "name": "stderr",
     "output_type": "stream",
     "text": [
      "WARNING:absl:At this time, the v2.11+ optimizer `tf.keras.optimizers.Adam` runs slowly on M1/M2 Macs, please use the legacy Keras optimizer instead, located at `tf.keras.optimizers.legacy.Adam`.\n"
     ]
    },
    {
     "name": "stdout",
     "output_type": "stream",
     "text": [
      "dense64_dense128_dense128 ... "
     ]
    },
    {
     "name": "stderr",
     "output_type": "stream",
     "text": [
      "WARNING:absl:At this time, the v2.11+ optimizer `tf.keras.optimizers.Adam` runs slowly on M1/M2 Macs, please use the legacy Keras optimizer instead, located at `tf.keras.optimizers.legacy.Adam`.\n"
     ]
    },
    {
     "name": "stdout",
     "output_type": "stream",
     "text": [
      "dense64_dense128_dense192 ... "
     ]
    },
    {
     "name": "stderr",
     "output_type": "stream",
     "text": [
      "WARNING:absl:At this time, the v2.11+ optimizer `tf.keras.optimizers.Adam` runs slowly on M1/M2 Macs, please use the legacy Keras optimizer instead, located at `tf.keras.optimizers.legacy.Adam`.\n"
     ]
    },
    {
     "name": "stdout",
     "output_type": "stream",
     "text": [
      "dense64_dense128_dense256 ... "
     ]
    },
    {
     "name": "stderr",
     "output_type": "stream",
     "text": [
      "WARNING:absl:At this time, the v2.11+ optimizer `tf.keras.optimizers.Adam` runs slowly on M1/M2 Macs, please use the legacy Keras optimizer instead, located at `tf.keras.optimizers.legacy.Adam`.\n"
     ]
    },
    {
     "name": "stdout",
     "output_type": "stream",
     "text": [
      "dense64_dense192_dense64 ... "
     ]
    },
    {
     "name": "stderr",
     "output_type": "stream",
     "text": [
      "WARNING:absl:At this time, the v2.11+ optimizer `tf.keras.optimizers.Adam` runs slowly on M1/M2 Macs, please use the legacy Keras optimizer instead, located at `tf.keras.optimizers.legacy.Adam`.\n"
     ]
    },
    {
     "name": "stdout",
     "output_type": "stream",
     "text": [
      "dense64_dense192_dense128 ... "
     ]
    },
    {
     "name": "stderr",
     "output_type": "stream",
     "text": [
      "WARNING:absl:At this time, the v2.11+ optimizer `tf.keras.optimizers.Adam` runs slowly on M1/M2 Macs, please use the legacy Keras optimizer instead, located at `tf.keras.optimizers.legacy.Adam`.\n"
     ]
    },
    {
     "name": "stdout",
     "output_type": "stream",
     "text": [
      "dense64_dense192_dense192 ... "
     ]
    },
    {
     "name": "stderr",
     "output_type": "stream",
     "text": [
      "WARNING:absl:At this time, the v2.11+ optimizer `tf.keras.optimizers.Adam` runs slowly on M1/M2 Macs, please use the legacy Keras optimizer instead, located at `tf.keras.optimizers.legacy.Adam`.\n"
     ]
    },
    {
     "name": "stdout",
     "output_type": "stream",
     "text": [
      "dense64_dense192_dense256 ... "
     ]
    },
    {
     "name": "stderr",
     "output_type": "stream",
     "text": [
      "WARNING:absl:At this time, the v2.11+ optimizer `tf.keras.optimizers.Adam` runs slowly on M1/M2 Macs, please use the legacy Keras optimizer instead, located at `tf.keras.optimizers.legacy.Adam`.\n"
     ]
    },
    {
     "name": "stdout",
     "output_type": "stream",
     "text": [
      "dense64_dense256_dense64 ... "
     ]
    },
    {
     "name": "stderr",
     "output_type": "stream",
     "text": [
      "WARNING:absl:At this time, the v2.11+ optimizer `tf.keras.optimizers.Adam` runs slowly on M1/M2 Macs, please use the legacy Keras optimizer instead, located at `tf.keras.optimizers.legacy.Adam`.\n"
     ]
    },
    {
     "name": "stdout",
     "output_type": "stream",
     "text": [
      "dense64_dense256_dense128 ... "
     ]
    },
    {
     "name": "stderr",
     "output_type": "stream",
     "text": [
      "WARNING:absl:At this time, the v2.11+ optimizer `tf.keras.optimizers.Adam` runs slowly on M1/M2 Macs, please use the legacy Keras optimizer instead, located at `tf.keras.optimizers.legacy.Adam`.\n"
     ]
    },
    {
     "name": "stdout",
     "output_type": "stream",
     "text": [
      "dense64_dense256_dense192 ... "
     ]
    },
    {
     "name": "stderr",
     "output_type": "stream",
     "text": [
      "WARNING:absl:At this time, the v2.11+ optimizer `tf.keras.optimizers.Adam` runs slowly on M1/M2 Macs, please use the legacy Keras optimizer instead, located at `tf.keras.optimizers.legacy.Adam`.\n"
     ]
    },
    {
     "name": "stdout",
     "output_type": "stream",
     "text": [
      "dense64_dense256_dense256 ... "
     ]
    },
    {
     "name": "stderr",
     "output_type": "stream",
     "text": [
      "WARNING:absl:At this time, the v2.11+ optimizer `tf.keras.optimizers.Adam` runs slowly on M1/M2 Macs, please use the legacy Keras optimizer instead, located at `tf.keras.optimizers.legacy.Adam`.\n"
     ]
    },
    {
     "name": "stdout",
     "output_type": "stream",
     "text": [
      "dense128_dense64_dense64 ... "
     ]
    },
    {
     "name": "stderr",
     "output_type": "stream",
     "text": [
      "WARNING:absl:At this time, the v2.11+ optimizer `tf.keras.optimizers.Adam` runs slowly on M1/M2 Macs, please use the legacy Keras optimizer instead, located at `tf.keras.optimizers.legacy.Adam`.\n"
     ]
    },
    {
     "name": "stdout",
     "output_type": "stream",
     "text": [
      "dense128_dense64_dense128 ... "
     ]
    },
    {
     "name": "stderr",
     "output_type": "stream",
     "text": [
      "WARNING:absl:At this time, the v2.11+ optimizer `tf.keras.optimizers.Adam` runs slowly on M1/M2 Macs, please use the legacy Keras optimizer instead, located at `tf.keras.optimizers.legacy.Adam`.\n"
     ]
    },
    {
     "name": "stdout",
     "output_type": "stream",
     "text": [
      "dense128_dense64_dense192 ... "
     ]
    },
    {
     "name": "stderr",
     "output_type": "stream",
     "text": [
      "WARNING:absl:At this time, the v2.11+ optimizer `tf.keras.optimizers.Adam` runs slowly on M1/M2 Macs, please use the legacy Keras optimizer instead, located at `tf.keras.optimizers.legacy.Adam`.\n"
     ]
    },
    {
     "name": "stdout",
     "output_type": "stream",
     "text": [
      "dense128_dense64_dense256 ... "
     ]
    },
    {
     "name": "stderr",
     "output_type": "stream",
     "text": [
      "WARNING:absl:At this time, the v2.11+ optimizer `tf.keras.optimizers.Adam` runs slowly on M1/M2 Macs, please use the legacy Keras optimizer instead, located at `tf.keras.optimizers.legacy.Adam`.\n"
     ]
    },
    {
     "name": "stdout",
     "output_type": "stream",
     "text": [
      "dense128_dense128_dense64 ... "
     ]
    },
    {
     "name": "stderr",
     "output_type": "stream",
     "text": [
      "WARNING:absl:At this time, the v2.11+ optimizer `tf.keras.optimizers.Adam` runs slowly on M1/M2 Macs, please use the legacy Keras optimizer instead, located at `tf.keras.optimizers.legacy.Adam`.\n"
     ]
    },
    {
     "name": "stdout",
     "output_type": "stream",
     "text": [
      "dense128_dense128_dense128 ... "
     ]
    },
    {
     "name": "stderr",
     "output_type": "stream",
     "text": [
      "WARNING:absl:At this time, the v2.11+ optimizer `tf.keras.optimizers.Adam` runs slowly on M1/M2 Macs, please use the legacy Keras optimizer instead, located at `tf.keras.optimizers.legacy.Adam`.\n"
     ]
    },
    {
     "name": "stdout",
     "output_type": "stream",
     "text": [
      "dense128_dense128_dense192 ... "
     ]
    },
    {
     "name": "stderr",
     "output_type": "stream",
     "text": [
      "WARNING:absl:At this time, the v2.11+ optimizer `tf.keras.optimizers.Adam` runs slowly on M1/M2 Macs, please use the legacy Keras optimizer instead, located at `tf.keras.optimizers.legacy.Adam`.\n"
     ]
    },
    {
     "name": "stdout",
     "output_type": "stream",
     "text": [
      "dense128_dense128_dense256 ... "
     ]
    },
    {
     "name": "stderr",
     "output_type": "stream",
     "text": [
      "WARNING:absl:At this time, the v2.11+ optimizer `tf.keras.optimizers.Adam` runs slowly on M1/M2 Macs, please use the legacy Keras optimizer instead, located at `tf.keras.optimizers.legacy.Adam`.\n"
     ]
    },
    {
     "name": "stdout",
     "output_type": "stream",
     "text": [
      "dense128_dense192_dense64 ... "
     ]
    },
    {
     "name": "stderr",
     "output_type": "stream",
     "text": [
      "WARNING:absl:At this time, the v2.11+ optimizer `tf.keras.optimizers.Adam` runs slowly on M1/M2 Macs, please use the legacy Keras optimizer instead, located at `tf.keras.optimizers.legacy.Adam`.\n"
     ]
    },
    {
     "name": "stdout",
     "output_type": "stream",
     "text": [
      "dense128_dense192_dense128 ... "
     ]
    },
    {
     "name": "stderr",
     "output_type": "stream",
     "text": [
      "WARNING:absl:At this time, the v2.11+ optimizer `tf.keras.optimizers.Adam` runs slowly on M1/M2 Macs, please use the legacy Keras optimizer instead, located at `tf.keras.optimizers.legacy.Adam`.\n"
     ]
    },
    {
     "name": "stdout",
     "output_type": "stream",
     "text": [
      "dense128_dense192_dense192 ... "
     ]
    },
    {
     "name": "stderr",
     "output_type": "stream",
     "text": [
      "WARNING:absl:At this time, the v2.11+ optimizer `tf.keras.optimizers.Adam` runs slowly on M1/M2 Macs, please use the legacy Keras optimizer instead, located at `tf.keras.optimizers.legacy.Adam`.\n"
     ]
    },
    {
     "name": "stdout",
     "output_type": "stream",
     "text": [
      "dense128_dense192_dense256 ... "
     ]
    },
    {
     "name": "stderr",
     "output_type": "stream",
     "text": [
      "WARNING:absl:At this time, the v2.11+ optimizer `tf.keras.optimizers.Adam` runs slowly on M1/M2 Macs, please use the legacy Keras optimizer instead, located at `tf.keras.optimizers.legacy.Adam`.\n"
     ]
    },
    {
     "name": "stdout",
     "output_type": "stream",
     "text": [
      "dense128_dense256_dense64 ... "
     ]
    },
    {
     "name": "stderr",
     "output_type": "stream",
     "text": [
      "WARNING:absl:At this time, the v2.11+ optimizer `tf.keras.optimizers.Adam` runs slowly on M1/M2 Macs, please use the legacy Keras optimizer instead, located at `tf.keras.optimizers.legacy.Adam`.\n"
     ]
    },
    {
     "name": "stdout",
     "output_type": "stream",
     "text": [
      "dense128_dense256_dense128 ... "
     ]
    },
    {
     "name": "stderr",
     "output_type": "stream",
     "text": [
      "WARNING:absl:At this time, the v2.11+ optimizer `tf.keras.optimizers.Adam` runs slowly on M1/M2 Macs, please use the legacy Keras optimizer instead, located at `tf.keras.optimizers.legacy.Adam`.\n"
     ]
    },
    {
     "name": "stdout",
     "output_type": "stream",
     "text": [
      "dense128_dense256_dense192 ... "
     ]
    },
    {
     "name": "stderr",
     "output_type": "stream",
     "text": [
      "WARNING:absl:At this time, the v2.11+ optimizer `tf.keras.optimizers.Adam` runs slowly on M1/M2 Macs, please use the legacy Keras optimizer instead, located at `tf.keras.optimizers.legacy.Adam`.\n"
     ]
    },
    {
     "name": "stdout",
     "output_type": "stream",
     "text": [
      "dense128_dense256_dense256 ... "
     ]
    },
    {
     "name": "stderr",
     "output_type": "stream",
     "text": [
      "WARNING:absl:At this time, the v2.11+ optimizer `tf.keras.optimizers.Adam` runs slowly on M1/M2 Macs, please use the legacy Keras optimizer instead, located at `tf.keras.optimizers.legacy.Adam`.\n"
     ]
    },
    {
     "name": "stdout",
     "output_type": "stream",
     "text": [
      "dense192_dense64_dense64 ... "
     ]
    },
    {
     "name": "stderr",
     "output_type": "stream",
     "text": [
      "WARNING:absl:At this time, the v2.11+ optimizer `tf.keras.optimizers.Adam` runs slowly on M1/M2 Macs, please use the legacy Keras optimizer instead, located at `tf.keras.optimizers.legacy.Adam`.\n"
     ]
    },
    {
     "name": "stdout",
     "output_type": "stream",
     "text": [
      "dense192_dense64_dense128 ... "
     ]
    },
    {
     "name": "stderr",
     "output_type": "stream",
     "text": [
      "WARNING:absl:At this time, the v2.11+ optimizer `tf.keras.optimizers.Adam` runs slowly on M1/M2 Macs, please use the legacy Keras optimizer instead, located at `tf.keras.optimizers.legacy.Adam`.\n"
     ]
    },
    {
     "name": "stdout",
     "output_type": "stream",
     "text": [
      "dense192_dense64_dense192 ... "
     ]
    },
    {
     "name": "stderr",
     "output_type": "stream",
     "text": [
      "WARNING:absl:At this time, the v2.11+ optimizer `tf.keras.optimizers.Adam` runs slowly on M1/M2 Macs, please use the legacy Keras optimizer instead, located at `tf.keras.optimizers.legacy.Adam`.\n"
     ]
    },
    {
     "name": "stdout",
     "output_type": "stream",
     "text": [
      "dense192_dense64_dense256 ... "
     ]
    },
    {
     "name": "stderr",
     "output_type": "stream",
     "text": [
      "WARNING:absl:At this time, the v2.11+ optimizer `tf.keras.optimizers.Adam` runs slowly on M1/M2 Macs, please use the legacy Keras optimizer instead, located at `tf.keras.optimizers.legacy.Adam`.\n"
     ]
    },
    {
     "name": "stdout",
     "output_type": "stream",
     "text": [
      "dense192_dense128_dense64 ... "
     ]
    },
    {
     "name": "stderr",
     "output_type": "stream",
     "text": [
      "WARNING:absl:At this time, the v2.11+ optimizer `tf.keras.optimizers.Adam` runs slowly on M1/M2 Macs, please use the legacy Keras optimizer instead, located at `tf.keras.optimizers.legacy.Adam`.\n"
     ]
    },
    {
     "name": "stdout",
     "output_type": "stream",
     "text": [
      "dense192_dense128_dense128 ... "
     ]
    },
    {
     "name": "stderr",
     "output_type": "stream",
     "text": [
      "WARNING:absl:At this time, the v2.11+ optimizer `tf.keras.optimizers.Adam` runs slowly on M1/M2 Macs, please use the legacy Keras optimizer instead, located at `tf.keras.optimizers.legacy.Adam`.\n"
     ]
    },
    {
     "name": "stdout",
     "output_type": "stream",
     "text": [
      "dense192_dense128_dense192 ... "
     ]
    },
    {
     "name": "stderr",
     "output_type": "stream",
     "text": [
      "WARNING:absl:At this time, the v2.11+ optimizer `tf.keras.optimizers.Adam` runs slowly on M1/M2 Macs, please use the legacy Keras optimizer instead, located at `tf.keras.optimizers.legacy.Adam`.\n"
     ]
    },
    {
     "name": "stdout",
     "output_type": "stream",
     "text": [
      "dense192_dense128_dense256 ... "
     ]
    },
    {
     "name": "stderr",
     "output_type": "stream",
     "text": [
      "WARNING:absl:At this time, the v2.11+ optimizer `tf.keras.optimizers.Adam` runs slowly on M1/M2 Macs, please use the legacy Keras optimizer instead, located at `tf.keras.optimizers.legacy.Adam`.\n"
     ]
    },
    {
     "name": "stdout",
     "output_type": "stream",
     "text": [
      "dense192_dense192_dense64 ... "
     ]
    },
    {
     "name": "stderr",
     "output_type": "stream",
     "text": [
      "WARNING:absl:At this time, the v2.11+ optimizer `tf.keras.optimizers.Adam` runs slowly on M1/M2 Macs, please use the legacy Keras optimizer instead, located at `tf.keras.optimizers.legacy.Adam`.\n"
     ]
    },
    {
     "name": "stdout",
     "output_type": "stream",
     "text": [
      "dense192_dense192_dense128 ... "
     ]
    },
    {
     "name": "stderr",
     "output_type": "stream",
     "text": [
      "WARNING:absl:At this time, the v2.11+ optimizer `tf.keras.optimizers.Adam` runs slowly on M1/M2 Macs, please use the legacy Keras optimizer instead, located at `tf.keras.optimizers.legacy.Adam`.\n"
     ]
    },
    {
     "name": "stdout",
     "output_type": "stream",
     "text": [
      "dense192_dense192_dense192 ... "
     ]
    },
    {
     "name": "stderr",
     "output_type": "stream",
     "text": [
      "WARNING:absl:At this time, the v2.11+ optimizer `tf.keras.optimizers.Adam` runs slowly on M1/M2 Macs, please use the legacy Keras optimizer instead, located at `tf.keras.optimizers.legacy.Adam`.\n"
     ]
    },
    {
     "name": "stdout",
     "output_type": "stream",
     "text": [
      "dense192_dense192_dense256 ... "
     ]
    },
    {
     "name": "stderr",
     "output_type": "stream",
     "text": [
      "WARNING:absl:At this time, the v2.11+ optimizer `tf.keras.optimizers.Adam` runs slowly on M1/M2 Macs, please use the legacy Keras optimizer instead, located at `tf.keras.optimizers.legacy.Adam`.\n"
     ]
    },
    {
     "name": "stdout",
     "output_type": "stream",
     "text": [
      "dense192_dense256_dense64 ... "
     ]
    },
    {
     "name": "stderr",
     "output_type": "stream",
     "text": [
      "WARNING:absl:At this time, the v2.11+ optimizer `tf.keras.optimizers.Adam` runs slowly on M1/M2 Macs, please use the legacy Keras optimizer instead, located at `tf.keras.optimizers.legacy.Adam`.\n"
     ]
    },
    {
     "name": "stdout",
     "output_type": "stream",
     "text": [
      "dense192_dense256_dense128 ... "
     ]
    },
    {
     "name": "stderr",
     "output_type": "stream",
     "text": [
      "WARNING:absl:At this time, the v2.11+ optimizer `tf.keras.optimizers.Adam` runs slowly on M1/M2 Macs, please use the legacy Keras optimizer instead, located at `tf.keras.optimizers.legacy.Adam`.\n"
     ]
    },
    {
     "name": "stdout",
     "output_type": "stream",
     "text": [
      "dense192_dense256_dense192 ... "
     ]
    },
    {
     "name": "stderr",
     "output_type": "stream",
     "text": [
      "WARNING:absl:At this time, the v2.11+ optimizer `tf.keras.optimizers.Adam` runs slowly on M1/M2 Macs, please use the legacy Keras optimizer instead, located at `tf.keras.optimizers.legacy.Adam`.\n"
     ]
    },
    {
     "name": "stdout",
     "output_type": "stream",
     "text": [
      "dense192_dense256_dense256 ... "
     ]
    },
    {
     "name": "stderr",
     "output_type": "stream",
     "text": [
      "WARNING:absl:At this time, the v2.11+ optimizer `tf.keras.optimizers.Adam` runs slowly on M1/M2 Macs, please use the legacy Keras optimizer instead, located at `tf.keras.optimizers.legacy.Adam`.\n"
     ]
    },
    {
     "name": "stdout",
     "output_type": "stream",
     "text": [
      "dense256_dense64_dense64 ... "
     ]
    },
    {
     "name": "stderr",
     "output_type": "stream",
     "text": [
      "WARNING:absl:At this time, the v2.11+ optimizer `tf.keras.optimizers.Adam` runs slowly on M1/M2 Macs, please use the legacy Keras optimizer instead, located at `tf.keras.optimizers.legacy.Adam`.\n"
     ]
    },
    {
     "name": "stdout",
     "output_type": "stream",
     "text": [
      "dense256_dense64_dense128 ... "
     ]
    },
    {
     "name": "stderr",
     "output_type": "stream",
     "text": [
      "WARNING:absl:At this time, the v2.11+ optimizer `tf.keras.optimizers.Adam` runs slowly on M1/M2 Macs, please use the legacy Keras optimizer instead, located at `tf.keras.optimizers.legacy.Adam`.\n"
     ]
    },
    {
     "name": "stdout",
     "output_type": "stream",
     "text": [
      "dense256_dense64_dense192 ... "
     ]
    },
    {
     "name": "stderr",
     "output_type": "stream",
     "text": [
      "WARNING:absl:At this time, the v2.11+ optimizer `tf.keras.optimizers.Adam` runs slowly on M1/M2 Macs, please use the legacy Keras optimizer instead, located at `tf.keras.optimizers.legacy.Adam`.\n"
     ]
    },
    {
     "name": "stdout",
     "output_type": "stream",
     "text": [
      "dense256_dense64_dense256 ... "
     ]
    },
    {
     "name": "stderr",
     "output_type": "stream",
     "text": [
      "WARNING:absl:At this time, the v2.11+ optimizer `tf.keras.optimizers.Adam` runs slowly on M1/M2 Macs, please use the legacy Keras optimizer instead, located at `tf.keras.optimizers.legacy.Adam`.\n"
     ]
    },
    {
     "name": "stdout",
     "output_type": "stream",
     "text": [
      "dense256_dense128_dense64 ... "
     ]
    },
    {
     "name": "stderr",
     "output_type": "stream",
     "text": [
      "WARNING:absl:At this time, the v2.11+ optimizer `tf.keras.optimizers.Adam` runs slowly on M1/M2 Macs, please use the legacy Keras optimizer instead, located at `tf.keras.optimizers.legacy.Adam`.\n"
     ]
    },
    {
     "name": "stdout",
     "output_type": "stream",
     "text": [
      "dense256_dense128_dense128 ... "
     ]
    },
    {
     "name": "stderr",
     "output_type": "stream",
     "text": [
      "WARNING:absl:At this time, the v2.11+ optimizer `tf.keras.optimizers.Adam` runs slowly on M1/M2 Macs, please use the legacy Keras optimizer instead, located at `tf.keras.optimizers.legacy.Adam`.\n"
     ]
    },
    {
     "name": "stdout",
     "output_type": "stream",
     "text": [
      "dense256_dense128_dense192 ... "
     ]
    },
    {
     "name": "stderr",
     "output_type": "stream",
     "text": [
      "WARNING:absl:At this time, the v2.11+ optimizer `tf.keras.optimizers.Adam` runs slowly on M1/M2 Macs, please use the legacy Keras optimizer instead, located at `tf.keras.optimizers.legacy.Adam`.\n"
     ]
    },
    {
     "name": "stdout",
     "output_type": "stream",
     "text": [
      "dense256_dense128_dense256 ... "
     ]
    },
    {
     "name": "stderr",
     "output_type": "stream",
     "text": [
      "WARNING:absl:At this time, the v2.11+ optimizer `tf.keras.optimizers.Adam` runs slowly on M1/M2 Macs, please use the legacy Keras optimizer instead, located at `tf.keras.optimizers.legacy.Adam`.\n"
     ]
    },
    {
     "name": "stdout",
     "output_type": "stream",
     "text": [
      "dense256_dense192_dense64 ... "
     ]
    },
    {
     "name": "stderr",
     "output_type": "stream",
     "text": [
      "WARNING:absl:At this time, the v2.11+ optimizer `tf.keras.optimizers.Adam` runs slowly on M1/M2 Macs, please use the legacy Keras optimizer instead, located at `tf.keras.optimizers.legacy.Adam`.\n"
     ]
    },
    {
     "name": "stdout",
     "output_type": "stream",
     "text": [
      "dense256_dense192_dense128 ... "
     ]
    },
    {
     "name": "stderr",
     "output_type": "stream",
     "text": [
      "WARNING:absl:At this time, the v2.11+ optimizer `tf.keras.optimizers.Adam` runs slowly on M1/M2 Macs, please use the legacy Keras optimizer instead, located at `tf.keras.optimizers.legacy.Adam`.\n"
     ]
    },
    {
     "name": "stdout",
     "output_type": "stream",
     "text": [
      "dense256_dense192_dense192 ... "
     ]
    },
    {
     "name": "stderr",
     "output_type": "stream",
     "text": [
      "WARNING:absl:At this time, the v2.11+ optimizer `tf.keras.optimizers.Adam` runs slowly on M1/M2 Macs, please use the legacy Keras optimizer instead, located at `tf.keras.optimizers.legacy.Adam`.\n"
     ]
    },
    {
     "name": "stdout",
     "output_type": "stream",
     "text": [
      "dense256_dense192_dense256 ... "
     ]
    },
    {
     "name": "stderr",
     "output_type": "stream",
     "text": [
      "WARNING:absl:At this time, the v2.11+ optimizer `tf.keras.optimizers.Adam` runs slowly on M1/M2 Macs, please use the legacy Keras optimizer instead, located at `tf.keras.optimizers.legacy.Adam`.\n"
     ]
    },
    {
     "name": "stdout",
     "output_type": "stream",
     "text": [
      "dense256_dense256_dense64 ... "
     ]
    },
    {
     "name": "stderr",
     "output_type": "stream",
     "text": [
      "WARNING:absl:At this time, the v2.11+ optimizer `tf.keras.optimizers.Adam` runs slowly on M1/M2 Macs, please use the legacy Keras optimizer instead, located at `tf.keras.optimizers.legacy.Adam`.\n"
     ]
    },
    {
     "name": "stdout",
     "output_type": "stream",
     "text": [
      "dense256_dense256_dense128 ... "
     ]
    },
    {
     "name": "stderr",
     "output_type": "stream",
     "text": [
      "WARNING:absl:At this time, the v2.11+ optimizer `tf.keras.optimizers.Adam` runs slowly on M1/M2 Macs, please use the legacy Keras optimizer instead, located at `tf.keras.optimizers.legacy.Adam`.\n"
     ]
    },
    {
     "name": "stdout",
     "output_type": "stream",
     "text": [
      "dense256_dense256_dense192 ... "
     ]
    },
    {
     "name": "stderr",
     "output_type": "stream",
     "text": [
      "WARNING:absl:At this time, the v2.11+ optimizer `tf.keras.optimizers.Adam` runs slowly on M1/M2 Macs, please use the legacy Keras optimizer instead, located at `tf.keras.optimizers.legacy.Adam`.\n"
     ]
    },
    {
     "name": "stdout",
     "output_type": "stream",
     "text": [
      "dense256_dense256_dense256 ... "
     ]
    }
   ],
   "source": [
    "# Perform optimization (takes very long runtime 537 min)\n",
    "optimization_results = optimize_v2(\n",
    "    models=models,\n",
    "    X_train=X_train,\n",
    "    y_train=y_train,\n",
    "    X_test=X_test,\n",
    "    y_test=y_test\n",
    ")"
   ]
  },
  {
   "cell_type": "code",
   "execution_count": 33,
   "metadata": {},
   "outputs": [
    {
     "data": {
      "text/html": [
       "<div>\n",
       "<style scoped>\n",
       "    .dataframe tbody tr th:only-of-type {\n",
       "        vertical-align: middle;\n",
       "    }\n",
       "\n",
       "    .dataframe tbody tr th {\n",
       "        vertical-align: top;\n",
       "    }\n",
       "\n",
       "    .dataframe thead th {\n",
       "        text-align: right;\n",
       "    }\n",
       "</style>\n",
       "<table border=\"1\" class=\"dataframe\">\n",
       "  <thead>\n",
       "    <tr style=\"text-align: right;\">\n",
       "      <th></th>\n",
       "      <th>model_name</th>\n",
       "      <th>train_loss</th>\n",
       "      <th>train_accuracy</th>\n",
       "      <th>val_loss</th>\n",
       "      <th>val_accuracy</th>\n",
       "    </tr>\n",
       "  </thead>\n",
       "  <tbody>\n",
       "    <tr>\n",
       "      <th>7</th>\n",
       "      <td>dense64_dense128_dense256</td>\n",
       "      <td>0.219567</td>\n",
       "      <td>0.914788</td>\n",
       "      <td>0.220987</td>\n",
       "      <td>0.917390</td>\n",
       "    </tr>\n",
       "    <tr>\n",
       "      <th>14</th>\n",
       "      <td>dense64_dense256_dense192</td>\n",
       "      <td>0.211406</td>\n",
       "      <td>0.918156</td>\n",
       "      <td>0.221878</td>\n",
       "      <td>0.916676</td>\n",
       "    </tr>\n",
       "    <tr>\n",
       "      <th>37</th>\n",
       "      <td>dense192_dense128_dense128</td>\n",
       "      <td>0.208788</td>\n",
       "      <td>0.919567</td>\n",
       "      <td>0.223856</td>\n",
       "      <td>0.916940</td>\n",
       "    </tr>\n",
       "    <tr>\n",
       "      <th>57</th>\n",
       "      <td>dense256_dense192_dense128</td>\n",
       "      <td>0.214146</td>\n",
       "      <td>0.917530</td>\n",
       "      <td>0.224822</td>\n",
       "      <td>0.915406</td>\n",
       "    </tr>\n",
       "    <tr>\n",
       "      <th>1</th>\n",
       "      <td>dense64_dense64_dense128</td>\n",
       "      <td>0.204545</td>\n",
       "      <td>0.923041</td>\n",
       "      <td>0.225356</td>\n",
       "      <td>0.918607</td>\n",
       "    </tr>\n",
       "    <tr>\n",
       "      <th>...</th>\n",
       "      <td>...</td>\n",
       "      <td>...</td>\n",
       "      <td>...</td>\n",
       "      <td>...</td>\n",
       "      <td>...</td>\n",
       "    </tr>\n",
       "    <tr>\n",
       "      <th>45</th>\n",
       "      <td>dense192_dense256_dense128</td>\n",
       "      <td>0.218983</td>\n",
       "      <td>0.914188</td>\n",
       "      <td>0.255665</td>\n",
       "      <td>0.905857</td>\n",
       "    </tr>\n",
       "    <tr>\n",
       "      <th>6</th>\n",
       "      <td>dense64_dense128_dense192</td>\n",
       "      <td>0.217361</td>\n",
       "      <td>0.915687</td>\n",
       "      <td>0.257862</td>\n",
       "      <td>0.903000</td>\n",
       "    </tr>\n",
       "    <tr>\n",
       "      <th>8</th>\n",
       "      <td>dense64_dense192_dense64</td>\n",
       "      <td>0.219043</td>\n",
       "      <td>0.914682</td>\n",
       "      <td>0.261434</td>\n",
       "      <td>0.900196</td>\n",
       "    </tr>\n",
       "    <tr>\n",
       "      <th>2</th>\n",
       "      <td>dense64_dense64_dense192</td>\n",
       "      <td>0.204730</td>\n",
       "      <td>0.922080</td>\n",
       "      <td>0.262841</td>\n",
       "      <td>0.902656</td>\n",
       "    </tr>\n",
       "    <tr>\n",
       "      <th>51</th>\n",
       "      <td>dense256_dense64_dense256</td>\n",
       "      <td>0.225752</td>\n",
       "      <td>0.912213</td>\n",
       "      <td>0.294356</td>\n",
       "      <td>0.881150</td>\n",
       "    </tr>\n",
       "  </tbody>\n",
       "</table>\n",
       "<p>64 rows × 5 columns</p>\n",
       "</div>"
      ],
      "text/plain": [
       "                    model_name  train_loss  train_accuracy  val_loss  \\\n",
       "7    dense64_dense128_dense256    0.219567        0.914788  0.220987   \n",
       "14   dense64_dense256_dense192    0.211406        0.918156  0.221878   \n",
       "37  dense192_dense128_dense128    0.208788        0.919567  0.223856   \n",
       "57  dense256_dense192_dense128    0.214146        0.917530  0.224822   \n",
       "1     dense64_dense64_dense128    0.204545        0.923041  0.225356   \n",
       "..                         ...         ...             ...       ...   \n",
       "45  dense192_dense256_dense128    0.218983        0.914188  0.255665   \n",
       "6    dense64_dense128_dense192    0.217361        0.915687  0.257862   \n",
       "8     dense64_dense192_dense64    0.219043        0.914682  0.261434   \n",
       "2     dense64_dense64_dense192    0.204730        0.922080  0.262841   \n",
       "51   dense256_dense64_dense256    0.225752        0.912213  0.294356   \n",
       "\n",
       "    val_accuracy  \n",
       "7       0.917390  \n",
       "14      0.916676  \n",
       "37      0.916940  \n",
       "57      0.915406  \n",
       "1       0.918607  \n",
       "..           ...  \n",
       "45      0.905857  \n",
       "6       0.903000  \n",
       "8       0.900196  \n",
       "2       0.902656  \n",
       "51      0.881150  \n",
       "\n",
       "[64 rows x 5 columns]"
      ]
     },
     "execution_count": 33,
     "metadata": {},
     "output_type": "execute_result"
    }
   ],
   "source": [
    "optimization_results.sort_values(by='val_loss', ascending=True)"
   ]
  },
  {
   "cell_type": "markdown",
   "metadata": {},
   "source": [
    "A 64,64,128 node three hidden layer model appears to be the optimal model structure base on train and validation loss."
   ]
  },
  {
   "cell_type": "markdown",
   "metadata": {},
   "source": [
    "## Optimal Three Hidden Layer Model"
   ]
  },
  {
   "cell_type": "code",
   "execution_count": 50,
   "metadata": {},
   "outputs": [],
   "source": [
    "three_layer_model = models[1]"
   ]
  },
  {
   "cell_type": "code",
   "execution_count": 35,
   "metadata": {},
   "outputs": [
    {
     "name": "stdout",
     "output_type": "stream",
     "text": [
      "dense64_dense64_dense64  ,  <keras.src.engine.sequential.Sequential object at 0x28b358fa0>\n",
      "dense64_dense64_dense128  ,  <keras.src.engine.sequential.Sequential object at 0x28b54b100>\n",
      "dense64_dense64_dense192  ,  <keras.src.engine.sequential.Sequential object at 0x28b4d4eb0>\n",
      "dense64_dense64_dense256  ,  <keras.src.engine.sequential.Sequential object at 0x2a140e1f0>\n",
      "dense64_dense128_dense64  ,  <keras.src.engine.sequential.Sequential object at 0x2a141c8b0>\n",
      "dense64_dense128_dense128  ,  <keras.src.engine.sequential.Sequential object at 0x2a14288e0>\n",
      "dense64_dense128_dense192  ,  <keras.src.engine.sequential.Sequential object at 0x2a144ff70>\n",
      "dense64_dense128_dense256  ,  <keras.src.engine.sequential.Sequential object at 0x2a1460d30>\n",
      "dense64_dense192_dense64  ,  <keras.src.engine.sequential.Sequential object at 0x2a1475ca0>\n",
      "dense64_dense192_dense128  ,  <keras.src.engine.sequential.Sequential object at 0x2a149a520>\n",
      "dense64_dense192_dense192  ,  <keras.src.engine.sequential.Sequential object at 0x2a140e850>\n",
      "dense64_dense192_dense256  ,  <keras.src.engine.sequential.Sequential object at 0x2a1456130>\n",
      "dense64_dense256_dense64  ,  <keras.src.engine.sequential.Sequential object at 0x2a14b64c0>\n",
      "dense64_dense256_dense128  ,  <keras.src.engine.sequential.Sequential object at 0x2a14c3a90>\n",
      "dense64_dense256_dense192  ,  <keras.src.engine.sequential.Sequential object at 0x2a14e0dc0>\n",
      "dense64_dense256_dense256  ,  <keras.src.engine.sequential.Sequential object at 0x2a14e9d00>\n",
      "dense128_dense64_dense64  ,  <keras.src.engine.sequential.Sequential object at 0x2a1709ee0>\n",
      "dense128_dense64_dense128  ,  <keras.src.engine.sequential.Sequential object at 0x2a14b0070>\n",
      "dense128_dense64_dense192  ,  <keras.src.engine.sequential.Sequential object at 0x2a171ad00>\n",
      "dense128_dense64_dense256  ,  <keras.src.engine.sequential.Sequential object at 0x2a172b340>\n",
      "dense128_dense128_dense64  ,  <keras.src.engine.sequential.Sequential object at 0x2a1726b80>\n",
      "dense128_dense128_dense128  ,  <keras.src.engine.sequential.Sequential object at 0x2a175a790>\n",
      "dense128_dense128_dense192  ,  <keras.src.engine.sequential.Sequential object at 0x2a1761d00>\n",
      "dense128_dense128_dense256  ,  <keras.src.engine.sequential.Sequential object at 0x2a17877c0>\n",
      "dense128_dense192_dense64  ,  <keras.src.engine.sequential.Sequential object at 0x2a1726640>\n",
      "dense128_dense192_dense128  ,  <keras.src.engine.sequential.Sequential object at 0x2a179beb0>\n",
      "dense128_dense192_dense192  ,  <keras.src.engine.sequential.Sequential object at 0x2a179dd90>\n",
      "dense128_dense192_dense256  ,  <keras.src.engine.sequential.Sequential object at 0x2a17c4130>\n",
      "dense128_dense256_dense64  ,  <keras.src.engine.sequential.Sequential object at 0x2a17d0f70>\n",
      "dense128_dense256_dense128  ,  <keras.src.engine.sequential.Sequential object at 0x2a17d69a0>\n",
      "dense128_dense256_dense192  ,  <keras.src.engine.sequential.Sequential object at 0x2a17ec610>\n",
      "dense128_dense256_dense256  ,  <keras.src.engine.sequential.Sequential object at 0x2a1a09f70>\n",
      "dense192_dense64_dense64  ,  <keras.src.engine.sequential.Sequential object at 0x2a17ffee0>\n",
      "dense192_dense64_dense128  ,  <keras.src.engine.sequential.Sequential object at 0x2a1a1d700>\n",
      "dense192_dense64_dense192  ,  <keras.src.engine.sequential.Sequential object at 0x2a1a2f760>\n",
      "dense192_dense64_dense256  ,  <keras.src.engine.sequential.Sequential object at 0x2a1a48460>\n",
      "dense192_dense128_dense64  ,  <keras.src.engine.sequential.Sequential object at 0x2a1a509d0>\n",
      "dense192_dense128_dense128  ,  <keras.src.engine.sequential.Sequential object at 0x2a1a75580>\n",
      "dense192_dense128_dense192  ,  <keras.src.engine.sequential.Sequential object at 0x2a1a79580>\n",
      "dense192_dense128_dense256  ,  <keras.src.engine.sequential.Sequential object at 0x2a1a921f0>\n",
      "dense192_dense192_dense64  ,  <keras.src.engine.sequential.Sequential object at 0x2a1a75df0>\n",
      "dense192_dense192_dense128  ,  <keras.src.engine.sequential.Sequential object at 0x2a1aaf5b0>\n",
      "dense192_dense192_dense192  ,  <keras.src.engine.sequential.Sequential object at 0x2a1aaae20>\n",
      "dense192_dense192_dense256  ,  <keras.src.engine.sequential.Sequential object at 0x2a1ad16d0>\n",
      "dense192_dense256_dense64  ,  <keras.src.engine.sequential.Sequential object at 0x2a1ad49a0>\n",
      "dense192_dense256_dense128  ,  <keras.src.engine.sequential.Sequential object at 0x2a1d04970>\n",
      "dense192_dense256_dense192  ,  <keras.src.engine.sequential.Sequential object at 0x2a1aec4c0>\n",
      "dense192_dense256_dense256  ,  <keras.src.engine.sequential.Sequential object at 0x2a1d0de50>\n",
      "dense256_dense64_dense64  ,  <keras.src.engine.sequential.Sequential object at 0x2a1aafa60>\n",
      "dense256_dense64_dense128  ,  <keras.src.engine.sequential.Sequential object at 0x2a1d33df0>\n",
      "dense256_dense64_dense192  ,  <keras.src.engine.sequential.Sequential object at 0x2a1d3be80>\n",
      "dense256_dense64_dense256  ,  <keras.src.engine.sequential.Sequential object at 0x2a1d62be0>\n",
      "dense256_dense128_dense64  ,  <keras.src.engine.sequential.Sequential object at 0x2a1d6bb20>\n",
      "dense256_dense128_dense128  ,  <keras.src.engine.sequential.Sequential object at 0x2a1d85d00>\n",
      "dense256_dense128_dense192  ,  <keras.src.engine.sequential.Sequential object at 0x2a1d94280>\n",
      "dense256_dense128_dense256  ,  <keras.src.engine.sequential.Sequential object at 0x2a1d9e760>\n",
      "dense256_dense192_dense64  ,  <keras.src.engine.sequential.Sequential object at 0x2a1d94640>\n",
      "dense256_dense192_dense128  ,  <keras.src.engine.sequential.Sequential object at 0x2a1dc1e80>\n",
      "dense256_dense192_dense192  ,  <keras.src.engine.sequential.Sequential object at 0x2a1dc56d0>\n",
      "dense256_dense192_dense256  ,  <keras.src.engine.sequential.Sequential object at 0x2a1ddff70>\n",
      "dense256_dense256_dense64  ,  <keras.src.engine.sequential.Sequential object at 0x2a1df1820>\n",
      "dense256_dense256_dense128  ,  <keras.src.engine.sequential.Sequential object at 0x2c5713fa0>\n",
      "dense256_dense256_dense192  ,  <keras.src.engine.sequential.Sequential object at 0x2c5732550>\n",
      "dense256_dense256_dense256  ,  <keras.src.engine.sequential.Sequential object at 0x2c571e520>\n"
     ]
    }
   ],
   "source": [
    "for model in models:\n",
    "    print(model.name,' , ', model)"
   ]
  },
  {
   "cell_type": "markdown",
   "metadata": {},
   "source": [
    "Optimal model is second in the list of models."
   ]
  },
  {
   "cell_type": "code",
   "execution_count": 36,
   "metadata": {},
   "outputs": [
    {
     "name": "stdout",
     "output_type": "stream",
     "text": [
      "Model: \"dense64_dense64_dense128\"\n",
      "_________________________________________________________________\n",
      " Layer (type)                Output Shape              Param #   \n",
      "=================================================================\n",
      " dense_4 (Dense)             (None, 64)                5248      \n",
      "                                                                 \n",
      " dense_5 (Dense)             (None, 64)                4160      \n",
      "                                                                 \n",
      " dense_6 (Dense)             (None, 128)               8320      \n",
      "                                                                 \n",
      " dense_7 (Dense)             (None, 1)                 129       \n",
      "                                                                 \n",
      "=================================================================\n",
      "Total params: 17857 (69.75 KB)\n",
      "Trainable params: 17857 (69.75 KB)\n",
      "Non-trainable params: 0 (0.00 Byte)\n",
      "_________________________________________________________________\n"
     ]
    }
   ],
   "source": [
    "models[1].summary()"
   ]
  },
  {
   "cell_type": "code",
   "execution_count": 37,
   "metadata": {},
   "outputs": [],
   "source": [
    "epochs = 100\n",
    "verbose = 0\n",
    "\n",
    "history = models[1].fit(X_train, y_train, validation_split = 0.25,epochs = epochs, verbose = 0)"
   ]
  },
  {
   "cell_type": "code",
   "execution_count": 38,
   "metadata": {},
   "outputs": [
    {
     "data": {
      "image/png": "[encoded data removed]",
      "text/plain": [
       "<Figure size 1200x600 with 1 Axes>"
      ]
     },
     "metadata": {},
     "output_type": "display_data"
    }
   ],
   "source": [
    "plt.figure(figsize=(12,6))\n",
    "plt.plot(history.history['loss'], label = 'Train Loss', color = 'b')\n",
    "plt.plot(history.history['accuracy'], label = 'Train Accuracy', linestyle = 'dashed', color = 'b')\n",
    "plt.plot(history.history['val_loss'], label = 'Val loss', color = 'g')\n",
    "plt.plot(history.history['val_accuracy'], label = 'Val Accuracy', linestyle = 'dashed', color = 'g')\n",
    "plt.title(f'Train Loss vs Val Loss {models[1].name}')\n",
    "plt.xlabel('Epochs')\n",
    "plt.legend()\n",
    "plt.show()"
   ]
  },
  {
   "cell_type": "code",
   "execution_count": 39,
   "metadata": {},
   "outputs": [
    {
     "name": "stdout",
     "output_type": "stream",
     "text": [
      "1182/1182 [==============================] - 0s 263us/step - loss: 0.2449 - accuracy: 0.9153\n",
      "Accuracy: 91.53\n"
     ]
    }
   ],
   "source": [
    "loss, accuracy = models[1].evaluate(X_test, y_test)\n",
    "print('Accuracy: %.2f' % (accuracy*100))"
   ]
  },
  {
   "cell_type": "code",
   "execution_count": 56,
   "metadata": {},
   "outputs": [
    {
     "name": "stdout",
     "output_type": "stream",
     "text": [
      "1182/1182 [==============================] - 0s 244us/step\n"
     ]
    }
   ],
   "source": [
    "preds = models[1].predict(X_test)\n",
    "prediction_classes = [1 if prob > 0.5 else 0 for prob in np.ravel(preds)]"
   ]
  },
  {
   "cell_type": "code",
   "execution_count": 57,
   "metadata": {},
   "outputs": [
    {
     "name": "stdout",
     "output_type": "stream",
     "text": [
      "'dense64_dense64_dense128' Model Metrics\n",
      "------------------------------------------------------------------------------------------------------------------------------------------------------\n",
      "{'test_accuracy': 0.92, 'test_precision': 0.95, 'test_recall': 0.91, 'test_f1': 0.93}\n",
      "======================================================================================================================================================\n"
     ]
    }
   ],
   "source": [
    "metrics_dict = {'test_accuracy': np.round(accuracy_score(y_test, prediction_classes),2),\n",
    "'test_precision': np.round(precision_score(y_test, prediction_classes),2),\n",
    "'test_recall': np.round(recall_score(y_test, prediction_classes),2),\n",
    "'test_f1': np.round(f1_score(y_test, prediction_classes),2)}\n",
    "\n",
    "print(f\"'{three_layer_model._name}' Model Metrics\")\n",
    "print('-'*150)\n",
    "print(metrics_dict)\n",
    "print('='*150)"
   ]
  },
  {
   "cell_type": "code",
   "execution_count": 45,
   "metadata": {},
   "outputs": [
    {
     "name": "stdout",
     "output_type": "stream",
     "text": [
      "(array([0, 1]), array([15398, 22406]))\n"
     ]
    }
   ],
   "source": [
    "print(np.unique(prediction_classes, return_counts = True))"
   ]
  },
  {
   "cell_type": "code",
   "execution_count": 46,
   "metadata": {},
   "outputs": [
    {
     "name": "stdout",
     "output_type": "stream",
     "text": [
      "Confusion Matrix\n",
      "         Pred: 0  Pred: 1\n",
      "True: 0    13396     1201\n",
      "True: 1     2002    21205\n"
     ]
    }
   ],
   "source": [
    "# Confusion Matrix\n",
    "cm = confusion_matrix(y_test, prediction_classes)\n",
    "#print(cm)\n",
    "cmtx = pd.DataFrame(cm, index = ['True: 0', 'True: 1'], columns = ['Pred: 0', 'Pred: 1'])\n",
    "print('Confusion Matrix')\n",
    "print(cmtx)"
   ]
  },
  {
   "cell_type": "code",
   "execution_count": 47,
   "metadata": {},
   "outputs": [
    {
     "name": "stdout",
     "output_type": "stream",
     "text": [
      "1182/1182 [==============================] - 0s 249us/step\n",
      "\n",
      "Best Threshold = 0.516337, G-Mean=0.916\n"
     ]
    },
    {
     "data": {
      "image/png": "[encoded data removed]",
      "text/plain": [
       "<Figure size 640x480 with 1 Axes>"
      ]
     },
     "metadata": {},
     "output_type": "display_data"
    }
   ],
   "source": [
    "# ROC Curve\n",
    "y_preds = models[1].predict(X_test).ravel()\n",
    "fpr, tpr, thresholds = roc_curve(y_test, y_preds)\n",
    "\n",
    "# Calculate the g-mean for each threshold\n",
    "gmeans = np.sqrt(tpr * (1-fpr))\n",
    "\n",
    "# locate the index of the largest g-mean\n",
    "ix = np.argmax(gmeans)\n",
    "print('\\nBest Threshold = %f, G-Mean=%.3f' % (thresholds[ix], gmeans[ix]))\n",
    "\n",
    "\n",
    "plt.figure()\n",
    "plt.plot([0,1],[0,1],'y--', zorder = 1)\n",
    "plt.plot(fpr, tpr, marker = '.', zorder = 2)\n",
    "plt.scatter(fpr[ix], tpr[ix], marker='X', color='red', label='Best Treshold Ratio', zorder = 3)\n",
    "plt.xlabel('False \"0\" rate')\n",
    "plt.ylabel('True \"0\" rate')\n",
    "plt.title('ROC curve (Three Hidden Layer Model)')\n",
    "plt.show()"
   ]
  },
  {
   "cell_type": "markdown",
   "metadata": {},
   "source": [
    "$$\\text{Geometric Mean} = \\sqrt[n]{\\prod_{i=1}^{n} x_i} = \\sqrt[n]{x_1 \\cdot x_2 \\cdot \\ldots \\cdot x_n}\n"
   ]
  },
  {
   "cell_type": "markdown",
   "metadata": {},
   "source": [
    "See if we can optimize accuracy by changing threshold based on optimal geometric mean (G-Mean) Ratio. Based on ROC curve above, that threshold seems to be 0.52"
   ]
  },
  {
   "cell_type": "code",
   "execution_count": 58,
   "metadata": {},
   "outputs": [
    {
     "name": "stdout",
     "output_type": "stream",
     "text": [
      "1182/1182 [==============================] - 0s 251us/step\n"
     ]
    }
   ],
   "source": [
    "preds = models[1].predict(X_test)\n",
    "prediction_classes = [1 if prob > thresholds[ix] else 0 for prob in np.ravel(preds)]"
   ]
  },
  {
   "cell_type": "code",
   "execution_count": 59,
   "metadata": {},
   "outputs": [
    {
     "name": "stdout",
     "output_type": "stream",
     "text": [
      "'dense64_dense64_dense128' Model Metrics\n",
      "------------------------------------------------------------------------------------------------------------------------------------------------------\n",
      "{'test_accuracy': 0.92, 'test_precision': 0.95, 'test_recall': 0.91, 'test_f1': 0.93}\n",
      "======================================================================================================================================================\n"
     ]
    }
   ],
   "source": [
    "metrics_dict = {'test_accuracy': np.round(accuracy_score(y_test, prediction_classes),2),\n",
    "'test_precision': np.round(precision_score(y_test, prediction_classes),2),\n",
    "'test_recall': np.round(recall_score(y_test, prediction_classes),2),\n",
    "'test_f1': np.round(f1_score(y_test, prediction_classes),2)}\n",
    "\n",
    "print(f\"'{three_layer_model._name}' Model Metrics\")\n",
    "print('-'*150)\n",
    "print(metrics_dict)\n",
    "print('='*150)"
   ]
  },
  {
   "cell_type": "code",
   "execution_count": 60,
   "metadata": {},
   "outputs": [
    {
     "name": "stdout",
     "output_type": "stream",
     "text": [
      "Confusion Matrix\n",
      "         Pred: 0  Pred: 1\n",
      "True: 0    13445     1152\n",
      "True: 1     2054    21153\n"
     ]
    }
   ],
   "source": [
    "# Confusion Matrix\n",
    "cm = confusion_matrix(y_test, prediction_classes)\n",
    "#print(cm)\n",
    "cmtx = pd.DataFrame(cm, index = ['True: 0', 'True: 1'], columns = ['Pred: 0', 'Pred: 1'])\n",
    "print('Confusion Matrix')\n",
    "print(cmtx)"
   ]
  },
  {
   "cell_type": "markdown",
   "metadata": {},
   "source": [
    "## One Hidden Layer Model for Comparison (Shallow Neural Network)"
   ]
  },
  {
   "cell_type": "code",
   "execution_count": 67,
   "metadata": {},
   "outputs": [],
   "source": [
    "singleLayerNodes = [100] # Number of nodes for the hidden layer\n",
    "\n",
    "# Initiate Sequential model\n",
    "model1 = tf.keras.Sequential()\n",
    "model1.add(tf.keras.layers.InputLayer(input_shape=(X_train.shape[1],))) # Input Layer\n",
    "model1_name = ''\n",
    "\n",
    "# Add hidden layer(s)    \n",
    "for nodes_at_layer in singleLayerNodes:\n",
    "    model1.add(tf.keras.layers.Dense(nodes_at_layer, activation='relu'))\n",
    "    model1_name += f'dense{nodes_at_layer}_'\n",
    "        \n",
    "model1.add(tf.keras.layers.Dense(1, activation='sigmoid')) # Output Layer\n",
    "model1._name = model1_name[:-1]"
   ]
  },
  {
   "cell_type": "code",
   "execution_count": 68,
   "metadata": {},
   "outputs": [
    {
     "name": "stdout",
     "output_type": "stream",
     "text": [
      "dense100\n"
     ]
    }
   ],
   "source": [
    "print(model1._name)"
   ]
  },
  {
   "cell_type": "code",
   "execution_count": 69,
   "metadata": {},
   "outputs": [
    {
     "name": "stderr",
     "output_type": "stream",
     "text": [
      "WARNING:absl:At this time, the v2.11+ optimizer `tf.keras.optimizers.Adam` runs slowly on M1/M2 Macs, please use the legacy Keras optimizer instead, located at `tf.keras.optimizers.legacy.Adam`.\n"
     ]
    },
    {
     "name": "stdout",
     "output_type": "stream",
     "text": [
      "Model: \"dense100\"\n",
      "_________________________________________________________________\n",
      " Layer (type)                Output Shape              Param #   \n",
      "=================================================================\n",
      " dense_514 (Dense)           (None, 100)               8200      \n",
      "                                                                 \n",
      " dense_515 (Dense)           (None, 1)                 101       \n",
      "                                                                 \n",
      "=================================================================\n",
      "Total params: 8301 (32.43 KB)\n",
      "Trainable params: 8301 (32.43 KB)\n",
      "Non-trainable params: 0 (0.00 Byte)\n",
      "_________________________________________________________________\n"
     ]
    }
   ],
   "source": [
    "learning_rate = 0.001\n",
    "optimizer = optimizers.Adam(learning_rate)\n",
    "model1.compile(loss=tf.keras.losses.BinaryCrossentropy(from_logits=False), \n",
    "    optimizer=optimizer, metrics=['accuracy'])\n",
    "model1.summary()"
   ]
  },
  {
   "cell_type": "code",
   "execution_count": 70,
   "metadata": {},
   "outputs": [
    {
     "name": "stdout",
     "output_type": "stream",
     "text": [
      "Epoch 1/100\n",
      "3545/3545 [==============================] - 2s 408us/step - loss: 0.4994 - accuracy: 0.7877 - val_loss: 0.4334 - val_accuracy: 0.8136\n",
      "Epoch 2/100\n",
      "3545/3545 [==============================] - 1s 375us/step - loss: 0.4314 - accuracy: 0.8160 - val_loss: 0.4216 - val_accuracy: 0.8272\n",
      "Epoch 3/100\n",
      "3545/3545 [==============================] - 1s 372us/step - loss: 0.4220 - accuracy: 0.8193 - val_loss: 0.4157 - val_accuracy: 0.8163\n",
      "Epoch 4/100\n",
      "3545/3545 [==============================] - 1s 377us/step - loss: 0.4125 - accuracy: 0.8235 - val_loss: 0.4003 - val_accuracy: 0.8283\n",
      "Epoch 5/100\n",
      "3545/3545 [==============================] - 1s 373us/step - loss: 0.4046 - accuracy: 0.8259 - val_loss: 0.3950 - val_accuracy: 0.8372\n",
      "Epoch 6/100\n",
      "3545/3545 [==============================] - 1s 372us/step - loss: 0.3922 - accuracy: 0.8296 - val_loss: 0.3865 - val_accuracy: 0.8345\n",
      "Epoch 7/100\n",
      "3545/3545 [==============================] - 1s 376us/step - loss: 0.3812 - accuracy: 0.8323 - val_loss: 0.3857 - val_accuracy: 0.8277\n",
      "Epoch 8/100\n",
      "3545/3545 [==============================] - 1s 374us/step - loss: 0.3731 - accuracy: 0.8362 - val_loss: 0.3646 - val_accuracy: 0.8420\n",
      "Epoch 9/100\n",
      "3545/3545 [==============================] - 1s 373us/step - loss: 0.3677 - accuracy: 0.8384 - val_loss: 0.3603 - val_accuracy: 0.8423\n",
      "Epoch 10/100\n",
      "3545/3545 [==============================] - 1s 372us/step - loss: 0.3652 - accuracy: 0.8406 - val_loss: 0.3583 - val_accuracy: 0.8424\n",
      "Epoch 11/100\n",
      "3545/3545 [==============================] - 1s 380us/step - loss: 0.3602 - accuracy: 0.8424 - val_loss: 0.3540 - val_accuracy: 0.8473\n",
      "Epoch 12/100\n",
      "3545/3545 [==============================] - 1s 373us/step - loss: 0.3582 - accuracy: 0.8442 - val_loss: 0.3595 - val_accuracy: 0.8459\n",
      "Epoch 13/100\n",
      "3545/3545 [==============================] - 1s 374us/step - loss: 0.3553 - accuracy: 0.8449 - val_loss: 0.3638 - val_accuracy: 0.8406\n",
      "Epoch 14/100\n",
      "3545/3545 [==============================] - 1s 374us/step - loss: 0.3530 - accuracy: 0.8461 - val_loss: 0.3844 - val_accuracy: 0.8308\n",
      "Epoch 15/100\n",
      "3545/3545 [==============================] - 1s 374us/step - loss: 0.3529 - accuracy: 0.8467 - val_loss: 0.3484 - val_accuracy: 0.8493\n",
      "Epoch 16/100\n",
      "3545/3545 [==============================] - 1s 377us/step - loss: 0.3500 - accuracy: 0.8477 - val_loss: 0.3467 - val_accuracy: 0.8500\n",
      "Epoch 17/100\n",
      "3545/3545 [==============================] - 1s 377us/step - loss: 0.3490 - accuracy: 0.8487 - val_loss: 0.3434 - val_accuracy: 0.8487\n",
      "Epoch 18/100\n",
      "3545/3545 [==============================] - 1s 374us/step - loss: 0.3484 - accuracy: 0.8490 - val_loss: 0.3499 - val_accuracy: 0.8474\n",
      "Epoch 19/100\n",
      "3545/3545 [==============================] - 1s 377us/step - loss: 0.3479 - accuracy: 0.8485 - val_loss: 0.3527 - val_accuracy: 0.8469\n",
      "Epoch 20/100\n",
      "3545/3545 [==============================] - 1s 377us/step - loss: 0.3463 - accuracy: 0.8496 - val_loss: 0.3445 - val_accuracy: 0.8494\n",
      "Epoch 21/100\n",
      "3545/3545 [==============================] - 1s 376us/step - loss: 0.3452 - accuracy: 0.8501 - val_loss: 0.3472 - val_accuracy: 0.8486\n",
      "Epoch 22/100\n",
      "3545/3545 [==============================] - 1s 376us/step - loss: 0.3450 - accuracy: 0.8501 - val_loss: 0.3449 - val_accuracy: 0.8496\n",
      "Epoch 23/100\n",
      "3545/3545 [==============================] - 1s 380us/step - loss: 0.3440 - accuracy: 0.8509 - val_loss: 0.3409 - val_accuracy: 0.8529\n",
      "Epoch 24/100\n",
      "3545/3545 [==============================] - 1s 380us/step - loss: 0.3429 - accuracy: 0.8511 - val_loss: 0.3497 - val_accuracy: 0.8483\n",
      "Epoch 25/100\n",
      "3545/3545 [==============================] - 1s 377us/step - loss: 0.3427 - accuracy: 0.8511 - val_loss: 0.3445 - val_accuracy: 0.8485\n",
      "Epoch 26/100\n",
      "3545/3545 [==============================] - 1s 377us/step - loss: 0.3421 - accuracy: 0.8519 - val_loss: 0.3399 - val_accuracy: 0.8523\n",
      "Epoch 27/100\n",
      "3545/3545 [==============================] - 1s 377us/step - loss: 0.3417 - accuracy: 0.8519 - val_loss: 0.3387 - val_accuracy: 0.8539\n",
      "Epoch 28/100\n",
      "3545/3545 [==============================] - 1s 381us/step - loss: 0.3401 - accuracy: 0.8525 - val_loss: 0.3380 - val_accuracy: 0.8541\n",
      "Epoch 29/100\n",
      "3545/3545 [==============================] - 1s 383us/step - loss: 0.3405 - accuracy: 0.8517 - val_loss: 0.3399 - val_accuracy: 0.8512\n",
      "Epoch 30/100\n",
      "3545/3545 [==============================] - 1s 378us/step - loss: 0.3399 - accuracy: 0.8526 - val_loss: 0.3670 - val_accuracy: 0.8417\n",
      "Epoch 31/100\n",
      "3545/3545 [==============================] - 1s 379us/step - loss: 0.3383 - accuracy: 0.8531 - val_loss: 0.3628 - val_accuracy: 0.8388\n",
      "Epoch 32/100\n",
      "3545/3545 [==============================] - 1s 381us/step - loss: 0.3383 - accuracy: 0.8533 - val_loss: 0.3374 - val_accuracy: 0.8545\n",
      "Epoch 33/100\n",
      "3545/3545 [==============================] - 1s 378us/step - loss: 0.3371 - accuracy: 0.8534 - val_loss: 0.3374 - val_accuracy: 0.8567\n",
      "Epoch 34/100\n",
      "3545/3545 [==============================] - 1s 384us/step - loss: 0.3370 - accuracy: 0.8535 - val_loss: 0.3491 - val_accuracy: 0.8523\n",
      "Epoch 35/100\n",
      "3545/3545 [==============================] - 1s 379us/step - loss: 0.3368 - accuracy: 0.8536 - val_loss: 0.3462 - val_accuracy: 0.8492\n",
      "Epoch 36/100\n",
      "3545/3545 [==============================] - 1s 382us/step - loss: 0.3366 - accuracy: 0.8542 - val_loss: 0.3410 - val_accuracy: 0.8505\n",
      "Epoch 37/100\n",
      "3545/3545 [==============================] - 1s 379us/step - loss: 0.3355 - accuracy: 0.8546 - val_loss: 0.3585 - val_accuracy: 0.8421\n",
      "Epoch 38/100\n",
      "3545/3545 [==============================] - 1s 379us/step - loss: 0.3352 - accuracy: 0.8546 - val_loss: 0.3412 - val_accuracy: 0.8537\n",
      "Epoch 39/100\n",
      "3545/3545 [==============================] - 1s 381us/step - loss: 0.3349 - accuracy: 0.8557 - val_loss: 0.3373 - val_accuracy: 0.8537\n",
      "Epoch 40/100\n",
      "3545/3545 [==============================] - 1s 388us/step - loss: 0.3342 - accuracy: 0.8552 - val_loss: 0.3413 - val_accuracy: 0.8508\n",
      "Epoch 41/100\n",
      "3545/3545 [==============================] - 1s 380us/step - loss: 0.3344 - accuracy: 0.8555 - val_loss: 0.3333 - val_accuracy: 0.8538\n",
      "Epoch 42/100\n",
      "3545/3545 [==============================] - 1s 377us/step - loss: 0.3330 - accuracy: 0.8565 - val_loss: 0.3345 - val_accuracy: 0.8587\n",
      "Epoch 43/100\n",
      "3545/3545 [==============================] - 1s 378us/step - loss: 0.3327 - accuracy: 0.8567 - val_loss: 0.3364 - val_accuracy: 0.8571\n",
      "Epoch 44/100\n",
      "3545/3545 [==============================] - 1s 378us/step - loss: 0.3321 - accuracy: 0.8563 - val_loss: 0.3354 - val_accuracy: 0.8520\n",
      "Epoch 45/100\n",
      "3545/3545 [==============================] - 1s 379us/step - loss: 0.3324 - accuracy: 0.8567 - val_loss: 0.3460 - val_accuracy: 0.8487\n",
      "Epoch 46/100\n",
      "3545/3545 [==============================] - 1s 375us/step - loss: 0.3313 - accuracy: 0.8568 - val_loss: 0.3639 - val_accuracy: 0.8454\n",
      "Epoch 47/100\n",
      "3545/3545 [==============================] - 1s 374us/step - loss: 0.3310 - accuracy: 0.8578 - val_loss: 0.3352 - val_accuracy: 0.8539\n",
      "Epoch 48/100\n",
      "3545/3545 [==============================] - 1s 378us/step - loss: 0.3310 - accuracy: 0.8576 - val_loss: 0.3455 - val_accuracy: 0.8479\n",
      "Epoch 49/100\n",
      "3545/3545 [==============================] - 1s 376us/step - loss: 0.3302 - accuracy: 0.8581 - val_loss: 0.3293 - val_accuracy: 0.8595\n",
      "Epoch 50/100\n",
      "3545/3545 [==============================] - 1s 380us/step - loss: 0.3303 - accuracy: 0.8575 - val_loss: 0.3305 - val_accuracy: 0.8561\n",
      "Epoch 51/100\n",
      "3545/3545 [==============================] - 1s 376us/step - loss: 0.3296 - accuracy: 0.8581 - val_loss: 0.3376 - val_accuracy: 0.8512\n",
      "Epoch 52/100\n",
      "3545/3545 [==============================] - 1s 379us/step - loss: 0.3283 - accuracy: 0.8584 - val_loss: 0.3391 - val_accuracy: 0.8558\n",
      "Epoch 53/100\n",
      "3545/3545 [==============================] - 1s 376us/step - loss: 0.3284 - accuracy: 0.8585 - val_loss: 0.3316 - val_accuracy: 0.8570\n",
      "Epoch 54/100\n",
      "3545/3545 [==============================] - 1s 377us/step - loss: 0.3283 - accuracy: 0.8584 - val_loss: 0.3256 - val_accuracy: 0.8617\n",
      "Epoch 55/100\n",
      "3545/3545 [==============================] - 1s 381us/step - loss: 0.3276 - accuracy: 0.8590 - val_loss: 0.3298 - val_accuracy: 0.8582\n",
      "Epoch 56/100\n",
      "3545/3545 [==============================] - 1s 380us/step - loss: 0.3275 - accuracy: 0.8588 - val_loss: 0.3272 - val_accuracy: 0.8600\n",
      "Epoch 57/100\n",
      "3545/3545 [==============================] - 1s 377us/step - loss: 0.3276 - accuracy: 0.8591 - val_loss: 0.3472 - val_accuracy: 0.8469\n",
      "Epoch 58/100\n",
      "3545/3545 [==============================] - 1s 377us/step - loss: 0.3273 - accuracy: 0.8591 - val_loss: 0.3380 - val_accuracy: 0.8518\n",
      "Epoch 59/100\n",
      "3545/3545 [==============================] - 1s 378us/step - loss: 0.3269 - accuracy: 0.8597 - val_loss: 0.3344 - val_accuracy: 0.8537\n",
      "Epoch 60/100\n",
      "3545/3545 [==============================] - 1s 385us/step - loss: 0.3264 - accuracy: 0.8596 - val_loss: 0.3332 - val_accuracy: 0.8587\n",
      "Epoch 61/100\n",
      "3545/3545 [==============================] - 1s 377us/step - loss: 0.3266 - accuracy: 0.8592 - val_loss: 0.3314 - val_accuracy: 0.8558\n",
      "Epoch 62/100\n",
      "3545/3545 [==============================] - 1s 378us/step - loss: 0.3250 - accuracy: 0.8602 - val_loss: 0.3369 - val_accuracy: 0.8535\n",
      "Epoch 63/100\n",
      "3545/3545 [==============================] - 1s 378us/step - loss: 0.3265 - accuracy: 0.8600 - val_loss: 0.3341 - val_accuracy: 0.8554\n",
      "Epoch 64/100\n",
      "3545/3545 [==============================] - 1s 382us/step - loss: 0.3253 - accuracy: 0.8605 - val_loss: 0.3304 - val_accuracy: 0.8558\n",
      "Epoch 65/100\n",
      "3545/3545 [==============================] - 1s 381us/step - loss: 0.3249 - accuracy: 0.8607 - val_loss: 0.3357 - val_accuracy: 0.8557\n",
      "Epoch 66/100\n",
      "3545/3545 [==============================] - 1s 378us/step - loss: 0.3240 - accuracy: 0.8608 - val_loss: 0.3271 - val_accuracy: 0.8593\n",
      "Epoch 67/100\n",
      "3545/3545 [==============================] - 1s 379us/step - loss: 0.3257 - accuracy: 0.8603 - val_loss: 0.3353 - val_accuracy: 0.8539\n",
      "Epoch 68/100\n",
      "3545/3545 [==============================] - 1s 382us/step - loss: 0.3241 - accuracy: 0.8611 - val_loss: 0.3274 - val_accuracy: 0.8613\n",
      "Epoch 69/100\n",
      "3545/3545 [==============================] - 1s 382us/step - loss: 0.3240 - accuracy: 0.8607 - val_loss: 0.3252 - val_accuracy: 0.8623\n",
      "Epoch 70/100\n",
      "3545/3545 [==============================] - 1s 379us/step - loss: 0.3239 - accuracy: 0.8612 - val_loss: 0.3354 - val_accuracy: 0.8591\n",
      "Epoch 71/100\n",
      "3545/3545 [==============================] - 1s 378us/step - loss: 0.3235 - accuracy: 0.8617 - val_loss: 0.3343 - val_accuracy: 0.8603\n",
      "Epoch 72/100\n",
      "3545/3545 [==============================] - 1s 378us/step - loss: 0.3232 - accuracy: 0.8619 - val_loss: 0.3774 - val_accuracy: 0.8272\n",
      "Epoch 73/100\n",
      "3545/3545 [==============================] - 1s 382us/step - loss: 0.3220 - accuracy: 0.8619 - val_loss: 0.3261 - val_accuracy: 0.8596\n",
      "Epoch 74/100\n",
      "3545/3545 [==============================] - 1s 387us/step - loss: 0.3224 - accuracy: 0.8621 - val_loss: 0.3292 - val_accuracy: 0.8591\n",
      "Epoch 75/100\n",
      "3545/3545 [==============================] - 1s 380us/step - loss: 0.3218 - accuracy: 0.8623 - val_loss: 0.3385 - val_accuracy: 0.8526\n",
      "Epoch 76/100\n",
      "3545/3545 [==============================] - 1s 380us/step - loss: 0.3223 - accuracy: 0.8620 - val_loss: 0.3341 - val_accuracy: 0.8548\n",
      "Epoch 77/100\n",
      "3545/3545 [==============================] - 1s 387us/step - loss: 0.3219 - accuracy: 0.8624 - val_loss: 0.3348 - val_accuracy: 0.8567\n",
      "Epoch 78/100\n",
      "3545/3545 [==============================] - 1s 381us/step - loss: 0.3220 - accuracy: 0.8619 - val_loss: 0.3356 - val_accuracy: 0.8569\n",
      "Epoch 79/100\n",
      "3545/3545 [==============================] - 1s 379us/step - loss: 0.3204 - accuracy: 0.8628 - val_loss: 0.3344 - val_accuracy: 0.8546\n",
      "Epoch 80/100\n",
      "3545/3545 [==============================] - 1s 379us/step - loss: 0.3213 - accuracy: 0.8635 - val_loss: 0.3308 - val_accuracy: 0.8561\n",
      "Epoch 81/100\n",
      "3545/3545 [==============================] - 1s 387us/step - loss: 0.3208 - accuracy: 0.8625 - val_loss: 0.3203 - val_accuracy: 0.8647\n",
      "Epoch 82/100\n",
      "3545/3545 [==============================] - 1s 380us/step - loss: 0.3216 - accuracy: 0.8623 - val_loss: 0.3343 - val_accuracy: 0.8577\n",
      "Epoch 83/100\n",
      "3545/3545 [==============================] - 1s 380us/step - loss: 0.3201 - accuracy: 0.8629 - val_loss: 0.3225 - val_accuracy: 0.8636\n",
      "Epoch 84/100\n",
      "3545/3545 [==============================] - 1s 381us/step - loss: 0.3208 - accuracy: 0.8626 - val_loss: 0.3330 - val_accuracy: 0.8566\n",
      "Epoch 85/100\n",
      "3545/3545 [==============================] - 1s 388us/step - loss: 0.3195 - accuracy: 0.8637 - val_loss: 0.3442 - val_accuracy: 0.8503\n",
      "Epoch 86/100\n",
      "3545/3545 [==============================] - 1s 381us/step - loss: 0.3208 - accuracy: 0.8623 - val_loss: 0.3279 - val_accuracy: 0.8610\n",
      "Epoch 87/100\n",
      "3545/3545 [==============================] - 1s 387us/step - loss: 0.3193 - accuracy: 0.8634 - val_loss: 0.3279 - val_accuracy: 0.8594\n",
      "Epoch 88/100\n",
      "3545/3545 [==============================] - 1s 387us/step - loss: 0.3193 - accuracy: 0.8640 - val_loss: 0.3239 - val_accuracy: 0.8632\n",
      "Epoch 89/100\n",
      "3545/3545 [==============================] - 1s 393us/step - loss: 0.3188 - accuracy: 0.8635 - val_loss: 0.3314 - val_accuracy: 0.8606\n",
      "Epoch 90/100\n",
      "3545/3545 [==============================] - 1s 387us/step - loss: 0.3190 - accuracy: 0.8638 - val_loss: 0.3221 - val_accuracy: 0.8626\n",
      "Epoch 91/100\n",
      "3545/3545 [==============================] - 1s 387us/step - loss: 0.3197 - accuracy: 0.8635 - val_loss: 0.3304 - val_accuracy: 0.8597\n",
      "Epoch 92/100\n",
      "3545/3545 [==============================] - 1s 387us/step - loss: 0.3186 - accuracy: 0.8640 - val_loss: 0.3251 - val_accuracy: 0.8610\n",
      "Epoch 93/100\n",
      "3545/3545 [==============================] - 1s 393us/step - loss: 0.3180 - accuracy: 0.8637 - val_loss: 0.3215 - val_accuracy: 0.8613\n",
      "Epoch 94/100\n",
      "3545/3545 [==============================] - 1s 386us/step - loss: 0.3180 - accuracy: 0.8647 - val_loss: 0.3273 - val_accuracy: 0.8585\n",
      "Epoch 95/100\n",
      "3545/3545 [==============================] - 1s 387us/step - loss: 0.3186 - accuracy: 0.8635 - val_loss: 0.3202 - val_accuracy: 0.8627\n",
      "Epoch 96/100\n",
      "3545/3545 [==============================] - 1s 388us/step - loss: 0.3197 - accuracy: 0.8636 - val_loss: 0.3265 - val_accuracy: 0.8599\n",
      "Epoch 97/100\n",
      "3545/3545 [==============================] - 1s 394us/step - loss: 0.3183 - accuracy: 0.8646 - val_loss: 0.3312 - val_accuracy: 0.8616\n",
      "Epoch 98/100\n",
      "3545/3545 [==============================] - 1s 387us/step - loss: 0.3180 - accuracy: 0.8642 - val_loss: 0.3260 - val_accuracy: 0.8596\n",
      "Epoch 99/100\n",
      "3545/3545 [==============================] - 1s 387us/step - loss: 0.3177 - accuracy: 0.8644 - val_loss: 0.3362 - val_accuracy: 0.8604\n",
      "Epoch 100/100\n",
      "3545/3545 [==============================] - 1s 387us/step - loss: 0.3175 - accuracy: 0.8640 - val_loss: 0.3235 - val_accuracy: 0.8615\n"
     ]
    }
   ],
   "source": [
    "# Train model\n",
    "epochs = 100\n",
    "\n",
    "history1 = model1.fit(X_train, y_train, validation_split = 0.25,epochs = epochs) #, batch_size = batch_size)"
   ]
  },
  {
   "cell_type": "code",
   "execution_count": 71,
   "metadata": {},
   "outputs": [
    {
     "name": "stdout",
     "output_type": "stream",
     "text": [
      "1182/1182 [==============================] - 0s 242us/step - loss: 0.3260 - accuracy: 0.8626\n",
      "Accuracy: 86.26\n"
     ]
    }
   ],
   "source": [
    "loss, accuracy = model1.evaluate(X_test, y_test)\n",
    "print('Accuracy: %.2f' % (accuracy*100))"
   ]
  },
  {
   "cell_type": "code",
   "execution_count": 72,
   "metadata": {},
   "outputs": [
    {
     "data": {
      "image/png": "[encoded data removed]",
      "text/plain": [
       "<Figure size 1200x600 with 1 Axes>"
      ]
     },
     "metadata": {},
     "output_type": "display_data"
    }
   ],
   "source": [
    "plt.figure(figsize=(12,6))\n",
    "plt.plot(history1.history['loss'], label = 'Train Loss', color = 'b')\n",
    "plt.plot(history1.history['accuracy'], label = 'Train Accuracy', linestyle = 'dashed', color = 'b')\n",
    "plt.plot(history1.history['val_loss'], label = 'Val loss', color = 'g')\n",
    "plt.plot(history1.history['val_accuracy'], label = 'Val Accuracy', linestyle = 'dashed', color = 'g')\n",
    "plt.title(f'Train Loss vs Val Loss {model1.name}')\n",
    "plt.xlabel('Epochs')\n",
    "plt.legend()\n",
    "plt.show()"
   ]
  },
  {
   "cell_type": "code",
   "execution_count": 73,
   "metadata": {},
   "outputs": [
    {
     "name": "stdout",
     "output_type": "stream",
     "text": [
      "1182/1182 [==============================] - 0s 228us/step\n"
     ]
    }
   ],
   "source": [
    "preds = model1.predict(X_test)\n",
    "prediction_classes = [1 if prob > 0.5 else 0 for prob in np.ravel(preds)]"
   ]
  },
  {
   "cell_type": "code",
   "execution_count": 75,
   "metadata": {},
   "outputs": [
    {
     "name": "stdout",
     "output_type": "stream",
     "text": [
      "'dense100' Model Metrics\n",
      "------------------------------------------------------------------------------------------------------------------------------------------------------\n",
      "{'test_accuracy': 0.86, 'test_precision': 0.89, 'test_recall': 0.89, 'test_f1': 0.89}\n",
      "======================================================================================================================================================\n"
     ]
    }
   ],
   "source": [
    "metrics_dict = {'test_accuracy': np.round(accuracy_score(y_test, prediction_classes),2),\n",
    "'test_precision': np.round(precision_score(y_test, prediction_classes),2),\n",
    "'test_recall': np.round(recall_score(y_test, prediction_classes),2),\n",
    "'test_f1': np.round(f1_score(y_test, prediction_classes),2)}\n",
    "\n",
    "print(f\"'{model1._name}' Model Metrics\")\n",
    "print('-'*150)\n",
    "print(metrics_dict)\n",
    "print('='*150)"
   ]
  },
  {
   "cell_type": "code",
   "execution_count": 76,
   "metadata": {},
   "outputs": [
    {
     "name": "stdout",
     "output_type": "stream",
     "text": [
      "Confusion Matrix\n",
      "         Pred: 0  Pred: 1\n",
      "True: 0    12002     2595\n",
      "True: 1     2599    20608\n"
     ]
    }
   ],
   "source": [
    "# Confusion Matrix\n",
    "cm = confusion_matrix(y_test, prediction_classes)\n",
    "#print(cm)\n",
    "cmtx = pd.DataFrame(cm, index = ['True: 0', 'True: 1'], columns = ['Pred: 0', 'Pred: 1'])\n",
    "print('Confusion Matrix')\n",
    "print(cmtx)"
   ]
  },
  {
   "cell_type": "markdown",
   "metadata": {},
   "source": [
    "We see that the accuracy is quite low and the confusion matrix shoes that nearly all test instances are being predicted as class '1'. This indicates that the even threshold of 0.5 is not adequate for this model prediction. We will find the optimal threshold by maximizing the G-Means ratio. "
   ]
  },
  {
   "cell_type": "code",
   "execution_count": 77,
   "metadata": {},
   "outputs": [
    {
     "name": "stdout",
     "output_type": "stream",
     "text": [
      "1182/1182 [==============================] - 0s 231us/step\n",
      "\n",
      "Best Threshold = 0.610274, G-Mean=0.866\n"
     ]
    },
    {
     "data": {
      "image/png": "[encoded data removed]",
      "text/plain": [
       "<Figure size 640x480 with 1 Axes>"
      ]
     },
     "metadata": {},
     "output_type": "display_data"
    }
   ],
   "source": [
    "# ROC Curve\n",
    "y_preds = model1.predict(X_test).ravel()\n",
    "fpr, tpr, thresholds = roc_curve(y_test, y_preds)\n",
    "\n",
    "# Calculate the g-mean for each threshold\n",
    "gmeans = np.sqrt(tpr * (1-fpr))\n",
    "\n",
    "# locate the index of the largest g-mean\n",
    "ix = np.argmax(gmeans)\n",
    "print('\\nBest Threshold = %f, G-Mean=%.3f' % (thresholds[ix], gmeans[ix]))\n",
    "\n",
    "\n",
    "plt.figure()\n",
    "plt.plot([0,1],[0,1],'y--', zorder = 1)\n",
    "plt.plot(fpr, tpr, marker = '.', zorder = 2)\n",
    "plt.scatter(fpr[ix], tpr[ix], marker='X', color='red', label='Best Treshold Ratio', zorder = 3)\n",
    "plt.xlabel('False \"0\" rate')\n",
    "plt.ylabel('True \"0\" rate')\n",
    "plt.title('ROC curve (One Hidden Layer Model)')\n",
    "plt.show()"
   ]
  },
  {
   "cell_type": "code",
   "execution_count": 78,
   "metadata": {},
   "outputs": [
    {
     "name": "stdout",
     "output_type": "stream",
     "text": [
      "1182/1182 [==============================] - 0s 232us/step\n"
     ]
    }
   ],
   "source": [
    "preds = model1.predict(X_test)\n",
    "prediction_classes = [1 if prob > thresholds[ix] else 0 for prob in np.ravel(preds)]"
   ]
  },
  {
   "cell_type": "code",
   "execution_count": 79,
   "metadata": {},
   "outputs": [
    {
     "name": "stdout",
     "output_type": "stream",
     "text": [
      "'dense100' Model Metrics\n",
      "------------------------------------------------------------------------------------------------------------------------------------------------------\n",
      "{'test_accuracy': 0.86, 'test_precision': 0.92, 'test_recall': 0.85, 'test_f1': 0.88}\n",
      "======================================================================================================================================================\n"
     ]
    }
   ],
   "source": [
    "metrics_dict = {'test_accuracy': np.round(accuracy_score(y_test, prediction_classes),2),\n",
    "'test_precision': np.round(precision_score(y_test, prediction_classes),2),\n",
    "'test_recall': np.round(recall_score(y_test, prediction_classes),2),\n",
    "'test_f1': np.round(f1_score(y_test, prediction_classes),2)}\n",
    "\n",
    "print(f\"'{model1._name}' Model Metrics\")\n",
    "print('-'*150)\n",
    "print(metrics_dict)\n",
    "print('='*150)"
   ]
  },
  {
   "cell_type": "code",
   "execution_count": 80,
   "metadata": {},
   "outputs": [
    {
     "name": "stdout",
     "output_type": "stream",
     "text": [
      "Confusion Matrix\n",
      "         Pred: 0  Pred: 1\n",
      "True: 0    12846     1751\n",
      "True: 1     3422    19785\n"
     ]
    }
   ],
   "source": [
    "# Confusion Matrix\n",
    "cm = confusion_matrix(y_test, prediction_classes)\n",
    "#print(cm)\n",
    "cmtx = pd.DataFrame(cm, index = ['True: 0', 'True: 1'], columns = ['Pred: 0', 'Pred: 1'])\n",
    "print('Confusion Matrix')\n",
    "print(cmtx)"
   ]
  }
 ],
 "metadata": {
  "kernelspec": {
   "display_name": "Python 3",
   "language": "python",
   "name": "python3"
  },
  "language_info": {
   "codemirror_mode": {
    "name": "ipython",
    "version": 3
   },
   "file_extension": ".py",
   "mimetype": "text/x-python",
   "name": "python",
   "nbconvert_exporter": "python",
   "pygments_lexer": "ipython3",
   "version": "3.9.18"
  },
  "orig_nbformat": 4
 },
 "nbformat": 4,
 "nbformat_minor": 2
}
